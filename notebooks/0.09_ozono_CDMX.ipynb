{
 "cells": [
  {
   "cell_type": "markdown",
   "metadata": {
    "toc": true
   },
   "source": [
    "<h1>Table of Contents<span class=\"tocSkip\"></span></h1>\n",
    "<div class=\"toc\"><ul class=\"toc-item\"><li><span><a href=\"#Init-data\" data-toc-modified-id=\"Init-data-1\"><span class=\"toc-item-num\">1&nbsp;&nbsp;</span>Init data</a></span><ul class=\"toc-item\"><li><span><a href=\"#Estaciones\" data-toc-modified-id=\"Estaciones-1.1\"><span class=\"toc-item-num\">1.1&nbsp;&nbsp;</span>Estaciones</a></span></li><li><span><a href=\"#Data-Mediciones\" data-toc-modified-id=\"Data-Mediciones-1.2\"><span class=\"toc-item-num\">1.2&nbsp;&nbsp;</span>Data Mediciones</a></span></li><li><span><a href=\"#Ozono\" data-toc-modified-id=\"Ozono-1.3\"><span class=\"toc-item-num\">1.3&nbsp;&nbsp;</span>Ozono</a></span></li></ul></li><li><span><a href=\"#Ver-mediciones-contra-latitud-(eje-Y)\" data-toc-modified-id=\"Ver-mediciones-contra-latitud-(eje-Y)-2\"><span class=\"toc-item-num\">2&nbsp;&nbsp;</span>Ver mediciones contra latitud (eje Y)</a></span></li></ul></div>"
   ]
  },
  {
   "cell_type": "code",
   "execution_count": 1,
   "metadata": {
    "ExecuteTime": {
     "end_time": "2018-09-17T17:56:14.531889Z",
     "start_time": "2018-09-17T17:56:13.634408Z"
    }
   },
   "outputs": [],
   "source": [
    "import pandas as pd\n",
    "import numpy as np\n",
    "import matplotlib.pyplot as plt\n",
    "import geopandas as gpd\n",
    "\n",
    "from tqdm import tqdm_notebook\n",
    "import requests\n",
    "import json\n",
    "\n",
    "pd.options.mode.chained_assignment = None\n",
    "\n",
    "from axo_src.utils import calcular_areas_influencia, agg_info_por_area, wgs84_to_web_mercator, get_local_from_s3\n",
    "\n",
    "%matplotlib inline"
   ]
  },
  {
   "cell_type": "markdown",
   "metadata": {},
   "source": [
    "# Init data"
   ]
  },
  {
   "cell_type": "markdown",
   "metadata": {},
   "source": [
    "## Estaciones"
   ]
  },
  {
   "cell_type": "code",
   "execution_count": 2,
   "metadata": {
    "ExecuteTime": {
     "end_time": "2018-09-17T17:56:16.546170Z",
     "start_time": "2018-09-17T17:56:16.202013Z"
    }
   },
   "outputs": [
    {
     "name": "stdout",
     "output_type": "stream",
     "text": [
      "(180, 10)\n"
     ]
    },
    {
     "data": {
      "text/html": [
       "<div>\n",
       "<style scoped>\n",
       "    .dataframe tbody tr th:only-of-type {\n",
       "        vertical-align: middle;\n",
       "    }\n",
       "\n",
       "    .dataframe tbody tr th {\n",
       "        vertical-align: top;\n",
       "    }\n",
       "\n",
       "    .dataframe thead th {\n",
       "        text-align: right;\n",
       "    }\n",
       "</style>\n",
       "<table border=\"1\" class=\"dataframe\">\n",
       "  <thead>\n",
       "    <tr style=\"text-align: right;\">\n",
       "      <th></th>\n",
       "      <th>estacionesid</th>\n",
       "      <th>cvegeo</th>\n",
       "      <th>radius</th>\n",
       "      <th>_id</th>\n",
       "      <th>lat</th>\n",
       "      <th>long</th>\n",
       "      <th>nombre</th>\n",
       "      <th>codigo</th>\n",
       "      <th>redesid</th>\n",
       "      <th>date-insert</th>\n",
       "    </tr>\n",
       "  </thead>\n",
       "  <tbody>\n",
       "    <tr>\n",
       "      <th>0</th>\n",
       "      <td>58</td>\n",
       "      <td>1000500013698027</td>\n",
       "      <td>0.001</td>\n",
       "      <td>5b8850e3e2705c1932e8300b</td>\n",
       "      <td>24.034472</td>\n",
       "      <td>-104.645028</td>\n",
       "      <td>ITD</td>\n",
       "      <td>ITD</td>\n",
       "      <td>42</td>\n",
       "      <td>2018-08-30 20:17:39.219</td>\n",
       "    </tr>\n",
       "    <tr>\n",
       "      <th>1</th>\n",
       "      <td>59</td>\n",
       "      <td>1000500014573001</td>\n",
       "      <td>0.001</td>\n",
       "      <td>5b8850e3e2705c1932e8300c</td>\n",
       "      <td>24.051556</td>\n",
       "      <td>-104.611361</td>\n",
       "      <td>IPN</td>\n",
       "      <td>IPN</td>\n",
       "      <td>42</td>\n",
       "      <td>2018-08-30 20:17:39.219</td>\n",
       "    </tr>\n",
       "    <tr>\n",
       "      <th>2</th>\n",
       "      <td>60</td>\n",
       "      <td>1000500015266011</td>\n",
       "      <td>0.001</td>\n",
       "      <td>5b8850e3e2705c1932e8300d</td>\n",
       "      <td>24.026778</td>\n",
       "      <td>-104.692975</td>\n",
       "      <td>SRNyMA</td>\n",
       "      <td>SRN</td>\n",
       "      <td>42</td>\n",
       "      <td>2018-08-30 20:17:39.219</td>\n",
       "    </tr>\n",
       "    <tr>\n",
       "      <th>3</th>\n",
       "      <td>65</td>\n",
       "      <td>1000700010166050</td>\n",
       "      <td>0.001</td>\n",
       "      <td>5b8850e3e2705c1932e8300e</td>\n",
       "      <td>25.551222</td>\n",
       "      <td>-103.502528</td>\n",
       "      <td>Campestre</td>\n",
       "      <td>CAM</td>\n",
       "      <td>43</td>\n",
       "      <td>2018-08-30 20:17:39.219</td>\n",
       "    </tr>\n",
       "    <tr>\n",
       "      <th>4</th>\n",
       "      <td>68</td>\n",
       "      <td>1100700010226014</td>\n",
       "      <td>0.001</td>\n",
       "      <td>5b8850e3e2705c1932e83011</td>\n",
       "      <td>20.517500</td>\n",
       "      <td>-100.815556</td>\n",
       "      <td>Policía</td>\n",
       "      <td>POL</td>\n",
       "      <td>45</td>\n",
       "      <td>2018-08-30 20:17:39.219</td>\n",
       "    </tr>\n",
       "  </tbody>\n",
       "</table>\n",
       "</div>"
      ],
      "text/plain": [
       "   estacionesid            cvegeo  radius                       _id  \\\n",
       "0            58  1000500013698027   0.001  5b8850e3e2705c1932e8300b   \n",
       "1            59  1000500014573001   0.001  5b8850e3e2705c1932e8300c   \n",
       "2            60  1000500015266011   0.001  5b8850e3e2705c1932e8300d   \n",
       "3            65  1000700010166050   0.001  5b8850e3e2705c1932e8300e   \n",
       "4            68  1100700010226014   0.001  5b8850e3e2705c1932e83011   \n",
       "\n",
       "         lat        long     nombre codigo  redesid              date-insert  \n",
       "0  24.034472 -104.645028        ITD    ITD       42  2018-08-30 20:17:39.219  \n",
       "1  24.051556 -104.611361        IPN    IPN       42  2018-08-30 20:17:39.219  \n",
       "2  24.026778 -104.692975     SRNyMA    SRN       42  2018-08-30 20:17:39.219  \n",
       "3  25.551222 -103.502528  Campestre    CAM       43  2018-08-30 20:17:39.219  \n",
       "4  20.517500 -100.815556    Policía    POL       45  2018-08-30 20:17:39.219  "
      ]
     },
     "execution_count": 2,
     "metadata": {},
     "output_type": "execute_result"
    }
   ],
   "source": [
    "estaciones = pd.read_csv('/data/calidad_aire_presidencia/data_estaciones_sinaica_cvegeo.csv')\n",
    "mask = (estaciones.lat.between(14, 34.5)) & (estaciones.long.between(-120, -70))\n",
    "estaciones = estaciones[mask].rename(columns={'id':'estacionesid'})\n",
    "\n",
    "print(estaciones.shape)\n",
    "estaciones.head()"
   ]
  },
  {
   "cell_type": "markdown",
   "metadata": {},
   "source": [
    "## Data Mediciones"
   ]
  },
  {
   "cell_type": "code",
   "execution_count": 3,
   "metadata": {
    "ExecuteTime": {
     "end_time": "2018-09-17T17:56:18.521695Z",
     "start_time": "2018-09-17T17:56:16.712004Z"
    }
   },
   "outputs": [
    {
     "name": "stdout",
     "output_type": "stream",
     "text": [
      "(3240000, 8)\n"
     ]
    },
    {
     "data": {
      "text/html": [
       "<div>\n",
       "<style scoped>\n",
       "    .dataframe tbody tr th:only-of-type {\n",
       "        vertical-align: middle;\n",
       "    }\n",
       "\n",
       "    .dataframe tbody tr th {\n",
       "        vertical-align: top;\n",
       "    }\n",
       "\n",
       "    .dataframe thead th {\n",
       "        text-align: right;\n",
       "    }\n",
       "</style>\n",
       "<table border=\"1\" class=\"dataframe\">\n",
       "  <thead>\n",
       "    <tr style=\"text-align: right;\">\n",
       "      <th></th>\n",
       "      <th>city</th>\n",
       "      <th>estacionesid</th>\n",
       "      <th>fecha</th>\n",
       "      <th>hora</th>\n",
       "      <th>parametro</th>\n",
       "      <th>state</th>\n",
       "      <th>validoorig</th>\n",
       "      <th>valororig</th>\n",
       "    </tr>\n",
       "  </thead>\n",
       "  <tbody>\n",
       "    <tr>\n",
       "      <th>0</th>\n",
       "      <td>Durango</td>\n",
       "      <td>58</td>\n",
       "      <td>2018-08-01</td>\n",
       "      <td>13</td>\n",
       "      <td>PM10</td>\n",
       "      <td>Durango</td>\n",
       "      <td>1</td>\n",
       "      <td>988.61</td>\n",
       "    </tr>\n",
       "    <tr>\n",
       "      <th>1</th>\n",
       "      <td>Durango</td>\n",
       "      <td>58</td>\n",
       "      <td>2018-08-01</td>\n",
       "      <td>14</td>\n",
       "      <td>PM10</td>\n",
       "      <td>Durango</td>\n",
       "      <td>1</td>\n",
       "      <td>988.61</td>\n",
       "    </tr>\n",
       "    <tr>\n",
       "      <th>2</th>\n",
       "      <td>Durango</td>\n",
       "      <td>58</td>\n",
       "      <td>2018-08-01</td>\n",
       "      <td>15</td>\n",
       "      <td>PM10</td>\n",
       "      <td>Durango</td>\n",
       "      <td>1</td>\n",
       "      <td>988.60</td>\n",
       "    </tr>\n",
       "    <tr>\n",
       "      <th>3</th>\n",
       "      <td>Durango</td>\n",
       "      <td>58</td>\n",
       "      <td>2018-08-01</td>\n",
       "      <td>16</td>\n",
       "      <td>PM10</td>\n",
       "      <td>Durango</td>\n",
       "      <td>1</td>\n",
       "      <td>988.63</td>\n",
       "    </tr>\n",
       "    <tr>\n",
       "      <th>4</th>\n",
       "      <td>Durango</td>\n",
       "      <td>58</td>\n",
       "      <td>2018-08-01</td>\n",
       "      <td>17</td>\n",
       "      <td>PM10</td>\n",
       "      <td>Durango</td>\n",
       "      <td>1</td>\n",
       "      <td>988.63</td>\n",
       "    </tr>\n",
       "  </tbody>\n",
       "</table>\n",
       "</div>"
      ],
      "text/plain": [
       "      city  estacionesid       fecha  hora parametro    state  validoorig  \\\n",
       "0  Durango            58  2018-08-01    13      PM10  Durango           1   \n",
       "1  Durango            58  2018-08-01    14      PM10  Durango           1   \n",
       "2  Durango            58  2018-08-01    15      PM10  Durango           1   \n",
       "3  Durango            58  2018-08-01    16      PM10  Durango           1   \n",
       "4  Durango            58  2018-08-01    17      PM10  Durango           1   \n",
       "\n",
       "   valororig  \n",
       "0     988.61  \n",
       "1     988.61  \n",
       "2     988.60  \n",
       "3     988.63  \n",
       "4     988.63  "
      ]
     },
     "execution_count": 3,
     "metadata": {},
     "output_type": "execute_result"
    }
   ],
   "source": [
    "mediciones = pd.read_csv('/data/calidad_aire_presidencia/data_mediciones_todas_estaciones_2.csv')\n",
    "print(mediciones.shape)\n",
    "mediciones.head()"
   ]
  },
  {
   "cell_type": "code",
   "execution_count": 4,
   "metadata": {
    "ExecuteTime": {
     "end_time": "2018-09-17T17:56:18.969279Z",
     "start_time": "2018-09-17T17:56:18.523186Z"
    },
    "scrolled": true
   },
   "outputs": [
    {
     "name": "stdout",
     "output_type": "stream",
     "text": [
      "(121, 6)\n"
     ]
    },
    {
     "data": {
      "text/html": [
       "<div>\n",
       "<style scoped>\n",
       "    .dataframe tbody tr th:only-of-type {\n",
       "        vertical-align: middle;\n",
       "    }\n",
       "\n",
       "    .dataframe tbody tr th {\n",
       "        vertical-align: top;\n",
       "    }\n",
       "\n",
       "    .dataframe thead th {\n",
       "        text-align: right;\n",
       "    }\n",
       "</style>\n",
       "<table border=\"1\" class=\"dataframe\">\n",
       "  <thead>\n",
       "    <tr style=\"text-align: right;\">\n",
       "      <th></th>\n",
       "      <th>city</th>\n",
       "      <th>state</th>\n",
       "      <th>estacionesid</th>\n",
       "      <th>lat</th>\n",
       "      <th>long</th>\n",
       "      <th>nombre</th>\n",
       "    </tr>\n",
       "  </thead>\n",
       "  <tbody>\n",
       "    <tr>\n",
       "      <th>0</th>\n",
       "      <td>Durango</td>\n",
       "      <td>Durango</td>\n",
       "      <td>58</td>\n",
       "      <td>24.034472</td>\n",
       "      <td>-104.645028</td>\n",
       "      <td>ITD</td>\n",
       "    </tr>\n",
       "    <tr>\n",
       "      <th>1</th>\n",
       "      <td>Durango</td>\n",
       "      <td>Durango</td>\n",
       "      <td>59</td>\n",
       "      <td>24.051556</td>\n",
       "      <td>-104.611361</td>\n",
       "      <td>IPN</td>\n",
       "    </tr>\n",
       "    <tr>\n",
       "      <th>2</th>\n",
       "      <td>Durango</td>\n",
       "      <td>Durango</td>\n",
       "      <td>60</td>\n",
       "      <td>24.026778</td>\n",
       "      <td>-104.692975</td>\n",
       "      <td>SRNyMA</td>\n",
       "    </tr>\n",
       "    <tr>\n",
       "      <th>3</th>\n",
       "      <td>Gómez Palacio</td>\n",
       "      <td>Durango</td>\n",
       "      <td>65</td>\n",
       "      <td>25.551222</td>\n",
       "      <td>-103.502528</td>\n",
       "      <td>Campestre</td>\n",
       "    </tr>\n",
       "    <tr>\n",
       "      <th>4</th>\n",
       "      <td>Celaya</td>\n",
       "      <td>Guanajuato</td>\n",
       "      <td>68</td>\n",
       "      <td>20.517500</td>\n",
       "      <td>-100.815556</td>\n",
       "      <td>Policía</td>\n",
       "    </tr>\n",
       "  </tbody>\n",
       "</table>\n",
       "</div>"
      ],
      "text/plain": [
       "            city       state  estacionesid        lat        long     nombre\n",
       "0        Durango     Durango            58  24.034472 -104.645028        ITD\n",
       "1        Durango     Durango            59  24.051556 -104.611361        IPN\n",
       "2        Durango     Durango            60  24.026778 -104.692975     SRNyMA\n",
       "3  Gómez Palacio     Durango            65  25.551222 -103.502528  Campestre\n",
       "4         Celaya  Guanajuato            68  20.517500 -100.815556    Policía"
      ]
     },
     "execution_count": 4,
     "metadata": {},
     "output_type": "execute_result"
    }
   ],
   "source": [
    "estaciones_ciudad = mediciones[['city', 'state', 'estacionesid']].drop_duplicates()\n",
    "estaciones_ciudad = estaciones_ciudad.merge(estaciones[['estacionesid', 'lat', 'long', 'nombre']],\n",
    "                                            on='estacionesid')\n",
    "print(estaciones_ciudad.shape)\n",
    "estaciones_ciudad.head()"
   ]
  },
  {
   "cell_type": "code",
   "execution_count": 5,
   "metadata": {
    "ExecuteTime": {
     "end_time": "2018-09-17T17:56:18.978697Z",
     "start_time": "2018-09-17T17:56:18.971018Z"
    }
   },
   "outputs": [
    {
     "data": {
      "text/plain": [
       "city\n",
       "Valle de México    32\n",
       "Monterrey          11\n",
       "Guadalajara        10\n",
       "Toluca              6\n",
       "León                3\n",
       "Name: estacionesid, dtype: int64"
      ]
     },
     "execution_count": 5,
     "metadata": {},
     "output_type": "execute_result"
    }
   ],
   "source": [
    "estaciones_ciudad.groupby('city').estacionesid.nunique().sort_values(ascending=False).head()"
   ]
  },
  {
   "cell_type": "markdown",
   "metadata": {},
   "source": [
    "## Ozono"
   ]
  },
  {
   "cell_type": "code",
   "execution_count": 6,
   "metadata": {
    "ExecuteTime": {
     "end_time": "2018-09-17T17:56:20.331833Z",
     "start_time": "2018-09-17T17:56:19.869645Z"
    }
   },
   "outputs": [
    {
     "name": "stdout",
     "output_type": "stream",
     "text": [
      "(107, 8)\n"
     ]
    },
    {
     "data": {
      "text/html": [
       "<div>\n",
       "<style scoped>\n",
       "    .dataframe tbody tr th:only-of-type {\n",
       "        vertical-align: middle;\n",
       "    }\n",
       "\n",
       "    .dataframe tbody tr th {\n",
       "        vertical-align: top;\n",
       "    }\n",
       "\n",
       "    .dataframe thead th {\n",
       "        text-align: right;\n",
       "    }\n",
       "</style>\n",
       "<table border=\"1\" class=\"dataframe\">\n",
       "  <thead>\n",
       "    <tr style=\"text-align: right;\">\n",
       "      <th></th>\n",
       "      <th>estacionesid</th>\n",
       "      <th>valororig</th>\n",
       "      <th>num_registros</th>\n",
       "      <th>validoorig</th>\n",
       "      <th>lat</th>\n",
       "      <th>long</th>\n",
       "      <th>nombre</th>\n",
       "      <th>city</th>\n",
       "    </tr>\n",
       "  </thead>\n",
       "  <tbody>\n",
       "    <tr>\n",
       "      <th>0</th>\n",
       "      <td>33</td>\n",
       "      <td>0.290461</td>\n",
       "      <td>143</td>\n",
       "      <td>1</td>\n",
       "      <td>21.883781</td>\n",
       "      <td>-102.295825</td>\n",
       "      <td>Centro</td>\n",
       "      <td>Aguascalientes</td>\n",
       "    </tr>\n",
       "    <tr>\n",
       "      <th>1</th>\n",
       "      <td>38</td>\n",
       "      <td>0.039118</td>\n",
       "      <td>2</td>\n",
       "      <td>1</td>\n",
       "      <td>32.631317</td>\n",
       "      <td>-115.444631</td>\n",
       "      <td>UABC</td>\n",
       "      <td>Mexicali</td>\n",
       "    </tr>\n",
       "    <tr>\n",
       "      <th>2</th>\n",
       "      <td>39</td>\n",
       "      <td>0.017146</td>\n",
       "      <td>5858</td>\n",
       "      <td>1</td>\n",
       "      <td>32.639722</td>\n",
       "      <td>-115.506389</td>\n",
       "      <td>COBACH</td>\n",
       "      <td>Mexicali</td>\n",
       "    </tr>\n",
       "    <tr>\n",
       "      <th>3</th>\n",
       "      <td>41</td>\n",
       "      <td>0.010098</td>\n",
       "      <td>365</td>\n",
       "      <td>1</td>\n",
       "      <td>32.603639</td>\n",
       "      <td>-115.485944</td>\n",
       "      <td>CESPM</td>\n",
       "      <td>Mexicali</td>\n",
       "    </tr>\n",
       "    <tr>\n",
       "      <th>4</th>\n",
       "      <td>46</td>\n",
       "      <td>0.021328</td>\n",
       "      <td>9040</td>\n",
       "      <td>1</td>\n",
       "      <td>32.529461</td>\n",
       "      <td>-116.921281</td>\n",
       "      <td>Laboratorio</td>\n",
       "      <td>Tijuana</td>\n",
       "    </tr>\n",
       "  </tbody>\n",
       "</table>\n",
       "</div>"
      ],
      "text/plain": [
       "   estacionesid  valororig  num_registros  validoorig        lat        long  \\\n",
       "0            33   0.290461            143           1  21.883781 -102.295825   \n",
       "1            38   0.039118              2           1  32.631317 -115.444631   \n",
       "2            39   0.017146           5858           1  32.639722 -115.506389   \n",
       "3            41   0.010098            365           1  32.603639 -115.485944   \n",
       "4            46   0.021328           9040           1  32.529461 -116.921281   \n",
       "\n",
       "        nombre            city  \n",
       "0       Centro  Aguascalientes  \n",
       "1         UABC        Mexicali  \n",
       "2       COBACH        Mexicali  \n",
       "3        CESPM        Mexicali  \n",
       "4  Laboratorio         Tijuana  "
      ]
     },
     "execution_count": 6,
     "metadata": {},
     "output_type": "execute_result"
    }
   ],
   "source": [
    "medicion_contaminante = mediciones[mediciones.parametro=='O3']\n",
    "\n",
    "# De acuerdo al análisis anterior, es buena idea filtrar valores demasiado grandes. Vamos a usar\n",
    "# como filtro el mínimo valor de ozono para establecer calidad del aire muy mala según SEMARNAT que es 0.6 ppm\n",
    "medicion_contaminante = medicion_contaminante[medicion_contaminante.valororig.between(0, 0.7)]\n",
    "\n",
    "medicion_contaminante = medicion_contaminante.groupby('estacionesid').agg({'valororig':['mean', 'count'],\n",
    "                                                                           'validoorig':'mean'}).reset_index()\n",
    "medicion_contaminante.columns = ['estacionesid', 'valororig', 'num_registros', 'validoorig']\n",
    "\n",
    "medicion_contaminante = medicion_contaminante.merge(estaciones[['estacionesid', 'lat', 'long', 'nombre']],\n",
    "                                                    on='estacionesid')\n",
    "medicion_contaminante = medicion_contaminante.merge(mediciones[['estacionesid', 'city']].drop_duplicates(),\n",
    "                                                    on='estacionesid')\n",
    "\n",
    "print(medicion_contaminante.shape)\n",
    "medicion_contaminante.head()"
   ]
  },
  {
   "cell_type": "code",
   "execution_count": 7,
   "metadata": {
    "ExecuteTime": {
     "end_time": "2018-09-17T17:56:20.383221Z",
     "start_time": "2018-09-17T17:56:20.369892Z"
    }
   },
   "outputs": [
    {
     "name": "stdout",
     "output_type": "stream",
     "text": [
      "(96, 8)\n"
     ]
    },
    {
     "data": {
      "text/html": [
       "<div>\n",
       "<style scoped>\n",
       "    .dataframe tbody tr th:only-of-type {\n",
       "        vertical-align: middle;\n",
       "    }\n",
       "\n",
       "    .dataframe tbody tr th {\n",
       "        vertical-align: top;\n",
       "    }\n",
       "\n",
       "    .dataframe thead th {\n",
       "        text-align: right;\n",
       "    }\n",
       "</style>\n",
       "<table border=\"1\" class=\"dataframe\">\n",
       "  <thead>\n",
       "    <tr style=\"text-align: right;\">\n",
       "      <th></th>\n",
       "      <th>estacionesid</th>\n",
       "      <th>valororig</th>\n",
       "      <th>num_registros</th>\n",
       "      <th>validoorig</th>\n",
       "      <th>lat</th>\n",
       "      <th>long</th>\n",
       "      <th>nombre</th>\n",
       "      <th>city</th>\n",
       "    </tr>\n",
       "  </thead>\n",
       "  <tbody>\n",
       "    <tr>\n",
       "      <th>2</th>\n",
       "      <td>39</td>\n",
       "      <td>0.017146</td>\n",
       "      <td>5858</td>\n",
       "      <td>1</td>\n",
       "      <td>32.639722</td>\n",
       "      <td>-115.506389</td>\n",
       "      <td>COBACH</td>\n",
       "      <td>Mexicali</td>\n",
       "    </tr>\n",
       "    <tr>\n",
       "      <th>4</th>\n",
       "      <td>46</td>\n",
       "      <td>0.021328</td>\n",
       "      <td>9040</td>\n",
       "      <td>1</td>\n",
       "      <td>32.529461</td>\n",
       "      <td>-116.921281</td>\n",
       "      <td>Laboratorio</td>\n",
       "      <td>Tijuana</td>\n",
       "    </tr>\n",
       "    <tr>\n",
       "      <th>5</th>\n",
       "      <td>53</td>\n",
       "      <td>0.031892</td>\n",
       "      <td>8795</td>\n",
       "      <td>1</td>\n",
       "      <td>28.632775</td>\n",
       "      <td>-106.038867</td>\n",
       "      <td>SUR</td>\n",
       "      <td>Chihuahua</td>\n",
       "    </tr>\n",
       "    <tr>\n",
       "      <th>6</th>\n",
       "      <td>54</td>\n",
       "      <td>0.038020</td>\n",
       "      <td>4970</td>\n",
       "      <td>1</td>\n",
       "      <td>28.652228</td>\n",
       "      <td>-106.085358</td>\n",
       "      <td>Centro</td>\n",
       "      <td>Chihuahua</td>\n",
       "    </tr>\n",
       "    <tr>\n",
       "      <th>7</th>\n",
       "      <td>56</td>\n",
       "      <td>0.011542</td>\n",
       "      <td>5583</td>\n",
       "      <td>1</td>\n",
       "      <td>25.522694</td>\n",
       "      <td>-103.395806</td>\n",
       "      <td>CONALEP</td>\n",
       "      <td>Torreón</td>\n",
       "    </tr>\n",
       "  </tbody>\n",
       "</table>\n",
       "</div>"
      ],
      "text/plain": [
       "   estacionesid  valororig  num_registros  validoorig        lat        long  \\\n",
       "2            39   0.017146           5858           1  32.639722 -115.506389   \n",
       "4            46   0.021328           9040           1  32.529461 -116.921281   \n",
       "5            53   0.031892           8795           1  28.632775 -106.038867   \n",
       "6            54   0.038020           4970           1  28.652228 -106.085358   \n",
       "7            56   0.011542           5583           1  25.522694 -103.395806   \n",
       "\n",
       "        nombre       city  \n",
       "2       COBACH   Mexicali  \n",
       "4  Laboratorio    Tijuana  \n",
       "5          SUR  Chihuahua  \n",
       "6       Centro  Chihuahua  \n",
       "7      CONALEP    Torreón  "
      ]
     },
     "execution_count": 7,
     "metadata": {},
     "output_type": "execute_result"
    }
   ],
   "source": [
    "mask = (medicion_contaminante.num_registros>2400)\n",
    "filtered_medicion = medicion_contaminante[mask]\n",
    "\n",
    "print(filtered_medicion.shape)\n",
    "filtered_medicion.head()"
   ]
  },
  {
   "cell_type": "markdown",
   "metadata": {},
   "source": [
    "# Ver mediciones contra latitud (eje Y)\n",
    "\n",
    "- Puede que exista evidencia de la relación entre cantidad de ozono y latitud, ver http://www.aire.cdmx.gob.mx/descargas/publicaciones/simat-cartel-comportamiento-o3.pdf"
   ]
  },
  {
   "cell_type": "code",
   "execution_count": 59,
   "metadata": {
    "ExecuteTime": {
     "end_time": "2018-09-17T18:36:27.646248Z",
     "start_time": "2018-09-17T18:36:27.637990Z"
    }
   },
   "outputs": [
    {
     "data": {
      "text/html": [
       "<div>\n",
       "<style scoped>\n",
       "    .dataframe tbody tr th:only-of-type {\n",
       "        vertical-align: middle;\n",
       "    }\n",
       "\n",
       "    .dataframe tbody tr th {\n",
       "        vertical-align: top;\n",
       "    }\n",
       "\n",
       "    .dataframe thead th {\n",
       "        text-align: right;\n",
       "    }\n",
       "</style>\n",
       "<table border=\"1\" class=\"dataframe\">\n",
       "  <thead>\n",
       "    <tr style=\"text-align: right;\">\n",
       "      <th></th>\n",
       "      <th>valororig</th>\n",
       "    </tr>\n",
       "  </thead>\n",
       "  <tbody>\n",
       "    <tr>\n",
       "      <th>estacionesid</th>\n",
       "      <td>0.377839</td>\n",
       "    </tr>\n",
       "    <tr>\n",
       "      <th>valororig</th>\n",
       "      <td>1.000000</td>\n",
       "    </tr>\n",
       "    <tr>\n",
       "      <th>num_registros</th>\n",
       "      <td>-0.068798</td>\n",
       "    </tr>\n",
       "    <tr>\n",
       "      <th>validoorig</th>\n",
       "      <td>NaN</td>\n",
       "    </tr>\n",
       "    <tr>\n",
       "      <th>lat</th>\n",
       "      <td>-0.608461</td>\n",
       "    </tr>\n",
       "    <tr>\n",
       "      <th>long</th>\n",
       "      <td>-0.310379</td>\n",
       "    </tr>\n",
       "  </tbody>\n",
       "</table>\n",
       "</div>"
      ],
      "text/plain": [
       "               valororig\n",
       "estacionesid    0.377839\n",
       "valororig       1.000000\n",
       "num_registros  -0.068798\n",
       "validoorig           NaN\n",
       "lat            -0.608461\n",
       "long           -0.310379"
      ]
     },
     "execution_count": 59,
     "metadata": {},
     "output_type": "execute_result"
    }
   ],
   "source": [
    "filtered_medicion[filtered_medicion.city=='Valle de México'].corr()[['valororig']]"
   ]
  },
  {
   "cell_type": "code",
   "execution_count": 11,
   "metadata": {
    "ExecuteTime": {
     "end_time": "2018-09-12T22:20:56.892865Z",
     "start_time": "2018-09-12T22:20:56.735485Z"
    },
    "scrolled": true
   },
   "outputs": [
    {
     "data": {
      "text/plain": [
       "<matplotlib.axes._subplots.AxesSubplot at 0x7f268f48ee80>"
      ]
     },
     "execution_count": 11,
     "metadata": {},
     "output_type": "execute_result"
    },
    {
     "data": {
      "image/png": "[encoded data removed]",
      "text/plain": [
       "<Figure size 432x288 with 1 Axes>"
      ]
     },
     "metadata": {},
     "output_type": "display_data"
    }
   ],
   "source": [
    "filtered_medicion[filtered_medicion.city=='Valle de México'].plot.scatter('lat', 'valororig')"
   ]
  },
  {
   "cell_type": "code",
   "execution_count": 42,
   "metadata": {
    "ExecuteTime": {
     "end_time": "2018-09-17T18:20:43.314888Z",
     "start_time": "2018-09-17T18:20:42.634246Z"
    }
   },
   "outputs": [
    {
     "name": "stdout",
     "output_type": "stream",
     "text": [
      "(2297, 8)\n"
     ]
    },
    {
     "data": {
      "text/html": [
       "<div>\n",
       "<style scoped>\n",
       "    .dataframe tbody tr th:only-of-type {\n",
       "        vertical-align: middle;\n",
       "    }\n",
       "\n",
       "    .dataframe tbody tr th {\n",
       "        vertical-align: top;\n",
       "    }\n",
       "\n",
       "    .dataframe thead th {\n",
       "        text-align: right;\n",
       "    }\n",
       "</style>\n",
       "<table border=\"1\" class=\"dataframe\">\n",
       "  <thead>\n",
       "    <tr style=\"text-align: right;\">\n",
       "      <th></th>\n",
       "      <th>estacionesid</th>\n",
       "      <th>hora</th>\n",
       "      <th>valororig</th>\n",
       "      <th>horario</th>\n",
       "      <th>lat</th>\n",
       "      <th>long</th>\n",
       "      <th>nombre</th>\n",
       "      <th>city</th>\n",
       "    </tr>\n",
       "  </thead>\n",
       "  <tbody>\n",
       "    <tr>\n",
       "      <th>0</th>\n",
       "      <td>39</td>\n",
       "      <td>0</td>\n",
       "      <td>0.009361</td>\n",
       "      <td>madrugada</td>\n",
       "      <td>32.639722</td>\n",
       "      <td>-115.506389</td>\n",
       "      <td>COBACH</td>\n",
       "      <td>Mexicali</td>\n",
       "    </tr>\n",
       "    <tr>\n",
       "      <th>1</th>\n",
       "      <td>39</td>\n",
       "      <td>1</td>\n",
       "      <td>0.008842</td>\n",
       "      <td>madrugada</td>\n",
       "      <td>32.639722</td>\n",
       "      <td>-115.506389</td>\n",
       "      <td>COBACH</td>\n",
       "      <td>Mexicali</td>\n",
       "    </tr>\n",
       "    <tr>\n",
       "      <th>2</th>\n",
       "      <td>39</td>\n",
       "      <td>2</td>\n",
       "      <td>0.008295</td>\n",
       "      <td>madrugada</td>\n",
       "      <td>32.639722</td>\n",
       "      <td>-115.506389</td>\n",
       "      <td>COBACH</td>\n",
       "      <td>Mexicali</td>\n",
       "    </tr>\n",
       "    <tr>\n",
       "      <th>3</th>\n",
       "      <td>39</td>\n",
       "      <td>3</td>\n",
       "      <td>0.007768</td>\n",
       "      <td>madrugada</td>\n",
       "      <td>32.639722</td>\n",
       "      <td>-115.506389</td>\n",
       "      <td>COBACH</td>\n",
       "      <td>Mexicali</td>\n",
       "    </tr>\n",
       "    <tr>\n",
       "      <th>4</th>\n",
       "      <td>39</td>\n",
       "      <td>4</td>\n",
       "      <td>0.007502</td>\n",
       "      <td>madrugada</td>\n",
       "      <td>32.639722</td>\n",
       "      <td>-115.506389</td>\n",
       "      <td>COBACH</td>\n",
       "      <td>Mexicali</td>\n",
       "    </tr>\n",
       "  </tbody>\n",
       "</table>\n",
       "</div>"
      ],
      "text/plain": [
       "   estacionesid  hora  valororig    horario        lat        long  nombre  \\\n",
       "0            39     0   0.009361  madrugada  32.639722 -115.506389  COBACH   \n",
       "1            39     1   0.008842  madrugada  32.639722 -115.506389  COBACH   \n",
       "2            39     2   0.008295  madrugada  32.639722 -115.506389  COBACH   \n",
       "3            39     3   0.007768  madrugada  32.639722 -115.506389  COBACH   \n",
       "4            39     4   0.007502  madrugada  32.639722 -115.506389  COBACH   \n",
       "\n",
       "       city  \n",
       "0  Mexicali  \n",
       "1  Mexicali  \n",
       "2  Mexicali  \n",
       "3  Mexicali  \n",
       "4  Mexicali  "
      ]
     },
     "execution_count": 42,
     "metadata": {},
     "output_type": "execute_result"
    }
   ],
   "source": [
    "mask = (mediciones.parametro=='O3') & (mediciones.estacionesid.isin(filtered_medicion.estacionesid))\n",
    "\n",
    "ozono_hora = mediciones[mask]\n",
    "\n",
    "# De acuerdo al análisis anterior, es buena idea filtrar valores demasiado grandes. Vamos a usar\n",
    "# como filtro el mínimo valor de ozono para establecer calidad del aire muy mala según SEMARNAT que es 0.6 ppm\n",
    "ozono_hora = ozono_hora[ozono_hora.valororig.between(0, 0.7)]\n",
    "\n",
    "ozono_hora['fecha'] = pd.to_datetime(ozono_hora.fecha)\n",
    "ozono_hora = ozono_hora[ozono_hora.fecha.dt.month.between(3, 5)]\n",
    "# print(ozono_hora.fecha.dt.month.unique())\n",
    "\n",
    "ozono_hora = ozono_hora.groupby(['estacionesid', 'hora']).valororig.mean().reset_index()\n",
    "horarios_map = {0:'madrugada', 1:'madrugada', 2:'madrugada', 3:'madrugada', 4:'madrugada',\n",
    "                5:'mañana', 6:'mañana', 7:'mañana', 8:'mañana', 9:'mañana',\n",
    "                10:'mediodia', 11:'mediodia', 12:'mediodia', 13:'mediodia',\n",
    "                14:'tarde', 15:'tarde', 16:'tarde', 17:'tarde', 18:'tarde',\n",
    "                19:'noche', 20:'noche', 21:'noche', 22:'noche', 23:'noche'}\n",
    "\n",
    "ozono_hora['horario'] = ozono_hora.hora.map(horarios_map)\n",
    "\n",
    "ozono_hora = ozono_hora.merge(estaciones[['estacionesid', 'lat', 'long', 'nombre']],\n",
    "                                                    on='estacionesid')\n",
    "ozono_hora = ozono_hora.merge(mediciones[['estacionesid', 'city']].drop_duplicates(),\n",
    "                                                    on='estacionesid')\n",
    "\n",
    "print(ozono_hora.shape)\n",
    "ozono_hora.head()"
   ]
  },
  {
   "cell_type": "code",
   "execution_count": 43,
   "metadata": {
    "ExecuteTime": {
     "end_time": "2018-09-17T18:20:43.794744Z",
     "start_time": "2018-09-17T18:20:43.625455Z"
    }
   },
   "outputs": [
    {
     "data": {
      "text/plain": [
       "<matplotlib.axes._subplots.AxesSubplot at 0x7f73acf3e8d0>"
      ]
     },
     "execution_count": 43,
     "metadata": {},
     "output_type": "execute_result"
    },
    {
     "data": {
      "image/png": "[encoded data removed]",
      "text/plain": [
       "<Figure size 432x288 with 1 Axes>"
      ]
     },
     "metadata": {},
     "output_type": "display_data"
    }
   ],
   "source": [
    "import seaborn as sns\n",
    "\n",
    "aux = ozono_hora[ozono_hora.city=='Valle de México']\n",
    "sns.boxplot(y='valororig', x='horario', data=aux)"
   ]
  },
  {
   "cell_type": "code",
   "execution_count": 58,
   "metadata": {
    "ExecuteTime": {
     "end_time": "2018-09-17T18:26:26.446695Z",
     "start_time": "2018-09-17T18:26:25.804962Z"
    },
    "scrolled": false
   },
   "outputs": [
    {
     "name": "stdout",
     "output_type": "stream",
     "text": [
      "madrugada -0.43021187609097206\n",
      "mañana -0.5838099625447988\n",
      "mediodia -0.42958320667714844\n",
      "noche -0.533014413899002\n",
      "tarde -0.33056987908064106\n"
     ]
    },
    {
     "data": {
      "text/plain": [
       "<matplotlib.legend.Legend at 0x7f73acc2d978>"
      ]
     },
     "execution_count": 58,
     "metadata": {},
     "output_type": "execute_result"
    },
    {
     "data": {
      "image/png": "[encoded data removed]",
      "text/plain": [
       "<Figure size 864x432 with 1 Axes>"
      ]
     },
     "metadata": {},
     "output_type": "display_data"
    }
   ],
   "source": [
    "fig, ax = plt.subplots(figsize=(12, 6))\n",
    "colors = ['r', 'k', 'y', 'g', 'b']\n",
    "\n",
    "count = 0\n",
    "for i, g in aux.groupby('horario'):\n",
    "    g['mean_valor'] = g.groupby('estacionesid').valororig.transform('mean')\n",
    "    print(i, g.corr().loc['lat', 'mean_valor'])\n",
    "    sns.regplot(x='lat', y='mean_valor', data=g, color=colors[count], label=i)\n",
    "    count+=1\n",
    "    \n",
    "ax.legend(loc=\"best\")"
   ]
  },
  {
   "cell_type": "code",
   "execution_count": null,
   "metadata": {},
   "outputs": [],
   "source": []
  }
 ],
 "metadata": {
  "kernelspec": {
   "display_name": "Python 3",
   "language": "python",
   "name": "python3"
  },
  "language_info": {
   "codemirror_mode": {
    "name": "ipython",
    "version": 3
   },
   "file_extension": ".py",
   "mimetype": "text/x-python",
   "name": "python",
   "nbconvert_exporter": "python",
   "pygments_lexer": "ipython3",
   "version": "3.6.3"
  },
  "toc": {
   "nav_menu": {
    "height": "198.984px",
    "width": "364.991px"
   },
   "number_sections": true,
   "sideBar": true,
   "skip_h1_title": false,
   "title_cell": "Table of Contents",
   "title_sidebar": "Contents",
   "toc_cell": true,
   "toc_position": {},
   "toc_section_display": true,
   "toc_window_display": false
  }
 },
 "nbformat": 4,
 "nbformat_minor": 2
}
