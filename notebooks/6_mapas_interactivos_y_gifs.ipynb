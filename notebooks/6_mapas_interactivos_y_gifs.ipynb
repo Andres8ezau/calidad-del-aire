{
 "cells": [
  {
   "cell_type": "markdown",
   "metadata": {
    "toc": true
   },
   "source": [
    "<h1>Table of Contents<span class=\"tocSkip\"></span></h1>\n",
    "<div class=\"toc\"><ul class=\"toc-item\"><li><span><a href=\"#Init-data\" data-toc-modified-id=\"Init-data-1\"><span class=\"toc-item-num\">1&nbsp;&nbsp;</span>Init data</a></span><ul class=\"toc-item\"><li><span><a href=\"#Estaciones\" data-toc-modified-id=\"Estaciones-1.1\"><span class=\"toc-item-num\">1.1&nbsp;&nbsp;</span>Estaciones</a></span></li><li><span><a href=\"#Data-Mediciones\" data-toc-modified-id=\"Data-Mediciones-1.2\"><span class=\"toc-item-num\">1.2&nbsp;&nbsp;</span>Data Mediciones</a></span></li></ul></li><li><span><a href=\"#Niveles-promedio-de-ozono-por-estación\" data-toc-modified-id=\"Niveles-promedio-de-ozono-por-estación-2\"><span class=\"toc-item-num\">2&nbsp;&nbsp;</span>Niveles promedio de ozono por estación</a></span><ul class=\"toc-item\"><li><span><a href=\"#Folium\" data-toc-modified-id=\"Folium-2.1\"><span class=\"toc-item-num\">2.1&nbsp;&nbsp;</span>Folium</a></span></li></ul></li><li><span><a href=\"#Evolución-del-ozono-por-hora\" data-toc-modified-id=\"Evolución-del-ozono-por-hora-3\"><span class=\"toc-item-num\">3&nbsp;&nbsp;</span>Evolución del ozono por hora</a></span></li></ul></div>"
   ]
  },
  {
   "cell_type": "code",
   "execution_count": 1,
   "metadata": {
    "ExecuteTime": {
     "end_time": "2018-09-19T17:36:45.897384Z",
     "start_time": "2018-09-19T17:36:45.133112Z"
    }
   },
   "outputs": [],
   "source": [
    "import pandas as pd\n",
    "import geopandas as gpd\n",
    "from joblib import Parallel, delayed\n",
    "import numpy as np\n",
    "import json\n",
    "from pathlib import Path\n",
    "import matplotlib.pyplot as plt\n",
    "import matplotlib as mpl\n",
    "\n",
    "import folium\n",
    "from shapely.geometry import Point\n",
    "import branca.colormap as cm\n",
    "\n",
    "import matplotlib.cm as mtplb_cm\n",
    "import matplotlib.colors as mcolors\n",
    "\n",
    "from PIL import Image, ImageDraw, ImageFont\n",
    "from folium import plugins\n",
    "import matplotlib.colors\n",
    "from matplotlib.colors import LinearSegmentedColormap, rgb_to_hsv, hsv_to_rgb\n",
    "import scipy.ndimage.filters\n",
    "import time\n",
    "import datetime\n",
    "import os\n",
    "import io\n",
    "\n",
    "pd.options.mode.chained_assignment = None\n",
    "\n",
    "%matplotlib inline"
   ]
  },
  {
   "cell_type": "markdown",
   "metadata": {},
   "source": [
    "# Init data"
   ]
  },
  {
   "cell_type": "markdown",
   "metadata": {},
   "source": [
    "## Estaciones"
   ]
  },
  {
   "cell_type": "code",
   "execution_count": 2,
   "metadata": {
    "ExecuteTime": {
     "end_time": "2018-09-19T17:36:45.924000Z",
     "start_time": "2018-09-19T17:36:45.898822Z"
    },
    "scrolled": true
   },
   "outputs": [
    {
     "name": "stdout",
     "output_type": "stream",
     "text": [
      "(180, 8)\n"
     ]
    },
    {
     "data": {
      "text/html": [
       "<div>\n",
       "<style scoped>\n",
       "    .dataframe tbody tr th:only-of-type {\n",
       "        vertical-align: middle;\n",
       "    }\n",
       "\n",
       "    .dataframe tbody tr th {\n",
       "        vertical-align: top;\n",
       "    }\n",
       "\n",
       "    .dataframe thead th {\n",
       "        text-align: right;\n",
       "    }\n",
       "</style>\n",
       "<table border=\"1\" class=\"dataframe\">\n",
       "  <thead>\n",
       "    <tr style=\"text-align: right;\">\n",
       "      <th></th>\n",
       "      <th>_id</th>\n",
       "      <th>lat</th>\n",
       "      <th>long</th>\n",
       "      <th>estacionesid</th>\n",
       "      <th>nombre</th>\n",
       "      <th>codigo</th>\n",
       "      <th>redesid</th>\n",
       "      <th>date-insert</th>\n",
       "    </tr>\n",
       "  </thead>\n",
       "  <tbody>\n",
       "    <tr>\n",
       "      <th>0</th>\n",
       "      <td>5b8850e3e2705c1932e82ff8</td>\n",
       "      <td>21.873311</td>\n",
       "      <td>-102.320803</td>\n",
       "      <td>31</td>\n",
       "      <td>CBTIS</td>\n",
       "      <td>CBT</td>\n",
       "      <td>30</td>\n",
       "      <td>2018-08-30 20:17:39.218</td>\n",
       "    </tr>\n",
       "    <tr>\n",
       "      <th>1</th>\n",
       "      <td>5b8850e3e2705c1932e82ff9</td>\n",
       "      <td>21.846392</td>\n",
       "      <td>-102.288431</td>\n",
       "      <td>32</td>\n",
       "      <td>Secretaría de Medio Ambiente</td>\n",
       "      <td>SMA</td>\n",
       "      <td>30</td>\n",
       "      <td>2018-08-30 20:17:39.218</td>\n",
       "    </tr>\n",
       "    <tr>\n",
       "      <th>2</th>\n",
       "      <td>5b8850e3e2705c1932e82ffa</td>\n",
       "      <td>21.883781</td>\n",
       "      <td>-102.295825</td>\n",
       "      <td>33</td>\n",
       "      <td>Centro</td>\n",
       "      <td>CEN</td>\n",
       "      <td>30</td>\n",
       "      <td>2018-08-30 20:17:39.218</td>\n",
       "    </tr>\n",
       "    <tr>\n",
       "      <th>3</th>\n",
       "      <td>5b8850e3e2705c1932e82ffb</td>\n",
       "      <td>31.859917</td>\n",
       "      <td>-116.593722</td>\n",
       "      <td>36</td>\n",
       "      <td>Secundaria</td>\n",
       "      <td>SPABC20</td>\n",
       "      <td>31</td>\n",
       "      <td>2018-08-30 20:17:39.218</td>\n",
       "    </tr>\n",
       "    <tr>\n",
       "      <th>4</th>\n",
       "      <td>5b8850e3e2705c1932e82ffc</td>\n",
       "      <td>32.631317</td>\n",
       "      <td>-115.444631</td>\n",
       "      <td>38</td>\n",
       "      <td>UABC</td>\n",
       "      <td>SPABC12</td>\n",
       "      <td>32</td>\n",
       "      <td>2018-08-30 20:17:39.218</td>\n",
       "    </tr>\n",
       "  </tbody>\n",
       "</table>\n",
       "</div>"
      ],
      "text/plain": [
       "                        _id        lat        long  estacionesid  \\\n",
       "0  5b8850e3e2705c1932e82ff8  21.873311 -102.320803            31   \n",
       "1  5b8850e3e2705c1932e82ff9  21.846392 -102.288431            32   \n",
       "2  5b8850e3e2705c1932e82ffa  21.883781 -102.295825            33   \n",
       "3  5b8850e3e2705c1932e82ffb  31.859917 -116.593722            36   \n",
       "4  5b8850e3e2705c1932e82ffc  32.631317 -115.444631            38   \n",
       "\n",
       "                         nombre   codigo  redesid              date-insert  \n",
       "0                        CBTIS       CBT       30  2018-08-30 20:17:39.218  \n",
       "1  Secretaría de Medio Ambiente      SMA       30  2018-08-30 20:17:39.218  \n",
       "2                        Centro      CEN       30  2018-08-30 20:17:39.218  \n",
       "3                    Secundaria  SPABC20       31  2018-08-30 20:17:39.218  \n",
       "4                          UABC  SPABC12       32  2018-08-30 20:17:39.218  "
      ]
     },
     "execution_count": 2,
     "metadata": {},
     "output_type": "execute_result"
    }
   ],
   "source": [
    "estaciones = pd.read_csv('/data_estaciones_sinaica.csv')\n",
    "mask = (estaciones.lat.between(14, 34.5)) & (estaciones.long.between(-120, -70))\n",
    "estaciones = estaciones[mask].rename(columns={'id':'estacionesid'})\n",
    "\n",
    "print(estaciones.shape)\n",
    "estaciones.head()"
   ]
  },
  {
   "cell_type": "markdown",
   "metadata": {},
   "source": [
    "## Data Mediciones"
   ]
  },
  {
   "cell_type": "code",
   "execution_count": 3,
   "metadata": {
    "ExecuteTime": {
     "end_time": "2018-09-19T17:36:48.573292Z",
     "start_time": "2018-09-19T17:36:46.836278Z"
    }
   },
   "outputs": [
    {
     "name": "stdout",
     "output_type": "stream",
     "text": [
      "(3240000, 8)\n"
     ]
    },
    {
     "data": {
      "text/html": [
       "<div>\n",
       "<style scoped>\n",
       "    .dataframe tbody tr th:only-of-type {\n",
       "        vertical-align: middle;\n",
       "    }\n",
       "\n",
       "    .dataframe tbody tr th {\n",
       "        vertical-align: top;\n",
       "    }\n",
       "\n",
       "    .dataframe thead th {\n",
       "        text-align: right;\n",
       "    }\n",
       "</style>\n",
       "<table border=\"1\" class=\"dataframe\">\n",
       "  <thead>\n",
       "    <tr style=\"text-align: right;\">\n",
       "      <th></th>\n",
       "      <th>city</th>\n",
       "      <th>estacionesid</th>\n",
       "      <th>fecha</th>\n",
       "      <th>hora</th>\n",
       "      <th>parametro</th>\n",
       "      <th>state</th>\n",
       "      <th>validoorig</th>\n",
       "      <th>valororig</th>\n",
       "    </tr>\n",
       "  </thead>\n",
       "  <tbody>\n",
       "    <tr>\n",
       "      <th>0</th>\n",
       "      <td>Durango</td>\n",
       "      <td>58</td>\n",
       "      <td>2018-08-01</td>\n",
       "      <td>13</td>\n",
       "      <td>PM10</td>\n",
       "      <td>Durango</td>\n",
       "      <td>1</td>\n",
       "      <td>988.61</td>\n",
       "    </tr>\n",
       "    <tr>\n",
       "      <th>1</th>\n",
       "      <td>Durango</td>\n",
       "      <td>58</td>\n",
       "      <td>2018-08-01</td>\n",
       "      <td>14</td>\n",
       "      <td>PM10</td>\n",
       "      <td>Durango</td>\n",
       "      <td>1</td>\n",
       "      <td>988.61</td>\n",
       "    </tr>\n",
       "    <tr>\n",
       "      <th>2</th>\n",
       "      <td>Durango</td>\n",
       "      <td>58</td>\n",
       "      <td>2018-08-01</td>\n",
       "      <td>15</td>\n",
       "      <td>PM10</td>\n",
       "      <td>Durango</td>\n",
       "      <td>1</td>\n",
       "      <td>988.60</td>\n",
       "    </tr>\n",
       "    <tr>\n",
       "      <th>3</th>\n",
       "      <td>Durango</td>\n",
       "      <td>58</td>\n",
       "      <td>2018-08-01</td>\n",
       "      <td>16</td>\n",
       "      <td>PM10</td>\n",
       "      <td>Durango</td>\n",
       "      <td>1</td>\n",
       "      <td>988.63</td>\n",
       "    </tr>\n",
       "    <tr>\n",
       "      <th>4</th>\n",
       "      <td>Durango</td>\n",
       "      <td>58</td>\n",
       "      <td>2018-08-01</td>\n",
       "      <td>17</td>\n",
       "      <td>PM10</td>\n",
       "      <td>Durango</td>\n",
       "      <td>1</td>\n",
       "      <td>988.63</td>\n",
       "    </tr>\n",
       "  </tbody>\n",
       "</table>\n",
       "</div>"
      ],
      "text/plain": [
       "      city  estacionesid       fecha  hora parametro    state  validoorig  \\\n",
       "0  Durango            58  2018-08-01    13      PM10  Durango           1   \n",
       "1  Durango            58  2018-08-01    14      PM10  Durango           1   \n",
       "2  Durango            58  2018-08-01    15      PM10  Durango           1   \n",
       "3  Durango            58  2018-08-01    16      PM10  Durango           1   \n",
       "4  Durango            58  2018-08-01    17      PM10  Durango           1   \n",
       "\n",
       "   valororig  \n",
       "0     988.61  \n",
       "1     988.61  \n",
       "2     988.60  \n",
       "3     988.63  \n",
       "4     988.63  "
      ]
     },
     "execution_count": 3,
     "metadata": {},
     "output_type": "execute_result"
    }
   ],
   "source": [
    "mediciones = pd.read_csv('/data_mediciones_todas_estaciones.csv')\n",
    "print(mediciones.shape)\n",
    "mediciones.head()"
   ]
  },
  {
   "cell_type": "code",
   "execution_count": 4,
   "metadata": {
    "ExecuteTime": {
     "end_time": "2018-09-19T17:36:48.998291Z",
     "start_time": "2018-09-19T17:36:48.575049Z"
    },
    "scrolled": true
   },
   "outputs": [
    {
     "name": "stdout",
     "output_type": "stream",
     "text": [
      "(123, 3)\n"
     ]
    },
    {
     "data": {
      "text/html": [
       "<div>\n",
       "<style scoped>\n",
       "    .dataframe tbody tr th:only-of-type {\n",
       "        vertical-align: middle;\n",
       "    }\n",
       "\n",
       "    .dataframe tbody tr th {\n",
       "        vertical-align: top;\n",
       "    }\n",
       "\n",
       "    .dataframe thead th {\n",
       "        text-align: right;\n",
       "    }\n",
       "</style>\n",
       "<table border=\"1\" class=\"dataframe\">\n",
       "  <thead>\n",
       "    <tr style=\"text-align: right;\">\n",
       "      <th></th>\n",
       "      <th>city</th>\n",
       "      <th>state</th>\n",
       "      <th>estacionesid</th>\n",
       "    </tr>\n",
       "  </thead>\n",
       "  <tbody>\n",
       "    <tr>\n",
       "      <th>0</th>\n",
       "      <td>Durango</td>\n",
       "      <td>Durango</td>\n",
       "      <td>58</td>\n",
       "    </tr>\n",
       "    <tr>\n",
       "      <th>6543</th>\n",
       "      <td>Durango</td>\n",
       "      <td>Durango</td>\n",
       "      <td>59</td>\n",
       "    </tr>\n",
       "    <tr>\n",
       "      <th>33554</th>\n",
       "      <td>Durango</td>\n",
       "      <td>Durango</td>\n",
       "      <td>60</td>\n",
       "    </tr>\n",
       "    <tr>\n",
       "      <th>65683</th>\n",
       "      <td>Gómez Palacio</td>\n",
       "      <td>Durango</td>\n",
       "      <td>65</td>\n",
       "    </tr>\n",
       "    <tr>\n",
       "      <th>80484</th>\n",
       "      <td>Celaya</td>\n",
       "      <td>Guanajuato</td>\n",
       "      <td>68</td>\n",
       "    </tr>\n",
       "  </tbody>\n",
       "</table>\n",
       "</div>"
      ],
      "text/plain": [
       "                city       state  estacionesid\n",
       "0            Durango     Durango            58\n",
       "6543         Durango     Durango            59\n",
       "33554        Durango     Durango            60\n",
       "65683  Gómez Palacio     Durango            65\n",
       "80484         Celaya  Guanajuato            68"
      ]
     },
     "execution_count": 4,
     "metadata": {},
     "output_type": "execute_result"
    }
   ],
   "source": [
    "estaciones_ciudad = mediciones[['city', 'state', 'estacionesid']].drop_duplicates()\n",
    "print(estaciones_ciudad.shape)\n",
    "estaciones_ciudad.head()"
   ]
  },
  {
   "cell_type": "code",
   "execution_count": 5,
   "metadata": {
    "ExecuteTime": {
     "end_time": "2018-09-19T17:36:49.006375Z",
     "start_time": "2018-09-19T17:36:49.000178Z"
    }
   },
   "outputs": [
    {
     "data": {
      "text/plain": [
       "city\n",
       "Valle de México    32\n",
       "Monterrey          11\n",
       "Guadalajara        10\n",
       "Toluca              6\n",
       "León                3\n",
       "Name: estacionesid, dtype: int64"
      ]
     },
     "execution_count": 5,
     "metadata": {},
     "output_type": "execute_result"
    }
   ],
   "source": [
    "estaciones_ciudad.groupby('city').estacionesid.nunique().sort_values(ascending=False).head()"
   ]
  },
  {
   "cell_type": "markdown",
   "metadata": {},
   "source": [
    "# Niveles promedio de ozono por estación"
   ]
  },
  {
   "cell_type": "code",
   "execution_count": 14,
   "metadata": {
    "ExecuteTime": {
     "end_time": "2018-09-18T22:59:34.319216Z",
     "start_time": "2018-09-18T22:59:33.822878Z"
    }
   },
   "outputs": [
    {
     "name": "stdout",
     "output_type": "stream",
     "text": [
      "(107, 8)\n"
     ]
    },
    {
     "data": {
      "text/html": [
       "<div>\n",
       "<style scoped>\n",
       "    .dataframe tbody tr th:only-of-type {\n",
       "        vertical-align: middle;\n",
       "    }\n",
       "\n",
       "    .dataframe tbody tr th {\n",
       "        vertical-align: top;\n",
       "    }\n",
       "\n",
       "    .dataframe thead th {\n",
       "        text-align: right;\n",
       "    }\n",
       "</style>\n",
       "<table border=\"1\" class=\"dataframe\">\n",
       "  <thead>\n",
       "    <tr style=\"text-align: right;\">\n",
       "      <th></th>\n",
       "      <th>estacionesid</th>\n",
       "      <th>valororig</th>\n",
       "      <th>num_registros</th>\n",
       "      <th>validoorig</th>\n",
       "      <th>lat</th>\n",
       "      <th>long</th>\n",
       "      <th>nombre</th>\n",
       "      <th>city</th>\n",
       "    </tr>\n",
       "  </thead>\n",
       "  <tbody>\n",
       "    <tr>\n",
       "      <th>0</th>\n",
       "      <td>33</td>\n",
       "      <td>0.290461</td>\n",
       "      <td>143</td>\n",
       "      <td>1</td>\n",
       "      <td>21.883781</td>\n",
       "      <td>-102.295825</td>\n",
       "      <td>Centro</td>\n",
       "      <td>Aguascalientes</td>\n",
       "    </tr>\n",
       "    <tr>\n",
       "      <th>1</th>\n",
       "      <td>38</td>\n",
       "      <td>0.039118</td>\n",
       "      <td>2</td>\n",
       "      <td>1</td>\n",
       "      <td>32.631317</td>\n",
       "      <td>-115.444631</td>\n",
       "      <td>UABC</td>\n",
       "      <td>Mexicali</td>\n",
       "    </tr>\n",
       "    <tr>\n",
       "      <th>2</th>\n",
       "      <td>39</td>\n",
       "      <td>0.017146</td>\n",
       "      <td>5858</td>\n",
       "      <td>1</td>\n",
       "      <td>32.639722</td>\n",
       "      <td>-115.506389</td>\n",
       "      <td>COBACH</td>\n",
       "      <td>Mexicali</td>\n",
       "    </tr>\n",
       "    <tr>\n",
       "      <th>3</th>\n",
       "      <td>41</td>\n",
       "      <td>0.010098</td>\n",
       "      <td>365</td>\n",
       "      <td>1</td>\n",
       "      <td>32.603639</td>\n",
       "      <td>-115.485944</td>\n",
       "      <td>CESPM</td>\n",
       "      <td>Mexicali</td>\n",
       "    </tr>\n",
       "    <tr>\n",
       "      <th>4</th>\n",
       "      <td>46</td>\n",
       "      <td>0.021328</td>\n",
       "      <td>9040</td>\n",
       "      <td>1</td>\n",
       "      <td>32.529461</td>\n",
       "      <td>-116.921281</td>\n",
       "      <td>Laboratorio</td>\n",
       "      <td>Tijuana</td>\n",
       "    </tr>\n",
       "  </tbody>\n",
       "</table>\n",
       "</div>"
      ],
      "text/plain": [
       "   estacionesid  valororig  num_registros  validoorig        lat        long  \\\n",
       "0            33   0.290461            143           1  21.883781 -102.295825   \n",
       "1            38   0.039118              2           1  32.631317 -115.444631   \n",
       "2            39   0.017146           5858           1  32.639722 -115.506389   \n",
       "3            41   0.010098            365           1  32.603639 -115.485944   \n",
       "4            46   0.021328           9040           1  32.529461 -116.921281   \n",
       "\n",
       "        nombre            city  \n",
       "0       Centro  Aguascalientes  \n",
       "1         UABC        Mexicali  \n",
       "2       COBACH        Mexicali  \n",
       "3        CESPM        Mexicali  \n",
       "4  Laboratorio         Tijuana  "
      ]
     },
     "execution_count": 14,
     "metadata": {},
     "output_type": "execute_result"
    }
   ],
   "source": [
    "medicion_contaminante = mediciones[mediciones.parametro=='O3']\n",
    "\n",
    "# De acuerdo al análisis anterior, es buena idea filtrar valores demasiado grandes. Vamos a usar\n",
    "# como filtro el mínimo valor de ozono para establecer calidad del aire muy mala según SEMARNAT que es 0.6 ppm\n",
    "medicion_contaminante = medicion_contaminante[medicion_contaminante.valororig.between(0, 0.7)]\n",
    "\n",
    "medicion_contaminante = medicion_contaminante.groupby('estacionesid').agg({'valororig':['mean', 'count'],\n",
    "                                                                           'validoorig':'mean'}).reset_index()\n",
    "medicion_contaminante.columns = ['estacionesid', 'valororig', 'num_registros', 'validoorig']\n",
    "\n",
    "medicion_contaminante = medicion_contaminante.merge(estaciones[['estacionesid', 'lat', 'long', 'nombre']],\n",
    "                                                    on='estacionesid')\n",
    "medicion_contaminante = medicion_contaminante.merge(mediciones[['estacionesid', 'city']].drop_duplicates(),\n",
    "                                                    on='estacionesid')\n",
    "\n",
    "print(medicion_contaminante.shape)\n",
    "medicion_contaminante.head()"
   ]
  },
  {
   "cell_type": "code",
   "execution_count": 15,
   "metadata": {
    "ExecuteTime": {
     "end_time": "2018-09-18T22:59:34.354425Z",
     "start_time": "2018-09-18T22:59:34.321343Z"
    },
    "scrolled": true
   },
   "outputs": [
    {
     "data": {
      "text/html": [
       "<div>\n",
       "<style scoped>\n",
       "    .dataframe tbody tr th:only-of-type {\n",
       "        vertical-align: middle;\n",
       "    }\n",
       "\n",
       "    .dataframe tbody tr th {\n",
       "        vertical-align: top;\n",
       "    }\n",
       "\n",
       "    .dataframe thead th {\n",
       "        text-align: right;\n",
       "    }\n",
       "</style>\n",
       "<table border=\"1\" class=\"dataframe\">\n",
       "  <thead>\n",
       "    <tr style=\"text-align: right;\">\n",
       "      <th></th>\n",
       "      <th>estacionesid</th>\n",
       "      <th>valororig</th>\n",
       "      <th>num_registros</th>\n",
       "      <th>validoorig</th>\n",
       "      <th>lat</th>\n",
       "      <th>long</th>\n",
       "    </tr>\n",
       "  </thead>\n",
       "  <tbody>\n",
       "    <tr>\n",
       "      <th>count</th>\n",
       "      <td>107.000000</td>\n",
       "      <td>107.000000</td>\n",
       "      <td>107.000000</td>\n",
       "      <td>107.0</td>\n",
       "      <td>107.000000</td>\n",
       "      <td>107.000000</td>\n",
       "    </tr>\n",
       "    <tr>\n",
       "      <th>mean</th>\n",
       "      <td>179.158879</td>\n",
       "      <td>0.031631</td>\n",
       "      <td>4905.056075</td>\n",
       "      <td>1.0</td>\n",
       "      <td>21.379544</td>\n",
       "      <td>-101.007031</td>\n",
       "    </tr>\n",
       "    <tr>\n",
       "      <th>std</th>\n",
       "      <td>105.218564</td>\n",
       "      <td>0.026933</td>\n",
       "      <td>2006.699035</td>\n",
       "      <td>0.0</td>\n",
       "      <td>3.218338</td>\n",
       "      <td>3.670120</td>\n",
       "    </tr>\n",
       "    <tr>\n",
       "      <th>min</th>\n",
       "      <td>33.000000</td>\n",
       "      <td>0.000000</td>\n",
       "      <td>2.000000</td>\n",
       "      <td>1.0</td>\n",
       "      <td>17.094667</td>\n",
       "      <td>-116.921281</td>\n",
       "    </tr>\n",
       "    <tr>\n",
       "      <th>25%</th>\n",
       "      <td>84.500000</td>\n",
       "      <td>0.024084</td>\n",
       "      <td>4174.000000</td>\n",
       "      <td>1.0</td>\n",
       "      <td>19.442569</td>\n",
       "      <td>-101.658056</td>\n",
       "    </tr>\n",
       "    <tr>\n",
       "      <th>50%</th>\n",
       "      <td>137.000000</td>\n",
       "      <td>0.030195</td>\n",
       "      <td>4887.000000</td>\n",
       "      <td>1.0</td>\n",
       "      <td>20.120556</td>\n",
       "      <td>-99.683489</td>\n",
       "    </tr>\n",
       "    <tr>\n",
       "      <th>75%</th>\n",
       "      <td>259.500000</td>\n",
       "      <td>0.034239</td>\n",
       "      <td>5740.500000</td>\n",
       "      <td>1.0</td>\n",
       "      <td>21.125694</td>\n",
       "      <td>-99.155694</td>\n",
       "    </tr>\n",
       "    <tr>\n",
       "      <th>max</th>\n",
       "      <td>427.000000</td>\n",
       "      <td>0.290461</td>\n",
       "      <td>10456.000000</td>\n",
       "      <td>1.0</td>\n",
       "      <td>32.639722</td>\n",
       "      <td>-89.624811</td>\n",
       "    </tr>\n",
       "  </tbody>\n",
       "</table>\n",
       "</div>"
      ],
      "text/plain": [
       "       estacionesid   valororig  num_registros  validoorig         lat  \\\n",
       "count    107.000000  107.000000     107.000000       107.0  107.000000   \n",
       "mean     179.158879    0.031631    4905.056075         1.0   21.379544   \n",
       "std      105.218564    0.026933    2006.699035         0.0    3.218338   \n",
       "min       33.000000    0.000000       2.000000         1.0   17.094667   \n",
       "25%       84.500000    0.024084    4174.000000         1.0   19.442569   \n",
       "50%      137.000000    0.030195    4887.000000         1.0   20.120556   \n",
       "75%      259.500000    0.034239    5740.500000         1.0   21.125694   \n",
       "max      427.000000    0.290461   10456.000000         1.0   32.639722   \n",
       "\n",
       "             long  \n",
       "count  107.000000  \n",
       "mean  -101.007031  \n",
       "std      3.670120  \n",
       "min   -116.921281  \n",
       "25%   -101.658056  \n",
       "50%    -99.683489  \n",
       "75%    -99.155694  \n",
       "max    -89.624811  "
      ]
     },
     "execution_count": 15,
     "metadata": {},
     "output_type": "execute_result"
    }
   ],
   "source": [
    "medicion_contaminante.describe()"
   ]
  },
  {
   "cell_type": "code",
   "execution_count": 16,
   "metadata": {
    "ExecuteTime": {
     "end_time": "2018-09-18T22:59:34.782934Z",
     "start_time": "2018-09-18T22:59:34.759961Z"
    }
   },
   "outputs": [
    {
     "name": "stdout",
     "output_type": "stream",
     "text": [
      "(96, 8)\n"
     ]
    },
    {
     "data": {
      "text/html": [
       "<div>\n",
       "<style scoped>\n",
       "    .dataframe tbody tr th:only-of-type {\n",
       "        vertical-align: middle;\n",
       "    }\n",
       "\n",
       "    .dataframe tbody tr th {\n",
       "        vertical-align: top;\n",
       "    }\n",
       "\n",
       "    .dataframe thead th {\n",
       "        text-align: right;\n",
       "    }\n",
       "</style>\n",
       "<table border=\"1\" class=\"dataframe\">\n",
       "  <thead>\n",
       "    <tr style=\"text-align: right;\">\n",
       "      <th></th>\n",
       "      <th>estacionesid</th>\n",
       "      <th>valororig</th>\n",
       "      <th>num_registros</th>\n",
       "      <th>validoorig</th>\n",
       "      <th>lat</th>\n",
       "      <th>long</th>\n",
       "      <th>nombre</th>\n",
       "      <th>city</th>\n",
       "    </tr>\n",
       "  </thead>\n",
       "  <tbody>\n",
       "    <tr>\n",
       "      <th>2</th>\n",
       "      <td>39</td>\n",
       "      <td>0.017146</td>\n",
       "      <td>5858</td>\n",
       "      <td>1</td>\n",
       "      <td>32.639722</td>\n",
       "      <td>-115.506389</td>\n",
       "      <td>COBACH</td>\n",
       "      <td>Mexicali</td>\n",
       "    </tr>\n",
       "    <tr>\n",
       "      <th>4</th>\n",
       "      <td>46</td>\n",
       "      <td>0.021328</td>\n",
       "      <td>9040</td>\n",
       "      <td>1</td>\n",
       "      <td>32.529461</td>\n",
       "      <td>-116.921281</td>\n",
       "      <td>Laboratorio</td>\n",
       "      <td>Tijuana</td>\n",
       "    </tr>\n",
       "    <tr>\n",
       "      <th>5</th>\n",
       "      <td>53</td>\n",
       "      <td>0.031892</td>\n",
       "      <td>8795</td>\n",
       "      <td>1</td>\n",
       "      <td>28.632775</td>\n",
       "      <td>-106.038867</td>\n",
       "      <td>SUR</td>\n",
       "      <td>Chihuahua</td>\n",
       "    </tr>\n",
       "    <tr>\n",
       "      <th>6</th>\n",
       "      <td>54</td>\n",
       "      <td>0.038020</td>\n",
       "      <td>4970</td>\n",
       "      <td>1</td>\n",
       "      <td>28.652228</td>\n",
       "      <td>-106.085358</td>\n",
       "      <td>Centro</td>\n",
       "      <td>Chihuahua</td>\n",
       "    </tr>\n",
       "    <tr>\n",
       "      <th>7</th>\n",
       "      <td>56</td>\n",
       "      <td>0.011542</td>\n",
       "      <td>5583</td>\n",
       "      <td>1</td>\n",
       "      <td>25.522694</td>\n",
       "      <td>-103.395806</td>\n",
       "      <td>CONALEP</td>\n",
       "      <td>Torreón</td>\n",
       "    </tr>\n",
       "  </tbody>\n",
       "</table>\n",
       "</div>"
      ],
      "text/plain": [
       "   estacionesid  valororig  num_registros  validoorig        lat        long  \\\n",
       "2            39   0.017146           5858           1  32.639722 -115.506389   \n",
       "4            46   0.021328           9040           1  32.529461 -116.921281   \n",
       "5            53   0.031892           8795           1  28.632775 -106.038867   \n",
       "6            54   0.038020           4970           1  28.652228 -106.085358   \n",
       "7            56   0.011542           5583           1  25.522694 -103.395806   \n",
       "\n",
       "        nombre       city  \n",
       "2       COBACH   Mexicali  \n",
       "4  Laboratorio    Tijuana  \n",
       "5          SUR  Chihuahua  \n",
       "6       Centro  Chihuahua  \n",
       "7      CONALEP    Torreón  "
      ]
     },
     "execution_count": 16,
     "metadata": {},
     "output_type": "execute_result"
    }
   ],
   "source": [
    "mask = (medicion_contaminante.num_registros>2400)\n",
    "filtered_medicion = medicion_contaminante[mask]\n",
    "\n",
    "print(filtered_medicion.shape)\n",
    "filtered_medicion.head()"
   ]
  },
  {
   "cell_type": "code",
   "execution_count": 17,
   "metadata": {
    "ExecuteTime": {
     "end_time": "2018-09-18T22:59:35.296323Z",
     "start_time": "2018-09-18T22:59:35.269360Z"
    }
   },
   "outputs": [
    {
     "data": {
      "text/html": [
       "<div>\n",
       "<style scoped>\n",
       "    .dataframe tbody tr th:only-of-type {\n",
       "        vertical-align: middle;\n",
       "    }\n",
       "\n",
       "    .dataframe tbody tr th {\n",
       "        vertical-align: top;\n",
       "    }\n",
       "\n",
       "    .dataframe thead th {\n",
       "        text-align: right;\n",
       "    }\n",
       "</style>\n",
       "<table border=\"1\" class=\"dataframe\">\n",
       "  <thead>\n",
       "    <tr style=\"text-align: right;\">\n",
       "      <th></th>\n",
       "      <th>estacionesid</th>\n",
       "      <th>valororig</th>\n",
       "      <th>num_registros</th>\n",
       "      <th>validoorig</th>\n",
       "      <th>lat</th>\n",
       "      <th>long</th>\n",
       "    </tr>\n",
       "  </thead>\n",
       "  <tbody>\n",
       "    <tr>\n",
       "      <th>count</th>\n",
       "      <td>96.000000</td>\n",
       "      <td>96.000000</td>\n",
       "      <td>96.000000</td>\n",
       "      <td>96.0</td>\n",
       "      <td>96.000000</td>\n",
       "      <td>96.000000</td>\n",
       "    </tr>\n",
       "    <tr>\n",
       "      <th>mean</th>\n",
       "      <td>180.635417</td>\n",
       "      <td>0.029606</td>\n",
       "      <td>5346.187500</td>\n",
       "      <td>1.0</td>\n",
       "      <td>20.967580</td>\n",
       "      <td>-100.619271</td>\n",
       "    </tr>\n",
       "    <tr>\n",
       "      <th>std</th>\n",
       "      <td>99.778821</td>\n",
       "      <td>0.007263</td>\n",
       "      <td>1579.755113</td>\n",
       "      <td>0.0</td>\n",
       "      <td>2.840620</td>\n",
       "      <td>3.180649</td>\n",
       "    </tr>\n",
       "    <tr>\n",
       "      <th>min</th>\n",
       "      <td>39.000000</td>\n",
       "      <td>0.009592</td>\n",
       "      <td>2424.000000</td>\n",
       "      <td>1.0</td>\n",
       "      <td>17.094667</td>\n",
       "      <td>-116.921281</td>\n",
       "    </tr>\n",
       "    <tr>\n",
       "      <th>25%</th>\n",
       "      <td>89.250000</td>\n",
       "      <td>0.024368</td>\n",
       "      <td>4422.500000</td>\n",
       "      <td>1.0</td>\n",
       "      <td>19.401472</td>\n",
       "      <td>-101.380208</td>\n",
       "    </tr>\n",
       "    <tr>\n",
       "      <th>50%</th>\n",
       "      <td>137.500000</td>\n",
       "      <td>0.030665</td>\n",
       "      <td>4994.500000</td>\n",
       "      <td>1.0</td>\n",
       "      <td>19.956111</td>\n",
       "      <td>-99.568431</td>\n",
       "    </tr>\n",
       "    <tr>\n",
       "      <th>75%</th>\n",
       "      <td>259.250000</td>\n",
       "      <td>0.034222</td>\n",
       "      <td>5852.750000</td>\n",
       "      <td>1.0</td>\n",
       "      <td>20.694510</td>\n",
       "      <td>-99.117778</td>\n",
       "    </tr>\n",
       "    <tr>\n",
       "      <th>max</th>\n",
       "      <td>425.000000</td>\n",
       "      <td>0.046619</td>\n",
       "      <td>10456.000000</td>\n",
       "      <td>1.0</td>\n",
       "      <td>32.639722</td>\n",
       "      <td>-89.624811</td>\n",
       "    </tr>\n",
       "  </tbody>\n",
       "</table>\n",
       "</div>"
      ],
      "text/plain": [
       "       estacionesid  valororig  num_registros  validoorig        lat  \\\n",
       "count     96.000000  96.000000      96.000000        96.0  96.000000   \n",
       "mean     180.635417   0.029606    5346.187500         1.0  20.967580   \n",
       "std       99.778821   0.007263    1579.755113         0.0   2.840620   \n",
       "min       39.000000   0.009592    2424.000000         1.0  17.094667   \n",
       "25%       89.250000   0.024368    4422.500000         1.0  19.401472   \n",
       "50%      137.500000   0.030665    4994.500000         1.0  19.956111   \n",
       "75%      259.250000   0.034222    5852.750000         1.0  20.694510   \n",
       "max      425.000000   0.046619   10456.000000         1.0  32.639722   \n",
       "\n",
       "             long  \n",
       "count   96.000000  \n",
       "mean  -100.619271  \n",
       "std      3.180649  \n",
       "min   -116.921281  \n",
       "25%   -101.380208  \n",
       "50%    -99.568431  \n",
       "75%    -99.117778  \n",
       "max    -89.624811  "
      ]
     },
     "execution_count": 17,
     "metadata": {},
     "output_type": "execute_result"
    }
   ],
   "source": [
    "filtered_medicion.describe()"
   ]
  },
  {
   "cell_type": "markdown",
   "metadata": {},
   "source": [
    "## Folium"
   ]
  },
  {
   "cell_type": "code",
   "execution_count": 18,
   "metadata": {
    "ExecuteTime": {
     "end_time": "2018-09-18T22:59:36.717370Z",
     "start_time": "2018-09-18T22:59:36.709283Z"
    }
   },
   "outputs": [
    {
     "data": {
      "text/plain": [
       "count       96.000000\n",
       "mean      5346.187500\n",
       "std       1579.755113\n",
       "min       2424.000000\n",
       "25%       4422.500000\n",
       "50%       4994.500000\n",
       "75%       5852.750000\n",
       "max      10456.000000\n",
       "Name: num_registros, dtype: float64"
      ]
     },
     "execution_count": 18,
     "metadata": {},
     "output_type": "execute_result"
    }
   ],
   "source": [
    "filtered_medicion.num_registros.describe()"
   ]
  },
  {
   "cell_type": "code",
   "execution_count": 59,
   "metadata": {
    "ExecuteTime": {
     "end_time": "2018-09-18T23:20:53.716157Z",
     "start_time": "2018-09-18T23:20:53.461490Z"
    }
   },
   "outputs": [
    {
     "data": {
      "text/html": [
       "<div style=\"width:100%;\"><div style=\"position:relative;width:100%;height:0;padding-bottom:60%;\"><iframe src=\"data:text/html;charset=utf-8;base64,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\" style=\"position:absolute;width:100%;height:100%;left:0;top:0;border:none !important;\" allowfullscreen webkitallowfullscreen mozallowfullscreen></iframe></div></div>"
      ],
      "text/plain": [
       "<folium.folium.Map at 0x7f76f3023c88>"
      ]
     },
     "execution_count": 59,
     "metadata": {},
     "output_type": "execute_result"
    }
   ],
   "source": [
    "centro_lat, centro_lon = 22.396092, -101.731430\n",
    "folium_map = folium.Map(location=[centro_lat, centro_lon], zoom_start=5, tiles='cartodb positron')\n",
    "\n",
    "colormap = cm.LinearColormap(list(map(mcolors.to_hex, mtplb_cm.inferno.colors)),\n",
    "                             vmin=filtered_medicion.valororig.min(),\n",
    "                             vmax=filtered_medicion.valororig.max()).to_step(10)\n",
    "\n",
    "colormap.caption = 'Valor promedio de O3 por estacion'\n",
    "\n",
    "filtered_medicion['color'] = filtered_medicion.valororig.map(colormap)\n",
    "\n",
    "for i, row in filtered_medicion.iterrows():\n",
    "    \n",
    "    # generate the popup message that is shown on click.\n",
    "    popup_text = \"<b> Valor O3 promedio: </b> %.03f <br>\" %row.valororig\n",
    "    popup_text += f\" <b> Conteo de registros para O3: </b> {row.num_registros} <br> \\\n",
    "    <b> Nombre: </b> {row.nombre} <br> <b> Ciudad: </b> {row.city} <br>\"\n",
    "    \n",
    "    radius = (4*(row.num_registros - 2424)/(10456.000000 - 2424) + 0.7)**2\n",
    "    folium.CircleMarker(location=[row.lat, row.long], radius=5, tooltip=popup_text,\n",
    "                        color=row.color, fill=True, fill_opacity=0.8).add_to(folium_map)\n",
    "    \n",
    "folium_map.add_child(colormap)    \n",
    "\n",
    "folium_map.save('../mapa_niveles_de_ozono_promedio_estaciones.html')\n",
    "\n",
    "folium_map"
   ]
  },
  {
   "cell_type": "markdown",
   "metadata": {},
   "source": [
    "# Evolución del ozono por hora\n",
    "\n",
    "Se generaron dos GIFs, uno para la ciudad de México y otro para Guadalajara. Esto se corrió dos veces, uno para generar el GIF de CDMX y otro para Guadalajara.\n",
    "\n",
    "Basado en [este post](https://blog.prototypr.io/interactive-maps-in-python-part-3-29f14a9b2f7d)"
   ]
  },
  {
   "cell_type": "code",
   "execution_count": 48,
   "metadata": {
    "ExecuteTime": {
     "end_time": "2018-09-19T18:03:05.500303Z",
     "start_time": "2018-09-19T18:03:05.487661Z"
    }
   },
   "outputs": [],
   "source": [
    "def plot_map(df_medicion, colored=False, zoom_start=10):\n",
    "    \n",
    "    folium_map = folium.Map(location=[lon_center, lat_center],\n",
    "                            tiles='cartodb positron', zoom_start=zoom_start)\n",
    "\n",
    "    for i, row in df_medicion.iterrows():\n",
    "        if colored:\n",
    "            \n",
    "            folium.CircleMarker(location=[row.lat, row.long], radius=row.radius, color=row.color,\n",
    "                                fill=True, fill_opacity=0.4).add_to(folium_map)\n",
    "            folium_map.add_child(colormap)    \n",
    "            \n",
    "        else:\n",
    "            folium.CircleMarker(location=[row.lat, row.long], radius=row.radius, color=\"#0A8A9F\",\n",
    "                                fill=True, fill_opacity=0.4).add_to(folium_map)\n",
    "\n",
    "\n",
    "    return folium_map"
   ]
  },
  {
   "cell_type": "code",
   "execution_count": 10,
   "metadata": {
    "ExecuteTime": {
     "end_time": "2018-09-19T17:37:20.455988Z",
     "start_time": "2018-09-19T17:37:20.413273Z"
    }
   },
   "outputs": [],
   "source": [
    "def make_hourly_interpolations_df(estacion_data, hora):\n",
    "    \n",
    "    hora_min = int(hora)\n",
    "    hora_max = int(hora)+1\n",
    "    \n",
    "    # Manejamos cambio de día de las 23 a las 0 horas por separado\n",
    "    if hora_max==24:\n",
    "        hora_min = 23\n",
    "        hora_max = 0\n",
    "        \n",
    "    data_hora = estacion_data[estacion_data.hora.isin([hora_min, hora_max])]\n",
    "    \n",
    "    x0 = data_hora[data_hora.hora==hora_min].valororig.values\n",
    "    x1 = data_hora[data_hora.hora==hora_max].valororig.values\n",
    "    \n",
    "    interpolated_df = [data_hora[data_hora.hora==hora_min]]\n",
    "    \n",
    "    for h in [1+i*.2 for i in range(1, 5)]:   \n",
    "        try:\n",
    "            new_row = data_hora.copy()[0:1]\n",
    "            new_row['hora'] = hora+(h%1)\n",
    "            new_row['valororig'] = x0*(1-h%1)+x1*(h%1)\n",
    "\n",
    "            interpolated_df.append(new_row)\n",
    "            \n",
    "        except ValueError:\n",
    "            display(data_hora)\n",
    "            \n",
    "    interpolated_df.append(data_hora[data_hora.hora==hora_max])\n",
    "        \n",
    "    return pd.concat(interpolated_df, ignore_index=True)\n",
    "\n",
    "def make_daily_interpolations_df(data_estacion):\n",
    "    interpolated_data = []\n",
    "    for h in range(0, 24):\n",
    "        aux = make_hourly_interpolations_df(data_estacion, h)\n",
    "        interpolated_data.append(aux)\n",
    "    \n",
    "    interpolated_data = pd.concat(interpolated_data, ignore_index=True).drop_duplicates()\n",
    "    \n",
    "    return interpolated_data"
   ]
  },
  {
   "cell_type": "code",
   "execution_count": 92,
   "metadata": {
    "ExecuteTime": {
     "end_time": "2018-09-19T19:33:45.521137Z",
     "start_time": "2018-09-19T19:33:45.463241Z"
    }
   },
   "outputs": [],
   "source": [
    "import warnings\n",
    "warnings.filterwarnings(\"ignore\")\n",
    "\n",
    "from time import sleep\n",
    "from shapely.geometry import Point, Polygon, MultiPoint\n",
    "\n",
    "def go_ozone_frame(i, hour_of_day, data, save_path, title, zoom):\n",
    "    \n",
    "    # create the map object\n",
    "    hour_data = data[data.hora==hour_of_day]\n",
    "    my_frame = plot_map(hour_data, colored=True, zoom_start=zoom)\n",
    "    # Ponemos esto para correrlo en paralelo y que de tiempo de cargar los datos\n",
    "    sleep(1.5)\n",
    "    \n",
    "    # generate the png file as a byte array\n",
    "    png = my_frame._to_png()\n",
    "    \n",
    "    #  now add a caption to the image to indicate the time-of-day.\n",
    "    hour = int(hour_of_day)\n",
    "    minutes = round((hour_of_day % 1) * 60)\n",
    "    \n",
    "    # create a PIL image object\n",
    "    image = Image.open(io.BytesIO(png))\n",
    "    draw = ImageDraw.ImageDraw(image)\n",
    "    \n",
    "    # load a font\n",
    "    font = ImageFont.truetype('/usr/share/fonts/truetype/ancient-scripts/Symbola_hint.ttf', size=30)\n",
    "    \n",
    "     # draw time of day text\n",
    "    draw.text((20,image.height - 50), \n",
    "              \"Hora: {:0>2}:{:0>2}\".format(hour, minutes),\n",
    "              fill=(0, 0, 0), \n",
    "              font=font)\n",
    "    \n",
    "    # draw title\n",
    "    draw.text((100, 20), \n",
    "              title,\n",
    "              fill=(0, 0, 0), \n",
    "              font=font)\n",
    "    \n",
    "    # write to a png file\n",
    "    filename = os.path.join(save_path, \"frame_{:0>5}.png\".format(i))\n",
    "    image.save(filename, \"PNG\")\n",
    "    return"
   ]
  },
  {
   "cell_type": "code",
   "execution_count": 115,
   "metadata": {
    "ExecuteTime": {
     "end_time": "2018-09-19T19:54:15.952567Z",
     "start_time": "2018-09-19T19:54:10.385930Z"
    }
   },
   "outputs": [
    {
     "name": "stdout",
     "output_type": "stream",
     "text": [
      "(3840, 9) 32\n"
     ]
    },
    {
     "data": {
      "text/html": [
       "<div>\n",
       "<style scoped>\n",
       "    .dataframe tbody tr th:only-of-type {\n",
       "        vertical-align: middle;\n",
       "    }\n",
       "\n",
       "    .dataframe tbody tr th {\n",
       "        vertical-align: top;\n",
       "    }\n",
       "\n",
       "    .dataframe thead th {\n",
       "        text-align: right;\n",
       "    }\n",
       "</style>\n",
       "<table border=\"1\" class=\"dataframe\">\n",
       "  <thead>\n",
       "    <tr style=\"text-align: right;\">\n",
       "      <th></th>\n",
       "      <th>estacionesid</th>\n",
       "      <th>hora</th>\n",
       "      <th>valororig</th>\n",
       "      <th>num_registros</th>\n",
       "      <th>lat</th>\n",
       "      <th>long</th>\n",
       "      <th>nombre</th>\n",
       "      <th>radius</th>\n",
       "      <th>color</th>\n",
       "    </tr>\n",
       "  </thead>\n",
       "  <tbody>\n",
       "    <tr>\n",
       "      <th>0</th>\n",
       "      <td>240</td>\n",
       "      <td>0.0</td>\n",
       "      <td>0.016595</td>\n",
       "      <td>79</td>\n",
       "      <td>19.635556</td>\n",
       "      <td>-98.912222</td>\n",
       "      <td>Acolman</td>\n",
       "      <td>5.331458</td>\n",
       "      <td>#1b0c41</td>\n",
       "    </tr>\n",
       "    <tr>\n",
       "      <th>1</th>\n",
       "      <td>240</td>\n",
       "      <td>0.2</td>\n",
       "      <td>0.014969</td>\n",
       "      <td>79</td>\n",
       "      <td>19.635556</td>\n",
       "      <td>-98.912222</td>\n",
       "      <td>Acolman</td>\n",
       "      <td>4.738255</td>\n",
       "      <td>#1b0c41</td>\n",
       "    </tr>\n",
       "    <tr>\n",
       "      <th>2</th>\n",
       "      <td>240</td>\n",
       "      <td>0.4</td>\n",
       "      <td>0.013343</td>\n",
       "      <td>79</td>\n",
       "      <td>19.635556</td>\n",
       "      <td>-98.912222</td>\n",
       "      <td>Acolman</td>\n",
       "      <td>4.168849</td>\n",
       "      <td>#1b0c41</td>\n",
       "    </tr>\n",
       "    <tr>\n",
       "      <th>3</th>\n",
       "      <td>240</td>\n",
       "      <td>0.6</td>\n",
       "      <td>0.011717</td>\n",
       "      <td>79</td>\n",
       "      <td>19.635556</td>\n",
       "      <td>-98.912222</td>\n",
       "      <td>Acolman</td>\n",
       "      <td>3.624277</td>\n",
       "      <td>#1b0c41</td>\n",
       "    </tr>\n",
       "    <tr>\n",
       "      <th>4</th>\n",
       "      <td>240</td>\n",
       "      <td>0.8</td>\n",
       "      <td>0.010091</td>\n",
       "      <td>79</td>\n",
       "      <td>19.635556</td>\n",
       "      <td>-98.912222</td>\n",
       "      <td>Acolman</td>\n",
       "      <td>3.105728</td>\n",
       "      <td>#000004</td>\n",
       "    </tr>\n",
       "  </tbody>\n",
       "</table>\n",
       "</div>"
      ],
      "text/plain": [
       "   estacionesid  hora  valororig  num_registros        lat       long  \\\n",
       "0           240   0.0   0.016595             79  19.635556 -98.912222   \n",
       "1           240   0.2   0.014969             79  19.635556 -98.912222   \n",
       "2           240   0.4   0.013343             79  19.635556 -98.912222   \n",
       "3           240   0.6   0.011717             79  19.635556 -98.912222   \n",
       "4           240   0.8   0.010091             79  19.635556 -98.912222   \n",
       "\n",
       "    nombre    radius    color  \n",
       "0  Acolman  5.331458  #1b0c41  \n",
       "1  Acolman  4.738255  #1b0c41  \n",
       "2  Acolman  4.168849  #1b0c41  \n",
       "3  Acolman  3.624277  #1b0c41  \n",
       "4  Acolman  3.105728  #000004  "
      ]
     },
     "execution_count": 115,
     "metadata": {},
     "output_type": "execute_result"
    }
   ],
   "source": [
    "# Cambiar el nombre de la ciudad aquí para generar otros gifs\n",
    "o3_hora = mediciones[(mediciones.city=='Valle de México') & (mediciones.parametro=='O3')]\n",
    "o3_hora = o3_hora.groupby(['estacionesid', 'hora']).agg({'valororig':['mean', 'count']}).reset_index()\n",
    "o3_hora.columns = ['estacionesid', 'hora', 'valororig', 'num_registros']\n",
    "o3_hora = o3_hora.merge(estaciones[['lat', 'long', 'nombre', 'estacionesid']], on='estacionesid')\n",
    "\n",
    "sc_o3_hora = o3_hora.copy()\n",
    "sc_o3_hora['radius'] = np.sqrt((12*(sc_o3_hora.valororig - \n",
    "                        sc_o3_hora.valororig.min())/(sc_o3_hora.valororig.max() - \n",
    "                                                  sc_o3_hora.valororig.min()) + 1)**3)\n",
    "\n",
    "o3_hora = o3_hora.groupby('estacionesid').apply(make_daily_interpolations_df).reset_index(drop=True)\n",
    "\n",
    "o3_hora['radius'] = np.sqrt((12*(o3_hora.valororig - \n",
    "                        o3_hora.valororig.min())/(o3_hora.valororig.max() - \n",
    "                                                  o3_hora.valororig.min()) + 1)**3)\n",
    "\n",
    "colormap = cm.LinearColormap(list(map(mcolors.to_hex, mtplb_cm.inferno.colors)),\n",
    "                             vmin=o3_hora.valororig.min(),\n",
    "                             vmax=o3_hora.valororig.max()).to_step(10)\n",
    "\n",
    "colormap.caption = 'Valor horario promedio de O3'\n",
    "\n",
    "o3_hora['color'] = o3_hora.valororig.map(colormap)\n",
    "\n",
    "# Vamos a usar esto para centrar el mapa\n",
    "aux = o3_hora[['lat', 'long']].values\n",
    "centroid = MultiPoint(aux).convex_hull.centroid\n",
    "lat_center, lon_center = centroid.y, centroid.x\n",
    "\n",
    "print(o3_hora.shape, o3_hora.estacionesid.nunique())\n",
    "o3_hora.head()"
   ]
  },
  {
   "cell_type": "code",
   "execution_count": 116,
   "metadata": {
    "ExecuteTime": {
     "end_time": "2018-09-19T19:54:16.224764Z",
     "start_time": "2018-09-19T19:54:15.953856Z"
    }
   },
   "outputs": [
    {
     "data": {
      "text/plain": [
       "<matplotlib.axes._subplots.AxesSubplot at 0x7f84c83f24e0>"
      ]
     },
     "execution_count": 116,
     "metadata": {},
     "output_type": "execute_result"
    },
    {
     "data": {
      "image/png": "[encoded data removed]",
      "text/plain": [
       "<Figure size 1008x360 with 2 Axes>"
      ]
     },
     "metadata": {},
     "output_type": "display_data"
    }
   ],
   "source": [
    "# Sanity Check\n",
    "fig, ax = plt.subplots(1, 2, figsize=(14, 5))\n",
    "aux_ax = ax.flatten()\n",
    "sc_o3_hora.plot.scatter(x='hora', y='radius', ax=aux_ax[0])\n",
    "o3_hora.plot.scatter(x='hora', y='radius', ax=aux_ax[1])"
   ]
  },
  {
   "cell_type": "code",
   "execution_count": 118,
   "metadata": {
    "ExecuteTime": {
     "end_time": "2018-09-19T19:54:21.592440Z",
     "start_time": "2018-09-19T19:54:21.554012Z"
    }
   },
   "outputs": [
    {
     "data": {
      "text/html": [
       "<div style=\"width:100%;\"><div style=\"position:relative;width:100%;height:0;padding-bottom:60%;\"><iframe src=\"data:text/html;charset=utf-8;base64,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\" style=\"position:absolute;width:100%;height:100%;left:0;top:0;border:none !important;\" allowfullscreen webkitallowfullscreen mozallowfullscreen></iframe></div></div>"
      ],
      "text/plain": [
       "<folium.folium.Map at 0x7f84c8329ba8>"
      ]
     },
     "execution_count": 118,
     "metadata": {},
     "output_type": "execute_result"
    }
   ],
   "source": [
    "plot_map(o3_hora[o3_hora.hora==16], colored=True, zoom_start=10)"
   ]
  },
  {
   "cell_type": "code",
   "execution_count": 119,
   "metadata": {
    "ExecuteTime": {
     "end_time": "2018-09-19T19:54:25.326880Z",
     "start_time": "2018-09-19T19:54:25.284961Z"
    }
   },
   "outputs": [
    {
     "data": {
      "text/html": [
       "<div style=\"width:100%;\"><div style=\"position:relative;width:100%;height:0;padding-bottom:60%;\"><iframe src=\"data:text/html;charset=utf-8;base64,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\" style=\"position:absolute;width:100%;height:100%;left:0;top:0;border:none !important;\" allowfullscreen webkitallowfullscreen mozallowfullscreen></iframe></div></div>"
      ],
      "text/plain": [
       "<folium.folium.Map at 0x7f84c83823c8>"
      ]
     },
     "execution_count": 119,
     "metadata": {},
     "output_type": "execute_result"
    }
   ],
   "source": [
    "plot_map(o3_hora[o3_hora.hora==3], colored=True, zoom_start=10)"
   ]
  },
  {
   "cell_type": "code",
   "execution_count": 120,
   "metadata": {
    "ExecuteTime": {
     "end_time": "2018-09-19T19:59:16.135181Z",
     "start_time": "2018-09-19T19:55:16.802601Z"
    }
   },
   "outputs": [
    {
     "name": "stderr",
     "output_type": "stream",
     "text": [
      "[Parallel(n_jobs=3)]: Done   2 tasks      | elapsed:    6.0s\n",
      "[Parallel(n_jobs=3)]: Done   7 tasks      | elapsed:   17.9s\n",
      "[Parallel(n_jobs=3)]: Done  12 tasks      | elapsed:   23.9s\n",
      "[Parallel(n_jobs=3)]: Done  19 tasks      | elapsed:   41.7s\n",
      "[Parallel(n_jobs=3)]: Done  26 tasks      | elapsed:   53.7s\n",
      "[Parallel(n_jobs=3)]: Done  35 tasks      | elapsed:  1.2min\n",
      "[Parallel(n_jobs=3)]: Done  44 tasks      | elapsed:  1.5min\n",
      "[Parallel(n_jobs=3)]: Done  55 tasks      | elapsed:  1.9min\n",
      "[Parallel(n_jobs=3)]: Done  66 tasks      | elapsed:  2.2min\n",
      "[Parallel(n_jobs=3)]: Done  79 tasks      | elapsed:  2.7min\n",
      "[Parallel(n_jobs=3)]: Done  92 tasks      | elapsed:  3.1min\n",
      "[Parallel(n_jobs=3)]: Done 107 tasks      | elapsed:  3.6min\n",
      "[Parallel(n_jobs=3)]: Done 120 out of 120 | elapsed:  4.0min finished\n"
     ]
    },
    {
     "data": {
      "text/plain": [
       "[None,\n",
       " None,\n",
       " None,\n",
       " None,\n",
       " None,\n",
       " None,\n",
       " None,\n",
       " None,\n",
       " None,\n",
       " None,\n",
       " None,\n",
       " None,\n",
       " None,\n",
       " None,\n",
       " None,\n",
       " None,\n",
       " None,\n",
       " None,\n",
       " None,\n",
       " None,\n",
       " None,\n",
       " None,\n",
       " None,\n",
       " None,\n",
       " None,\n",
       " None,\n",
       " None,\n",
       " None,\n",
       " None,\n",
       " None,\n",
       " None,\n",
       " None,\n",
       " None,\n",
       " None,\n",
       " None,\n",
       " None,\n",
       " None,\n",
       " None,\n",
       " None,\n",
       " None,\n",
       " None,\n",
       " None,\n",
       " None,\n",
       " None,\n",
       " None,\n",
       " None,\n",
       " None,\n",
       " None,\n",
       " None,\n",
       " None,\n",
       " None,\n",
       " None,\n",
       " None,\n",
       " None,\n",
       " None,\n",
       " None,\n",
       " None,\n",
       " None,\n",
       " None,\n",
       " None,\n",
       " None,\n",
       " None,\n",
       " None,\n",
       " None,\n",
       " None,\n",
       " None,\n",
       " None,\n",
       " None,\n",
       " None,\n",
       " None,\n",
       " None,\n",
       " None,\n",
       " None,\n",
       " None,\n",
       " None,\n",
       " None,\n",
       " None,\n",
       " None,\n",
       " None,\n",
       " None,\n",
       " None,\n",
       " None,\n",
       " None,\n",
       " None,\n",
       " None,\n",
       " None,\n",
       " None,\n",
       " None,\n",
       " None,\n",
       " None,\n",
       " None,\n",
       " None,\n",
       " None,\n",
       " None,\n",
       " None,\n",
       " None,\n",
       " None,\n",
       " None,\n",
       " None,\n",
       " None,\n",
       " None,\n",
       " None,\n",
       " None,\n",
       " None,\n",
       " None,\n",
       " None,\n",
       " None,\n",
       " None,\n",
       " None,\n",
       " None,\n",
       " None,\n",
       " None,\n",
       " None,\n",
       " None,\n",
       " None,\n",
       " None,\n",
       " None,\n",
       " None,\n",
       " None,\n",
       " None]"
      ]
     },
     "execution_count": 120,
     "metadata": {},
     "output_type": "execute_result"
    }
   ],
   "source": [
    "# Poner las rutas correspondientes y cambiar el zoom.\n",
    "route = '../map_frames_cdmx/'\n",
    "title = '24 horas de Ozono en CDMX'\n",
    "zoom = 10\n",
    "\n",
    "Parallel(n_jobs=3, verbose=10)(delayed (go_ozone_frame) \n",
    "                                (count, hour, o3_hora, route, title, zoom) \n",
    "                                for count, hour in enumerate(o3_hora.hora.unique().tolist()))"
   ]
  },
  {
   "cell_type": "code",
   "execution_count": 124,
   "metadata": {
    "ExecuteTime": {
     "end_time": "2018-09-19T20:16:23.459122Z",
     "start_time": "2018-09-19T20:16:17.431895Z"
    }
   },
   "outputs": [],
   "source": [
    "# estas habían salido mal\n",
    "for c in [67]:\n",
    "    go_ozone_frame(c, o3_hora.hora.unique().tolist()[c],  o3_hora, route, title, zoom)"
   ]
  },
  {
   "cell_type": "code",
   "execution_count": 125,
   "metadata": {
    "ExecuteTime": {
     "end_time": "2018-09-19T20:17:04.460487Z",
     "start_time": "2018-09-19T20:16:28.962079Z"
    }
   },
   "outputs": [
    {
     "data": {
      "text/plain": [
       "0"
      ]
     },
     "execution_count": 125,
     "metadata": {},
     "output_type": "execute_result"
    }
   ],
   "source": [
    "# Crear el GIF\n",
    "gifname = route+'O3_'+title.lower().split()[-1]+'.gif'\n",
    "os.system('convert -delay 5 -loop 0 %s*.png %s'%(route, gifname))"
   ]
  }
 ],
 "metadata": {
  "kernelspec": {
   "display_name": "Python 3",
   "language": "python",
   "name": "python3"
  },
  "language_info": {
   "codemirror_mode": {
    "name": "ipython",
    "version": 3
   },
   "file_extension": ".py",
   "mimetype": "text/x-python",
   "name": "python",
   "nbconvert_exporter": "python",
   "pygments_lexer": "ipython3",
   "version": "3.6.3"
  },
  "toc": {
   "nav_menu": {
    "height": "167.985px",
    "width": "384.987px"
   },
   "number_sections": true,
   "sideBar": true,
   "skip_h1_title": false,
   "title_cell": "Table of Contents",
   "title_sidebar": "Contents",
   "toc_cell": true,
   "toc_position": {},
   "toc_section_display": true,
   "toc_window_display": false
  }
 },
 "nbformat": 4,
 "nbformat_minor": 2
}
