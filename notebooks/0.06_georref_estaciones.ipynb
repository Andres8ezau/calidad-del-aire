{
 "cells": [
  {
   "cell_type": "markdown",
   "metadata": {
    "toc": true
   },
   "source": [
    "<h1>Table of Contents<span class=\"tocSkip\"></span></h1>\n",
    "<div class=\"toc\"><ul class=\"toc-item\"><li><span><a href=\"#Init-data\" data-toc-modified-id=\"Init-data-1\"><span class=\"toc-item-num\">1&nbsp;&nbsp;</span>Init data</a></span><ul class=\"toc-item\"><li><span><a href=\"#Estaciones\" data-toc-modified-id=\"Estaciones-1.1\"><span class=\"toc-item-num\">1.1&nbsp;&nbsp;</span>Estaciones</a></span></li><li><span><a href=\"#Data-Mediciones\" data-toc-modified-id=\"Data-Mediciones-1.2\"><span class=\"toc-item-num\">1.2&nbsp;&nbsp;</span>Data Mediciones</a></span></li></ul></li><li><span><a href=\"#Georreferenciar-estaciones\" data-toc-modified-id=\"Georreferenciar-estaciones-2\"><span class=\"toc-item-num\">2&nbsp;&nbsp;</span>Georreferenciar estaciones</a></span></li></ul></div>"
   ]
  },
  {
   "cell_type": "code",
   "execution_count": 1,
   "metadata": {
    "ExecuteTime": {
     "end_time": "2018-09-11T21:10:18.440176Z",
     "start_time": "2018-09-11T21:10:17.996177Z"
    }
   },
   "outputs": [
    {
     "name": "stderr",
     "output_type": "stream",
     "text": [
      "Package `lxml` missing. Pretty print will be disabled\n"
     ]
    }
   ],
   "source": [
    "import pandas as pd\n",
    "import numpy as np\n",
    "import matplotlib.pyplot as plt\n",
    "\n",
    "from zopilote.solr import swipe_radius_cvegeo\n",
    "from zopilote.make_influence_areas import compute_influence_area\n",
    "\n",
    "%matplotlib inline"
   ]
  },
  {
   "cell_type": "markdown",
   "metadata": {},
   "source": [
    "# Init data"
   ]
  },
  {
   "cell_type": "markdown",
   "metadata": {},
   "source": [
    "## Estaciones"
   ]
  },
  {
   "cell_type": "code",
   "execution_count": 2,
   "metadata": {
    "ExecuteTime": {
     "end_time": "2018-09-11T21:10:22.080984Z",
     "start_time": "2018-09-11T21:10:21.912230Z"
    }
   },
   "outputs": [
    {
     "name": "stdout",
     "output_type": "stream",
     "text": [
      "(180, 8)\n"
     ]
    },
    {
     "data": {
      "text/html": [
       "<div>\n",
       "<style scoped>\n",
       "    .dataframe tbody tr th:only-of-type {\n",
       "        vertical-align: middle;\n",
       "    }\n",
       "\n",
       "    .dataframe tbody tr th {\n",
       "        vertical-align: top;\n",
       "    }\n",
       "\n",
       "    .dataframe thead th {\n",
       "        text-align: right;\n",
       "    }\n",
       "</style>\n",
       "<table border=\"1\" class=\"dataframe\">\n",
       "  <thead>\n",
       "    <tr style=\"text-align: right;\">\n",
       "      <th></th>\n",
       "      <th>_id</th>\n",
       "      <th>lat</th>\n",
       "      <th>long</th>\n",
       "      <th>estacionesid</th>\n",
       "      <th>nombre</th>\n",
       "      <th>codigo</th>\n",
       "      <th>redesid</th>\n",
       "      <th>date-insert</th>\n",
       "    </tr>\n",
       "  </thead>\n",
       "  <tbody>\n",
       "    <tr>\n",
       "      <th>0</th>\n",
       "      <td>5b8850e3e2705c1932e82ff8</td>\n",
       "      <td>21.873311</td>\n",
       "      <td>-102.320803</td>\n",
       "      <td>31</td>\n",
       "      <td>CBTIS</td>\n",
       "      <td>CBT</td>\n",
       "      <td>30</td>\n",
       "      <td>2018-08-30 20:17:39.218</td>\n",
       "    </tr>\n",
       "    <tr>\n",
       "      <th>1</th>\n",
       "      <td>5b8850e3e2705c1932e82ff9</td>\n",
       "      <td>21.846392</td>\n",
       "      <td>-102.288431</td>\n",
       "      <td>32</td>\n",
       "      <td>Secretaría de Medio Ambiente</td>\n",
       "      <td>SMA</td>\n",
       "      <td>30</td>\n",
       "      <td>2018-08-30 20:17:39.218</td>\n",
       "    </tr>\n",
       "    <tr>\n",
       "      <th>2</th>\n",
       "      <td>5b8850e3e2705c1932e82ffa</td>\n",
       "      <td>21.883781</td>\n",
       "      <td>-102.295825</td>\n",
       "      <td>33</td>\n",
       "      <td>Centro</td>\n",
       "      <td>CEN</td>\n",
       "      <td>30</td>\n",
       "      <td>2018-08-30 20:17:39.218</td>\n",
       "    </tr>\n",
       "    <tr>\n",
       "      <th>3</th>\n",
       "      <td>5b8850e3e2705c1932e82ffb</td>\n",
       "      <td>31.859917</td>\n",
       "      <td>-116.593722</td>\n",
       "      <td>36</td>\n",
       "      <td>Secundaria</td>\n",
       "      <td>SPABC20</td>\n",
       "      <td>31</td>\n",
       "      <td>2018-08-30 20:17:39.218</td>\n",
       "    </tr>\n",
       "    <tr>\n",
       "      <th>4</th>\n",
       "      <td>5b8850e3e2705c1932e82ffc</td>\n",
       "      <td>32.631317</td>\n",
       "      <td>-115.444631</td>\n",
       "      <td>38</td>\n",
       "      <td>UABC</td>\n",
       "      <td>SPABC12</td>\n",
       "      <td>32</td>\n",
       "      <td>2018-08-30 20:17:39.218</td>\n",
       "    </tr>\n",
       "  </tbody>\n",
       "</table>\n",
       "</div>"
      ],
      "text/plain": [
       "                        _id        lat        long  estacionesid  \\\n",
       "0  5b8850e3e2705c1932e82ff8  21.873311 -102.320803            31   \n",
       "1  5b8850e3e2705c1932e82ff9  21.846392 -102.288431            32   \n",
       "2  5b8850e3e2705c1932e82ffa  21.883781 -102.295825            33   \n",
       "3  5b8850e3e2705c1932e82ffb  31.859917 -116.593722            36   \n",
       "4  5b8850e3e2705c1932e82ffc  32.631317 -115.444631            38   \n",
       "\n",
       "                         nombre   codigo  redesid              date-insert  \n",
       "0                        CBTIS       CBT       30  2018-08-30 20:17:39.218  \n",
       "1  Secretaría de Medio Ambiente      SMA       30  2018-08-30 20:17:39.218  \n",
       "2                        Centro      CEN       30  2018-08-30 20:17:39.218  \n",
       "3                    Secundaria  SPABC20       31  2018-08-30 20:17:39.218  \n",
       "4                          UABC  SPABC12       32  2018-08-30 20:17:39.218  "
      ]
     },
     "execution_count": 2,
     "metadata": {},
     "output_type": "execute_result"
    }
   ],
   "source": [
    "estaciones = pd.read_csv('/data/calidad_aire_presidencia/data_estaciones_sinaica.csv')\n",
    "mask = (estaciones.lat.between(14, 34.5)) & (estaciones.long.between(-120, -70))\n",
    "estaciones = estaciones[mask].rename(columns={'id':'estacionesid'})\n",
    "\n",
    "print(estaciones.shape)\n",
    "estaciones.head()"
   ]
  },
  {
   "cell_type": "markdown",
   "metadata": {},
   "source": [
    "## Data Mediciones"
   ]
  },
  {
   "cell_type": "code",
   "execution_count": 3,
   "metadata": {
    "ExecuteTime": {
     "end_time": "2018-09-11T21:10:33.803097Z",
     "start_time": "2018-09-11T21:10:31.637796Z"
    }
   },
   "outputs": [
    {
     "name": "stdout",
     "output_type": "stream",
     "text": [
      "(3240000, 8)\n"
     ]
    },
    {
     "data": {
      "text/html": [
       "<div>\n",
       "<style scoped>\n",
       "    .dataframe tbody tr th:only-of-type {\n",
       "        vertical-align: middle;\n",
       "    }\n",
       "\n",
       "    .dataframe tbody tr th {\n",
       "        vertical-align: top;\n",
       "    }\n",
       "\n",
       "    .dataframe thead th {\n",
       "        text-align: right;\n",
       "    }\n",
       "</style>\n",
       "<table border=\"1\" class=\"dataframe\">\n",
       "  <thead>\n",
       "    <tr style=\"text-align: right;\">\n",
       "      <th></th>\n",
       "      <th>city</th>\n",
       "      <th>estacionesid</th>\n",
       "      <th>fecha</th>\n",
       "      <th>hora</th>\n",
       "      <th>parametro</th>\n",
       "      <th>state</th>\n",
       "      <th>validoorig</th>\n",
       "      <th>valororig</th>\n",
       "    </tr>\n",
       "  </thead>\n",
       "  <tbody>\n",
       "    <tr>\n",
       "      <th>0</th>\n",
       "      <td>Durango</td>\n",
       "      <td>58</td>\n",
       "      <td>2018-08-01</td>\n",
       "      <td>13</td>\n",
       "      <td>PM10</td>\n",
       "      <td>Durango</td>\n",
       "      <td>1</td>\n",
       "      <td>988.61</td>\n",
       "    </tr>\n",
       "    <tr>\n",
       "      <th>1</th>\n",
       "      <td>Durango</td>\n",
       "      <td>58</td>\n",
       "      <td>2018-08-01</td>\n",
       "      <td>14</td>\n",
       "      <td>PM10</td>\n",
       "      <td>Durango</td>\n",
       "      <td>1</td>\n",
       "      <td>988.61</td>\n",
       "    </tr>\n",
       "    <tr>\n",
       "      <th>2</th>\n",
       "      <td>Durango</td>\n",
       "      <td>58</td>\n",
       "      <td>2018-08-01</td>\n",
       "      <td>15</td>\n",
       "      <td>PM10</td>\n",
       "      <td>Durango</td>\n",
       "      <td>1</td>\n",
       "      <td>988.60</td>\n",
       "    </tr>\n",
       "    <tr>\n",
       "      <th>3</th>\n",
       "      <td>Durango</td>\n",
       "      <td>58</td>\n",
       "      <td>2018-08-01</td>\n",
       "      <td>16</td>\n",
       "      <td>PM10</td>\n",
       "      <td>Durango</td>\n",
       "      <td>1</td>\n",
       "      <td>988.63</td>\n",
       "    </tr>\n",
       "    <tr>\n",
       "      <th>4</th>\n",
       "      <td>Durango</td>\n",
       "      <td>58</td>\n",
       "      <td>2018-08-01</td>\n",
       "      <td>17</td>\n",
       "      <td>PM10</td>\n",
       "      <td>Durango</td>\n",
       "      <td>1</td>\n",
       "      <td>988.63</td>\n",
       "    </tr>\n",
       "  </tbody>\n",
       "</table>\n",
       "</div>"
      ],
      "text/plain": [
       "      city  estacionesid       fecha  hora parametro    state  validoorig  \\\n",
       "0  Durango            58  2018-08-01    13      PM10  Durango           1   \n",
       "1  Durango            58  2018-08-01    14      PM10  Durango           1   \n",
       "2  Durango            58  2018-08-01    15      PM10  Durango           1   \n",
       "3  Durango            58  2018-08-01    16      PM10  Durango           1   \n",
       "4  Durango            58  2018-08-01    17      PM10  Durango           1   \n",
       "\n",
       "   valororig  \n",
       "0     988.61  \n",
       "1     988.61  \n",
       "2     988.60  \n",
       "3     988.63  \n",
       "4     988.63  "
      ]
     },
     "execution_count": 3,
     "metadata": {},
     "output_type": "execute_result"
    }
   ],
   "source": [
    "mediciones = pd.read_csv('/data/calidad_aire_presidencia/data_mediciones_todas_estaciones_2.csv')\n",
    "print(mediciones.shape)\n",
    "mediciones.head()"
   ]
  },
  {
   "cell_type": "code",
   "execution_count": 4,
   "metadata": {
    "ExecuteTime": {
     "end_time": "2018-09-11T21:10:34.246777Z",
     "start_time": "2018-09-11T21:10:33.804514Z"
    },
    "scrolled": true
   },
   "outputs": [
    {
     "name": "stdout",
     "output_type": "stream",
     "text": [
      "(121, 6)\n"
     ]
    },
    {
     "data": {
      "text/html": [
       "<div>\n",
       "<style scoped>\n",
       "    .dataframe tbody tr th:only-of-type {\n",
       "        vertical-align: middle;\n",
       "    }\n",
       "\n",
       "    .dataframe tbody tr th {\n",
       "        vertical-align: top;\n",
       "    }\n",
       "\n",
       "    .dataframe thead th {\n",
       "        text-align: right;\n",
       "    }\n",
       "</style>\n",
       "<table border=\"1\" class=\"dataframe\">\n",
       "  <thead>\n",
       "    <tr style=\"text-align: right;\">\n",
       "      <th></th>\n",
       "      <th>city</th>\n",
       "      <th>state</th>\n",
       "      <th>estacionesid</th>\n",
       "      <th>lat</th>\n",
       "      <th>long</th>\n",
       "      <th>nombre</th>\n",
       "    </tr>\n",
       "  </thead>\n",
       "  <tbody>\n",
       "    <tr>\n",
       "      <th>0</th>\n",
       "      <td>Durango</td>\n",
       "      <td>Durango</td>\n",
       "      <td>58</td>\n",
       "      <td>24.034472</td>\n",
       "      <td>-104.645028</td>\n",
       "      <td>ITD</td>\n",
       "    </tr>\n",
       "    <tr>\n",
       "      <th>1</th>\n",
       "      <td>Durango</td>\n",
       "      <td>Durango</td>\n",
       "      <td>59</td>\n",
       "      <td>24.051556</td>\n",
       "      <td>-104.611361</td>\n",
       "      <td>IPN</td>\n",
       "    </tr>\n",
       "    <tr>\n",
       "      <th>2</th>\n",
       "      <td>Durango</td>\n",
       "      <td>Durango</td>\n",
       "      <td>60</td>\n",
       "      <td>24.026778</td>\n",
       "      <td>-104.692975</td>\n",
       "      <td>SRNyMA</td>\n",
       "    </tr>\n",
       "    <tr>\n",
       "      <th>3</th>\n",
       "      <td>Gómez Palacio</td>\n",
       "      <td>Durango</td>\n",
       "      <td>65</td>\n",
       "      <td>25.551222</td>\n",
       "      <td>-103.502528</td>\n",
       "      <td>Campestre</td>\n",
       "    </tr>\n",
       "    <tr>\n",
       "      <th>4</th>\n",
       "      <td>Celaya</td>\n",
       "      <td>Guanajuato</td>\n",
       "      <td>68</td>\n",
       "      <td>20.517500</td>\n",
       "      <td>-100.815556</td>\n",
       "      <td>Policía</td>\n",
       "    </tr>\n",
       "  </tbody>\n",
       "</table>\n",
       "</div>"
      ],
      "text/plain": [
       "            city       state  estacionesid        lat        long     nombre\n",
       "0        Durango     Durango            58  24.034472 -104.645028        ITD\n",
       "1        Durango     Durango            59  24.051556 -104.611361        IPN\n",
       "2        Durango     Durango            60  24.026778 -104.692975     SRNyMA\n",
       "3  Gómez Palacio     Durango            65  25.551222 -103.502528  Campestre\n",
       "4         Celaya  Guanajuato            68  20.517500 -100.815556    Policía"
      ]
     },
     "execution_count": 4,
     "metadata": {},
     "output_type": "execute_result"
    }
   ],
   "source": [
    "estaciones_ciudad = mediciones[['city', 'state', 'estacionesid']].drop_duplicates()\n",
    "estaciones_ciudad = estaciones_ciudad.merge(estaciones[['estacionesid', 'lat', 'long', 'nombre']],\n",
    "                                            on='estacionesid')\n",
    "print(estaciones_ciudad.shape)\n",
    "estaciones_ciudad.head()"
   ]
  },
  {
   "cell_type": "code",
   "execution_count": 5,
   "metadata": {
    "ExecuteTime": {
     "end_time": "2018-09-11T21:10:34.254353Z",
     "start_time": "2018-09-11T21:10:34.248201Z"
    }
   },
   "outputs": [
    {
     "data": {
      "text/plain": [
       "city\n",
       "Valle de México    32\n",
       "Monterrey          11\n",
       "Guadalajara        10\n",
       "Toluca              6\n",
       "León                3\n",
       "Name: estacionesid, dtype: int64"
      ]
     },
     "execution_count": 5,
     "metadata": {},
     "output_type": "execute_result"
    }
   ],
   "source": [
    "estaciones_ciudad.groupby('city').estacionesid.nunique().sort_values(ascending=False).head()"
   ]
  },
  {
   "cell_type": "markdown",
   "metadata": {},
   "source": [
    "# Georreferenciar estaciones"
   ]
  },
  {
   "cell_type": "code",
   "execution_count": 20,
   "metadata": {
    "ExecuteTime": {
     "end_time": "2018-09-11T17:30:40.597322Z",
     "start_time": "2018-09-11T17:16:45.901606Z"
    }
   },
   "outputs": [
    {
     "data": {
      "application/vnd.jupyter.widget-view+json": {
       "model_id": "f115340ff3e94e35b414df8f29c57c61",
       "version_major": 2,
       "version_minor": 0
      },
      "text/html": [
       "<p>Failed to display Jupyter Widget of type <code>HBox</code>.</p>\n",
       "<p>\n",
       "  If you're reading this message in the Jupyter Notebook or JupyterLab Notebook, it may mean\n",
       "  that the widgets JavaScript is still loading. If this message persists, it\n",
       "  likely means that the widgets JavaScript library is either not installed or\n",
       "  not enabled. See the <a href=\"https://ipywidgets.readthedocs.io/en/stable/user_install.html\">Jupyter\n",
       "  Widgets Documentation</a> for setup instructions.\n",
       "</p>\n",
       "<p>\n",
       "  If you're reading this message in another frontend (for example, a static\n",
       "  rendering on GitHub or <a href=\"https://nbviewer.jupyter.org/\">NBViewer</a>),\n",
       "  it may mean that your frontend doesn't currently support widgets.\n",
       "</p>\n"
      ],
      "text/plain": [
       "HBox(children=(IntProgress(value=1, bar_style='info', max=1), HTML(value='')))"
      ]
     },
     "metadata": {},
     "output_type": "display_data"
    },
    {
     "name": "stdout",
     "output_type": "stream",
     "text": [
      "Revisar coordenadas 160\n",
      "Revisar coordenadas 241\n",
      "\n",
      "(123, 3)\n"
     ]
    },
    {
     "data": {
      "text/html": [
       "<div>\n",
       "<style scoped>\n",
       "    .dataframe tbody tr th:only-of-type {\n",
       "        vertical-align: middle;\n",
       "    }\n",
       "\n",
       "    .dataframe tbody tr th {\n",
       "        vertical-align: top;\n",
       "    }\n",
       "\n",
       "    .dataframe thead th {\n",
       "        text-align: right;\n",
       "    }\n",
       "</style>\n",
       "<table border=\"1\" class=\"dataframe\">\n",
       "  <thead>\n",
       "    <tr style=\"text-align: right;\">\n",
       "      <th></th>\n",
       "      <th>cvegeo</th>\n",
       "      <th>index_name</th>\n",
       "      <th>radius</th>\n",
       "    </tr>\n",
       "  </thead>\n",
       "  <tbody>\n",
       "    <tr>\n",
       "      <th>0</th>\n",
       "      <td>1000500013698027</td>\n",
       "      <td>58</td>\n",
       "      <td>0.001</td>\n",
       "    </tr>\n",
       "    <tr>\n",
       "      <th>0</th>\n",
       "      <td>1000500014573001</td>\n",
       "      <td>59</td>\n",
       "      <td>0.001</td>\n",
       "    </tr>\n",
       "    <tr>\n",
       "      <th>0</th>\n",
       "      <td>1000500015266011</td>\n",
       "      <td>60</td>\n",
       "      <td>0.001</td>\n",
       "    </tr>\n",
       "    <tr>\n",
       "      <th>0</th>\n",
       "      <td>1000700010166050</td>\n",
       "      <td>65</td>\n",
       "      <td>0.001</td>\n",
       "    </tr>\n",
       "    <tr>\n",
       "      <th>0</th>\n",
       "      <td>1100700010226014</td>\n",
       "      <td>68</td>\n",
       "      <td>0.001</td>\n",
       "    </tr>\n",
       "  </tbody>\n",
       "</table>\n",
       "</div>"
      ],
      "text/plain": [
       "             cvegeo  index_name  radius\n",
       "0  1000500013698027          58   0.001\n",
       "0  1000500014573001          59   0.001\n",
       "0  1000500015266011          60   0.001\n",
       "0  1000700010166050          65   0.001\n",
       "0  1100700010226014          68   0.001"
      ]
     },
     "execution_count": 20,
     "metadata": {},
     "output_type": "execute_result"
    }
   ],
   "source": [
    "from tqdm import tqdm_notebook\n",
    "georref = []\n",
    "\n",
    "for i, row in tqdm_notebook(estaciones_ciudad.iterrows()):\n",
    "    aux = swipe_radius_cvegeo(row.lat, row.long, row.estacionesid)\n",
    "    georref.append(aux)\n",
    "    \n",
    "georref = pd.concat(georref)\n",
    "print(georref.shape)\n",
    "georref.head()"
   ]
  },
  {
   "cell_type": "code",
   "execution_count": 25,
   "metadata": {
    "ExecuteTime": {
     "end_time": "2018-09-11T17:33:58.728037Z",
     "start_time": "2018-09-11T17:33:58.687049Z"
    }
   },
   "outputs": [
    {
     "name": "stdout",
     "output_type": "stream",
     "text": [
      "(180, 10)\n"
     ]
    },
    {
     "data": {
      "text/html": [
       "<div>\n",
       "<style scoped>\n",
       "    .dataframe tbody tr th:only-of-type {\n",
       "        vertical-align: middle;\n",
       "    }\n",
       "\n",
       "    .dataframe tbody tr th {\n",
       "        vertical-align: top;\n",
       "    }\n",
       "\n",
       "    .dataframe thead th {\n",
       "        text-align: right;\n",
       "    }\n",
       "</style>\n",
       "<table border=\"1\" class=\"dataframe\">\n",
       "  <thead>\n",
       "    <tr style=\"text-align: right;\">\n",
       "      <th></th>\n",
       "      <th>estacionesid</th>\n",
       "      <th>cvegeo</th>\n",
       "      <th>radius</th>\n",
       "      <th>_id</th>\n",
       "      <th>lat</th>\n",
       "      <th>long</th>\n",
       "      <th>nombre</th>\n",
       "      <th>codigo</th>\n",
       "      <th>redesid</th>\n",
       "      <th>date-insert</th>\n",
       "    </tr>\n",
       "  </thead>\n",
       "  <tbody>\n",
       "    <tr>\n",
       "      <th>0</th>\n",
       "      <td>58</td>\n",
       "      <td>1000500013698027</td>\n",
       "      <td>0.001</td>\n",
       "      <td>5b8850e3e2705c1932e8300b</td>\n",
       "      <td>24.034472</td>\n",
       "      <td>-104.645028</td>\n",
       "      <td>ITD</td>\n",
       "      <td>ITD</td>\n",
       "      <td>42</td>\n",
       "      <td>2018-08-30 20:17:39.219</td>\n",
       "    </tr>\n",
       "    <tr>\n",
       "      <th>1</th>\n",
       "      <td>59</td>\n",
       "      <td>1000500014573001</td>\n",
       "      <td>0.001</td>\n",
       "      <td>5b8850e3e2705c1932e8300c</td>\n",
       "      <td>24.051556</td>\n",
       "      <td>-104.611361</td>\n",
       "      <td>IPN</td>\n",
       "      <td>IPN</td>\n",
       "      <td>42</td>\n",
       "      <td>2018-08-30 20:17:39.219</td>\n",
       "    </tr>\n",
       "    <tr>\n",
       "      <th>2</th>\n",
       "      <td>60</td>\n",
       "      <td>1000500015266011</td>\n",
       "      <td>0.001</td>\n",
       "      <td>5b8850e3e2705c1932e8300d</td>\n",
       "      <td>24.026778</td>\n",
       "      <td>-104.692975</td>\n",
       "      <td>SRNyMA</td>\n",
       "      <td>SRN</td>\n",
       "      <td>42</td>\n",
       "      <td>2018-08-30 20:17:39.219</td>\n",
       "    </tr>\n",
       "    <tr>\n",
       "      <th>3</th>\n",
       "      <td>65</td>\n",
       "      <td>1000700010166050</td>\n",
       "      <td>0.001</td>\n",
       "      <td>5b8850e3e2705c1932e8300e</td>\n",
       "      <td>25.551222</td>\n",
       "      <td>-103.502528</td>\n",
       "      <td>Campestre</td>\n",
       "      <td>CAM</td>\n",
       "      <td>43</td>\n",
       "      <td>2018-08-30 20:17:39.219</td>\n",
       "    </tr>\n",
       "    <tr>\n",
       "      <th>4</th>\n",
       "      <td>68</td>\n",
       "      <td>1100700010226014</td>\n",
       "      <td>0.001</td>\n",
       "      <td>5b8850e3e2705c1932e83011</td>\n",
       "      <td>20.517500</td>\n",
       "      <td>-100.815556</td>\n",
       "      <td>Policía</td>\n",
       "      <td>POL</td>\n",
       "      <td>45</td>\n",
       "      <td>2018-08-30 20:17:39.219</td>\n",
       "    </tr>\n",
       "  </tbody>\n",
       "</table>\n",
       "</div>"
      ],
      "text/plain": [
       "   estacionesid            cvegeo  radius                       _id  \\\n",
       "0            58  1000500013698027   0.001  5b8850e3e2705c1932e8300b   \n",
       "1            59  1000500014573001   0.001  5b8850e3e2705c1932e8300c   \n",
       "2            60  1000500015266011   0.001  5b8850e3e2705c1932e8300d   \n",
       "3            65  1000700010166050   0.001  5b8850e3e2705c1932e8300e   \n",
       "4            68  1100700010226014   0.001  5b8850e3e2705c1932e83011   \n",
       "\n",
       "         lat        long     nombre codigo  redesid              date-insert  \n",
       "0  24.034472 -104.645028        ITD    ITD       42  2018-08-30 20:17:39.219  \n",
       "1  24.051556 -104.611361        IPN    IPN       42  2018-08-30 20:17:39.219  \n",
       "2  24.026778 -104.692975     SRNyMA    SRN       42  2018-08-30 20:17:39.219  \n",
       "3  25.551222 -103.502528  Campestre    CAM       43  2018-08-30 20:17:39.219  \n",
       "4  20.517500 -100.815556    Policía    POL       45  2018-08-30 20:17:39.219  "
      ]
     },
     "execution_count": 25,
     "metadata": {},
     "output_type": "execute_result"
    }
   ],
   "source": [
    "estaciones_georref = georref.drop_duplicates(subset=['index_name']).rename(columns={'index_name':'estacionesid'})\n",
    "estaciones_georref = estaciones_georref.merge(estaciones, on='estacionesid',\n",
    "                                              how='right').set_index('estacionesid').reset_index()\n",
    "print(estaciones_georref.shape)\n",
    "estaciones_georref.head()"
   ]
  },
  {
   "cell_type": "code",
   "execution_count": 26,
   "metadata": {
    "ExecuteTime": {
     "end_time": "2018-09-11T17:36:56.478184Z",
     "start_time": "2018-09-11T17:36:54.728143Z"
    }
   },
   "outputs": [],
   "source": [
    "# estaciones_georref.to_csv('/data/calidad_aire_presidencia/data_estaciones_sinaica_cvegeo.csv', index=False)"
   ]
  },
  {
   "cell_type": "code",
   "execution_count": 13,
   "metadata": {
    "ExecuteTime": {
     "end_time": "2018-09-11T21:31:32.557334Z",
     "start_time": "2018-09-11T21:30:52.826238Z"
    }
   },
   "outputs": [
    {
     "name": "stdout",
     "output_type": "stream",
     "text": [
      "(1, 3)\n"
     ]
    },
    {
     "data": {
      "text/html": [
       "<div>\n",
       "<style scoped>\n",
       "    .dataframe tbody tr th:only-of-type {\n",
       "        vertical-align: middle;\n",
       "    }\n",
       "\n",
       "    .dataframe tbody tr th {\n",
       "        vertical-align: top;\n",
       "    }\n",
       "\n",
       "    .dataframe thead th {\n",
       "        text-align: right;\n",
       "    }\n",
       "</style>\n",
       "<table border=\"1\" class=\"dataframe\">\n",
       "  <thead>\n",
       "    <tr style=\"text-align: right;\">\n",
       "      <th></th>\n",
       "      <th>cvegeo</th>\n",
       "      <th>index_name</th>\n",
       "      <th>radius</th>\n",
       "    </tr>\n",
       "  </thead>\n",
       "  <tbody>\n",
       "    <tr>\n",
       "      <th>0</th>\n",
       "      <td>0901200192460002</td>\n",
       "      <td>241</td>\n",
       "      <td>1.611</td>\n",
       "    </tr>\n",
       "  </tbody>\n",
       "</table>\n",
       "</div>"
      ],
      "text/plain": [
       "             cvegeo  index_name  radius\n",
       "0  0901200192460002         241   1.611"
      ]
     },
     "execution_count": 13,
     "metadata": {},
     "output_type": "execute_result"
    }
   ],
   "source": [
    "georref = []\n",
    "\n",
    "for i, row in estaciones_ciudad[estaciones_ciudad.nombre=='Ajusco'].iterrows():\n",
    "    aux = swipe_radius_cvegeo(row.lat, row.long, row.estacionesid, swipe_max=2, swipe_step=0.01)\n",
    "    georref.append(aux)\n",
    "    \n",
    "georref = pd.concat(georref)\n",
    "print(georref.shape)\n",
    "georref.head()"
   ]
  },
  {
   "cell_type": "code",
   "execution_count": 21,
   "metadata": {
    "ExecuteTime": {
     "end_time": "2018-09-11T21:35:01.278378Z",
     "start_time": "2018-09-11T21:35:01.239424Z"
    }
   },
   "outputs": [
    {
     "data": {
      "text/html": [
       "<div>\n",
       "<style scoped>\n",
       "    .dataframe tbody tr th:only-of-type {\n",
       "        vertical-align: middle;\n",
       "    }\n",
       "\n",
       "    .dataframe tbody tr th {\n",
       "        vertical-align: top;\n",
       "    }\n",
       "\n",
       "    .dataframe thead th {\n",
       "        text-align: right;\n",
       "    }\n",
       "</style>\n",
       "<table border=\"1\" class=\"dataframe\">\n",
       "  <thead>\n",
       "    <tr style=\"text-align: right;\">\n",
       "      <th></th>\n",
       "      <th>estacionesid</th>\n",
       "      <th>cvegeo</th>\n",
       "      <th>radius</th>\n",
       "      <th>_id</th>\n",
       "      <th>lat</th>\n",
       "      <th>long</th>\n",
       "      <th>nombre</th>\n",
       "      <th>codigo</th>\n",
       "      <th>redesid</th>\n",
       "      <th>date-insert</th>\n",
       "    </tr>\n",
       "  </thead>\n",
       "  <tbody>\n",
       "    <tr>\n",
       "      <th>105</th>\n",
       "      <td>241</td>\n",
       "      <td>0901200192460002</td>\n",
       "      <td>1.611</td>\n",
       "      <td>5b8850e3e2705c1932e8306a</td>\n",
       "      <td>19.154286</td>\n",
       "      <td>-99.162778</td>\n",
       "      <td>Ajusco</td>\n",
       "      <td>AJU</td>\n",
       "      <td>119</td>\n",
       "      <td>2018-08-30 20:17:39.225</td>\n",
       "    </tr>\n",
       "  </tbody>\n",
       "</table>\n",
       "</div>"
      ],
      "text/plain": [
       "     estacionesid            cvegeo  radius                       _id  \\\n",
       "105           241  0901200192460002   1.611  5b8850e3e2705c1932e8306a   \n",
       "\n",
       "           lat       long  nombre codigo  redesid              date-insert  \n",
       "105  19.154286 -99.162778  Ajusco    AJU      119  2018-08-30 20:17:39.225  "
      ]
     },
     "execution_count": 21,
     "metadata": {},
     "output_type": "execute_result"
    }
   ],
   "source": [
    "estaciones_georref = pd.read_csv('/data/calidad_aire_presidencia/data_estaciones_sinaica_cvegeo.csv')\n",
    "\n",
    "estaciones_georref['cvegeo'] = np.where(estaciones_georref.estacionesid==241, '0901200192460002',\n",
    "                                        estaciones_georref.cvegeo)\n",
    "estaciones_georref['radius'] = np.where(estaciones_georref.estacionesid==241, 1.611,\n",
    "                                        estaciones_georref.radius)\n",
    "\n",
    "estaciones_georref[estaciones_georref.nombre=='Ajusco']"
   ]
  },
  {
   "cell_type": "code",
   "execution_count": 22,
   "metadata": {
    "ExecuteTime": {
     "end_time": "2018-09-11T21:35:04.666751Z",
     "start_time": "2018-09-11T21:35:04.550191Z"
    }
   },
   "outputs": [],
   "source": [
    "estaciones_georref.to_csv('/data/calidad_aire_presidencia/data_estaciones_sinaica_cvegeo.csv', index=False)"
   ]
  },
  {
   "cell_type": "code",
   "execution_count": null,
   "metadata": {},
   "outputs": [],
   "source": []
  }
 ],
 "metadata": {
  "kernelspec": {
   "display_name": "Python 3",
   "language": "python",
   "name": "python3"
  },
  "language_info": {
   "codemirror_mode": {
    "name": "ipython",
    "version": 3
   },
   "file_extension": ".py",
   "mimetype": "text/x-python",
   "name": "python",
   "nbconvert_exporter": "python",
   "pygments_lexer": "ipython3",
   "version": "3.6.3"
  },
  "toc": {
   "nav_menu": {},
   "number_sections": true,
   "sideBar": true,
   "skip_h1_title": false,
   "title_cell": "Table of Contents",
   "title_sidebar": "Contents",
   "toc_cell": true,
   "toc_position": {},
   "toc_section_display": true,
   "toc_window_display": false
  }
 },
 "nbformat": 4,
 "nbformat_minor": 2
}
