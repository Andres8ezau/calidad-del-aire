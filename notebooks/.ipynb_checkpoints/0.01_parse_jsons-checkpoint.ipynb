{
 "cells": [
  {
   "cell_type": "markdown",
   "metadata": {
    "toc": true
   },
   "source": [
    "<h1>Table of Contents<span class=\"tocSkip\"></span></h1>\n",
    "<div class=\"toc\"><ul class=\"toc-item\"><li><span><a href=\"#Primera-corrida-(faltan-datos-de-hora&gt;18)\" data-toc-modified-id=\"Primera-corrida-(faltan-datos-de-hora>18)-1\"><span class=\"toc-item-num\">1&nbsp;&nbsp;</span>Primera corrida (faltan datos de hora&gt;18)</a></span></li><li><span><a href=\"#Segunda-corrida-(horas-corregidas-pero-sólo-2018)\" data-toc-modified-id=\"Segunda-corrida-(horas-corregidas-pero-sólo-2018)-2\"><span class=\"toc-item-num\">2&nbsp;&nbsp;</span>Segunda corrida (horas corregidas pero sólo 2018)</a></span></li></ul></div>"
   ]
  },
  {
   "cell_type": "code",
   "execution_count": 1,
   "metadata": {
    "ExecuteTime": {
     "end_time": "2018-09-04T20:53:31.274865Z",
     "start_time": "2018-09-04T20:53:30.813508Z"
    }
   },
   "outputs": [],
   "source": [
    "import pandas as pd\n",
    "from joblib import Parallel, delayed\n",
    "import numpy as np\n",
    "import json\n",
    "from pathlib import Path\n",
    "import altair as alt\n",
    "from pandas.plotting import autocorrelation_plot\n",
    "import matplotlib.pyplot as plt\n",
    "from glob import glob\n",
    "\n",
    "pd.options.mode.chained_assignment = None\n",
    "\n",
    "%matplotlib inline"
   ]
  },
  {
   "cell_type": "code",
   "execution_count": 10,
   "metadata": {
    "ExecuteTime": {
     "end_time": "2018-09-04T20:59:45.778020Z",
     "start_time": "2018-09-04T20:59:45.767139Z"
    }
   },
   "outputs": [],
   "source": [
    "import json\n",
    "\n",
    "def parse_mediciones_json(json_file):\n",
    "    \"Función auxiliar para convertir los jsons de mediciones de calidad de aire en Pandas Data Frame\"\n",
    "    # Abrimos el archivo json descargado previamente\n",
    "    with open(json_file, 'r') as aux:\n",
    "        results = json.load(aux)['results'] # Los resultados vienen en la seccion *results*\n",
    "    \n",
    "    # Vamos a guardar los datos de resultados en una lista para después concatenarlos en un DataFrame\n",
    "    pre_data = []\n",
    "    \n",
    "    for r in results:\n",
    "        # Obtenemos DataFrame previo y lo agregamos\n",
    "        aux = pd.DataFrame.from_dict(r, orient='index').T\n",
    "        pre_data.append(aux)\n",
    "    \n",
    "    # Concatenamos todos los datos y devolvemos el DataFrame, siempre que haya datos\n",
    "    if len(pre_data)>0:\n",
    "        pre_data = pd.concat(pre_data, ignore_index=True)\n",
    "        return pre_data\n",
    "    \n",
    "    # Si por alguna razón no hay datos imprimimos el resultado y no devolvemos nada\n",
    "    else:\n",
    "        print('NO DATA FOR ', json_file)\n",
    "        return"
   ]
  },
  {
   "cell_type": "markdown",
   "metadata": {},
   "source": [
    "# Primera corrida (faltan datos de hora>18)"
   ]
  },
  {
   "cell_type": "code",
   "execution_count": 7,
   "metadata": {
    "ExecuteTime": {
     "end_time": "2018-09-03T15:15:08.950069Z",
     "start_time": "2018-09-03T14:53:16.808556Z"
    },
    "scrolled": true
   },
   "outputs": [
    {
     "name": "stdout",
     "output_type": "stream",
     "text": [
      "Chunk 1\n"
     ]
    },
    {
     "name": "stderr",
     "output_type": "stream",
     "text": [
      "[Parallel(n_jobs=-1)]: Done   2 tasks      | elapsed:    3.1s\n",
      "[Parallel(n_jobs=-1)]: Done  25 tasks      | elapsed:   11.6s\n",
      "[Parallel(n_jobs=-1)]: Done  56 tasks      | elapsed:   24.2s\n",
      "[Parallel(n_jobs=-1)]: Done  97 tasks      | elapsed:   41.1s\n",
      "[Parallel(n_jobs=-1)]: Done 146 tasks      | elapsed:  1.0min\n",
      "[Parallel(n_jobs=-1)]: Done 205 tasks      | elapsed:  1.4min\n",
      "[Parallel(n_jobs=-1)]: Done 272 tasks      | elapsed:  1.9min\n",
      "[Parallel(n_jobs=-1)]: Done 349 tasks      | elapsed:  2.5min\n",
      "[Parallel(n_jobs=-1)]: Done 434 tasks      | elapsed:  3.0min\n",
      "[Parallel(n_jobs=-1)]: Done 500 out of 500 | elapsed:  3.5min finished\n"
     ]
    },
    {
     "name": "stdout",
     "output_type": "stream",
     "text": [
      "(2500000, 17)\n",
      "Chunk 2\n"
     ]
    },
    {
     "name": "stderr",
     "output_type": "stream",
     "text": [
      "[Parallel(n_jobs=-1)]: Done   2 tasks      | elapsed:    3.0s\n",
      "[Parallel(n_jobs=-1)]: Done  25 tasks      | elapsed:   12.7s\n",
      "[Parallel(n_jobs=-1)]: Done  56 tasks      | elapsed:   24.4s\n",
      "[Parallel(n_jobs=-1)]: Done  97 tasks      | elapsed:   43.4s\n",
      "[Parallel(n_jobs=-1)]: Done 146 tasks      | elapsed:  1.1min\n",
      "[Parallel(n_jobs=-1)]: Done 205 tasks      | elapsed:  1.5min\n",
      "[Parallel(n_jobs=-1)]: Done 272 tasks      | elapsed:  1.9min\n",
      "[Parallel(n_jobs=-1)]: Done 349 tasks      | elapsed:  2.5min\n",
      "[Parallel(n_jobs=-1)]: Done 434 tasks      | elapsed:  3.2min\n",
      "[Parallel(n_jobs=-1)]: Done 500 out of 500 | elapsed:  3.6min finished\n"
     ]
    },
    {
     "name": "stdout",
     "output_type": "stream",
     "text": [
      "(2500000, 12)\n",
      "Chunk 3\n"
     ]
    },
    {
     "name": "stderr",
     "output_type": "stream",
     "text": [
      "[Parallel(n_jobs=-1)]: Done   2 tasks      | elapsed:    4.0s\n",
      "[Parallel(n_jobs=-1)]: Done  25 tasks      | elapsed:   15.4s\n",
      "[Parallel(n_jobs=-1)]: Done  56 tasks      | elapsed:   26.8s\n",
      "[Parallel(n_jobs=-1)]: Done  97 tasks      | elapsed:   45.5s\n",
      "[Parallel(n_jobs=-1)]: Done 146 tasks      | elapsed:  1.1min\n",
      "[Parallel(n_jobs=-1)]: Done 205 tasks      | elapsed:  1.5min\n",
      "[Parallel(n_jobs=-1)]: Done 272 tasks      | elapsed:  2.0min\n",
      "[Parallel(n_jobs=-1)]: Done 349 tasks      | elapsed:  2.5min\n",
      "[Parallel(n_jobs=-1)]: Done 434 tasks      | elapsed:  3.1min\n",
      "[Parallel(n_jobs=-1)]: Done 500 out of 500 | elapsed:  3.6min finished\n"
     ]
    },
    {
     "name": "stdout",
     "output_type": "stream",
     "text": [
      "(2500000, 12)\n",
      "Chunk 4\n"
     ]
    },
    {
     "name": "stderr",
     "output_type": "stream",
     "text": [
      "[Parallel(n_jobs=-1)]: Done   2 tasks      | elapsed:    4.1s\n",
      "[Parallel(n_jobs=-1)]: Done  25 tasks      | elapsed:   13.3s\n",
      "[Parallel(n_jobs=-1)]: Done  56 tasks      | elapsed:   24.4s\n",
      "[Parallel(n_jobs=-1)]: Done  97 tasks      | elapsed:   43.9s\n",
      "[Parallel(n_jobs=-1)]: Done 146 tasks      | elapsed:  1.1min\n",
      "[Parallel(n_jobs=-1)]: Done 205 tasks      | elapsed:  1.5min\n",
      "[Parallel(n_jobs=-1)]: Done 272 tasks      | elapsed:  2.0min\n",
      "[Parallel(n_jobs=-1)]: Done 349 tasks      | elapsed:  2.6min\n",
      "[Parallel(n_jobs=-1)]: Done 434 tasks      | elapsed:  3.2min\n",
      "[Parallel(n_jobs=-1)]: Done 500 out of 500 | elapsed:  3.7min finished\n"
     ]
    },
    {
     "name": "stdout",
     "output_type": "stream",
     "text": [
      "(2500000, 12)\n",
      "Chunk 5\n"
     ]
    },
    {
     "name": "stderr",
     "output_type": "stream",
     "text": [
      "[Parallel(n_jobs=-1)]: Done   2 tasks      | elapsed:    3.7s\n",
      "[Parallel(n_jobs=-1)]: Done  25 tasks      | elapsed:   15.8s\n",
      "[Parallel(n_jobs=-1)]: Done  56 tasks      | elapsed:   28.9s\n",
      "[Parallel(n_jobs=-1)]: Done  97 tasks      | elapsed:   46.4s\n",
      "[Parallel(n_jobs=-1)]: Done 146 tasks      | elapsed:  1.1min\n",
      "[Parallel(n_jobs=-1)]: Done 205 tasks      | elapsed:  1.6min\n",
      "[Parallel(n_jobs=-1)]: Done 272 tasks      | elapsed:  2.1min\n",
      "[Parallel(n_jobs=-1)]: Done 349 tasks      | elapsed:  2.6min\n",
      "[Parallel(n_jobs=-1)]: Done 434 tasks      | elapsed:  3.3min\n",
      "[Parallel(n_jobs=-1)]: Done 500 out of 500 | elapsed:  3.7min finished\n"
     ]
    },
    {
     "name": "stdout",
     "output_type": "stream",
     "text": [
      "(2500000, 12)\n",
      "Chunk 6\n"
     ]
    },
    {
     "name": "stderr",
     "output_type": "stream",
     "text": [
      "[Parallel(n_jobs=-1)]: Done   2 tasks      | elapsed:    5.2s\n",
      "[Parallel(n_jobs=-1)]: Done  25 tasks      | elapsed:   16.8s\n",
      "[Parallel(n_jobs=-1)]: Done  56 tasks      | elapsed:   28.5s\n",
      "[Parallel(n_jobs=-1)]: Done  97 tasks      | elapsed:   48.6s\n",
      "[Parallel(n_jobs=-1)]: Done 146 tasks      | elapsed:  1.2min\n",
      "[Parallel(n_jobs=-1)]: Done 205 tasks      | elapsed:  1.7min\n",
      "[Parallel(n_jobs=-1)]: Done 272 tasks      | elapsed:  2.3min\n",
      "[Parallel(n_jobs=-1)]: Done 302 out of 302 | elapsed:  2.5min finished\n"
     ]
    },
    {
     "name": "stdout",
     "output_type": "stream",
     "text": [
      "(1510000, 12)\n"
     ]
    }
   ],
   "source": [
    "name = '/data/calidad_aire_presidencia/sinaica_mediciones_jsons/page_%i_sinaica_mediciones.json'\n",
    "\n",
    "c = 1\n",
    "\n",
    "for i, j in zip([1, 501, 1001, 1501, 2001, 2501], [501, 1001, 1501, 2001, 2501, 2803]):\n",
    "    print('Chunk', c)\n",
    "    aux_list = [name %n for n in range(i, j)]\n",
    "\n",
    "    sinaica_mediciones = Parallel(n_jobs=-1, verbose=8)(delayed (parse_mediciones_json)(f) for f in aux_list)\n",
    "\n",
    "    sinaica_mediciones = pd.concat(sinaica_mediciones, ignore_index=True)\n",
    "    print(sinaica_mediciones.shape)\n",
    "    sinaica_mediciones.to_csv('/data/calidad_aire_presidencia/sinaica_mediciones_csv/sinaica_mediciones_%i_%i.csv' %(i, j),\n",
    "                              index=False)\n",
    "    c+=1"
   ]
  },
  {
   "cell_type": "code",
   "execution_count": 2,
   "metadata": {
    "ExecuteTime": {
     "end_time": "2018-09-04T15:36:35.959935Z",
     "start_time": "2018-09-04T15:36:06.530060Z"
    }
   },
   "outputs": [
    {
     "name": "stdout",
     "output_type": "stream",
     "text": [
      "(14010000, 8)\n"
     ]
    },
    {
     "data": {
      "text/html": [
       "<div>\n",
       "<style scoped>\n",
       "    .dataframe tbody tr th:only-of-type {\n",
       "        vertical-align: middle;\n",
       "    }\n",
       "\n",
       "    .dataframe tbody tr th {\n",
       "        vertical-align: top;\n",
       "    }\n",
       "\n",
       "    .dataframe thead th {\n",
       "        text-align: right;\n",
       "    }\n",
       "</style>\n",
       "<table border=\"1\" class=\"dataframe\">\n",
       "  <thead>\n",
       "    <tr style=\"text-align: right;\">\n",
       "      <th></th>\n",
       "      <th>city</th>\n",
       "      <th>estacionesid</th>\n",
       "      <th>fecha</th>\n",
       "      <th>hora</th>\n",
       "      <th>parametro</th>\n",
       "      <th>state</th>\n",
       "      <th>validoorig</th>\n",
       "      <th>valororig</th>\n",
       "    </tr>\n",
       "  </thead>\n",
       "  <tbody>\n",
       "    <tr>\n",
       "      <th>0</th>\n",
       "      <td>Silao</td>\n",
       "      <td>80.0</td>\n",
       "      <td>2018-08-11</td>\n",
       "      <td>5.0</td>\n",
       "      <td>TMP</td>\n",
       "      <td>Guanajuato</td>\n",
       "      <td>1.0</td>\n",
       "      <td>19.475150</td>\n",
       "    </tr>\n",
       "    <tr>\n",
       "      <th>1</th>\n",
       "      <td>Celaya</td>\n",
       "      <td>70.0</td>\n",
       "      <td>2018-08-11</td>\n",
       "      <td>5.0</td>\n",
       "      <td>PM10</td>\n",
       "      <td>Guanajuato</td>\n",
       "      <td>1.0</td>\n",
       "      <td>45.210000</td>\n",
       "    </tr>\n",
       "    <tr>\n",
       "      <th>2</th>\n",
       "      <td>León</td>\n",
       "      <td>76.0</td>\n",
       "      <td>2018-08-11</td>\n",
       "      <td>4.0</td>\n",
       "      <td>TMP</td>\n",
       "      <td>Guanajuato</td>\n",
       "      <td>1.0</td>\n",
       "      <td>19.021433</td>\n",
       "    </tr>\n",
       "    <tr>\n",
       "      <th>3</th>\n",
       "      <td>Saltillo</td>\n",
       "      <td>304.0</td>\n",
       "      <td>2018-08-11</td>\n",
       "      <td>1.0</td>\n",
       "      <td>SO2</td>\n",
       "      <td>Coahuila</td>\n",
       "      <td>1.0</td>\n",
       "      <td>0.001632</td>\n",
       "    </tr>\n",
       "    <tr>\n",
       "      <th>4</th>\n",
       "      <td>Abasolo</td>\n",
       "      <td>356.0</td>\n",
       "      <td>2018-08-11</td>\n",
       "      <td>9.0</td>\n",
       "      <td>PM2.5</td>\n",
       "      <td>Guanajuato</td>\n",
       "      <td>1.0</td>\n",
       "      <td>16.067797</td>\n",
       "    </tr>\n",
       "  </tbody>\n",
       "</table>\n",
       "</div>"
      ],
      "text/plain": [
       "       city  estacionesid       fecha  hora parametro       state  validoorig  \\\n",
       "0     Silao          80.0  2018-08-11   5.0       TMP  Guanajuato         1.0   \n",
       "1    Celaya          70.0  2018-08-11   5.0      PM10  Guanajuato         1.0   \n",
       "2      León          76.0  2018-08-11   4.0       TMP  Guanajuato         1.0   \n",
       "3  Saltillo         304.0  2018-08-11   1.0       SO2    Coahuila         1.0   \n",
       "4   Abasolo         356.0  2018-08-11   9.0     PM2.5  Guanajuato         1.0   \n",
       "\n",
       "   valororig  \n",
       "0  19.475150  \n",
       "1  45.210000  \n",
       "2  19.021433  \n",
       "3   0.001632  \n",
       "4  16.067797  "
      ]
     },
     "execution_count": 2,
     "metadata": {},
     "output_type": "execute_result"
    }
   ],
   "source": [
    "all_data_mediciones = []\n",
    "for file in glob('/data/calidad_aire_presidencia/sinaica_mediciones_csv/*.csv'):\n",
    "    aux = pd.read_csv(file,\n",
    "                      usecols = ['estacionesid', 'fecha', 'hora', 'city', 'state',\n",
    "                                 'parametro', 'valororig', 'validoorig'])\n",
    "    all_data_mediciones.append(aux)\n",
    "    \n",
    "all_data_mediciones = pd.concat(all_data_mediciones)\n",
    "print(all_data_mediciones.shape)\n",
    "all_data_mediciones.head()"
   ]
  },
  {
   "cell_type": "code",
   "execution_count": 4,
   "metadata": {
    "ExecuteTime": {
     "end_time": "2018-09-04T15:36:58.811418Z",
     "start_time": "2018-09-04T15:36:56.613149Z"
    }
   },
   "outputs": [
    {
     "data": {
      "text/plain": [
       "count               14009995\n",
       "unique                  7072\n",
       "top       2018-05-19 0:00:00\n",
       "freq                   10271\n",
       "Name: fecha_hora, dtype: object"
      ]
     },
     "execution_count": 4,
     "metadata": {},
     "output_type": "execute_result"
    }
   ],
   "source": [
    "all_data_mediciones.hora.value_counts()"
   ]
  },
  {
   "cell_type": "code",
   "execution_count": 5,
   "metadata": {
    "ExecuteTime": {
     "end_time": "2018-09-04T15:38:07.041571Z",
     "start_time": "2018-09-04T15:37:09.278240Z"
    }
   },
   "outputs": [],
   "source": [
    "all_data_mediciones.to_csv('/data/calidad_aire_presidencia/data_mediciones_todas_estaciones.csv', index=False)"
   ]
  },
  {
   "cell_type": "markdown",
   "metadata": {},
   "source": [
    "# Segunda corrida (horas corregidas pero sólo 2018)"
   ]
  },
  {
   "cell_type": "code",
   "execution_count": 19,
   "metadata": {
    "ExecuteTime": {
     "end_time": "2018-09-04T22:15:55.724505Z",
     "start_time": "2018-09-04T22:15:55.695065Z"
    }
   },
   "outputs": [],
   "source": [
    "json_file = '/data/calidad_aire_presidencia/sinaica_mediciones_jsons_2/page_494_sinaica_mediciones.json'\n",
    "with open(json_file, 'r') as aux:\n",
    "    results = json.load(aux)"
   ]
  },
  {
   "cell_type": "code",
   "execution_count": 20,
   "metadata": {
    "ExecuteTime": {
     "end_time": "2018-09-04T22:21:38.033531Z",
     "start_time": "2018-09-04T22:16:11.984057Z"
    },
    "scrolled": true
   },
   "outputs": [
    {
     "name": "stdout",
     "output_type": "stream",
     "text": [
      "Chunk 1\n"
     ]
    },
    {
     "name": "stderr",
     "output_type": "stream",
     "text": [
      "[Parallel(n_jobs=-1)]: Done   2 tasks      | elapsed:    3.1s\n",
      "[Parallel(n_jobs=-1)]: Done  25 tasks      | elapsed:   12.8s\n",
      "[Parallel(n_jobs=-1)]: Done  56 tasks      | elapsed:   25.0s\n",
      "[Parallel(n_jobs=-1)]: Done  97 tasks      | elapsed:   45.3s\n",
      "[Parallel(n_jobs=-1)]: Done 146 tasks      | elapsed:  1.1min\n",
      "[Parallel(n_jobs=-1)]: Done 205 tasks      | elapsed:  1.6min\n",
      "[Parallel(n_jobs=-1)]: Done 272 tasks      | elapsed:  2.1min\n",
      "[Parallel(n_jobs=-1)]: Done 349 tasks      | elapsed:  2.8min\n",
      "[Parallel(n_jobs=-1)]: Done 434 tasks      | elapsed:  3.5min\n",
      "[Parallel(n_jobs=-1)]: Done 500 out of 500 | elapsed:  4.0min finished\n"
     ]
    },
    {
     "name": "stdout",
     "output_type": "stream",
     "text": [
      "(2500000, 12)\n",
      "Chunk 2\n"
     ]
    },
    {
     "name": "stderr",
     "output_type": "stream",
     "text": [
      "[Parallel(n_jobs=-1)]: Done   2 tasks      | elapsed:    5.1s\n",
      "[Parallel(n_jobs=-1)]: Done  25 tasks      | elapsed:   14.8s\n",
      "[Parallel(n_jobs=-1)]: Done  56 tasks      | elapsed:   29.1s\n",
      "[Parallel(n_jobs=-1)]: Done  97 tasks      | elapsed:   50.2s\n",
      "[Parallel(n_jobs=-1)]: Done 148 out of 148 | elapsed:  1.2min finished\n"
     ]
    },
    {
     "name": "stdout",
     "output_type": "stream",
     "text": [
      "(740000, 12)\n"
     ]
    }
   ],
   "source": [
    "name = '/data/calidad_aire_presidencia/sinaica_mediciones_jsons_2/page_%i_sinaica_mediciones.json'\n",
    "\n",
    "c = 1\n",
    "\n",
    "for i, j in zip([1, 501], [501, 649]):\n",
    "    print('Chunk', c)\n",
    "    aux_list = [name %n for n in range(i, j)]\n",
    "\n",
    "    sinaica_mediciones = Parallel(n_jobs=-1, verbose=8)(delayed (parse_mediciones_json)(f) for f in aux_list)\n",
    "\n",
    "    sinaica_mediciones = pd.concat(sinaica_mediciones, ignore_index=True)\n",
    "    print(sinaica_mediciones.shape)\n",
    "    sinaica_mediciones.to_csv('/data/calidad_aire_presidencia/sinaica_mediciones_csv_2/sinaica_mediciones_%i_%i.csv' %(i, j),\n",
    "                              index=False)\n",
    "    c+=1"
   ]
  },
  {
   "cell_type": "code",
   "execution_count": 21,
   "metadata": {
    "ExecuteTime": {
     "end_time": "2018-09-04T22:22:21.393325Z",
     "start_time": "2018-09-04T22:22:17.465883Z"
    }
   },
   "outputs": [
    {
     "name": "stdout",
     "output_type": "stream",
     "text": [
      "(3240000, 8)\n"
     ]
    },
    {
     "data": {
      "text/html": [
       "<div>\n",
       "<style scoped>\n",
       "    .dataframe tbody tr th:only-of-type {\n",
       "        vertical-align: middle;\n",
       "    }\n",
       "\n",
       "    .dataframe tbody tr th {\n",
       "        vertical-align: top;\n",
       "    }\n",
       "\n",
       "    .dataframe thead th {\n",
       "        text-align: right;\n",
       "    }\n",
       "</style>\n",
       "<table border=\"1\" class=\"dataframe\">\n",
       "  <thead>\n",
       "    <tr style=\"text-align: right;\">\n",
       "      <th></th>\n",
       "      <th>city</th>\n",
       "      <th>estacionesid</th>\n",
       "      <th>fecha</th>\n",
       "      <th>hora</th>\n",
       "      <th>parametro</th>\n",
       "      <th>state</th>\n",
       "      <th>validoorig</th>\n",
       "      <th>valororig</th>\n",
       "    </tr>\n",
       "  </thead>\n",
       "  <tbody>\n",
       "    <tr>\n",
       "      <th>0</th>\n",
       "      <td>Durango</td>\n",
       "      <td>58</td>\n",
       "      <td>2018-08-01</td>\n",
       "      <td>13</td>\n",
       "      <td>PM10</td>\n",
       "      <td>Durango</td>\n",
       "      <td>1</td>\n",
       "      <td>988.61</td>\n",
       "    </tr>\n",
       "    <tr>\n",
       "      <th>1</th>\n",
       "      <td>Durango</td>\n",
       "      <td>58</td>\n",
       "      <td>2018-08-01</td>\n",
       "      <td>14</td>\n",
       "      <td>PM10</td>\n",
       "      <td>Durango</td>\n",
       "      <td>1</td>\n",
       "      <td>988.61</td>\n",
       "    </tr>\n",
       "    <tr>\n",
       "      <th>2</th>\n",
       "      <td>Durango</td>\n",
       "      <td>58</td>\n",
       "      <td>2018-08-01</td>\n",
       "      <td>15</td>\n",
       "      <td>PM10</td>\n",
       "      <td>Durango</td>\n",
       "      <td>1</td>\n",
       "      <td>988.60</td>\n",
       "    </tr>\n",
       "    <tr>\n",
       "      <th>3</th>\n",
       "      <td>Durango</td>\n",
       "      <td>58</td>\n",
       "      <td>2018-08-01</td>\n",
       "      <td>16</td>\n",
       "      <td>PM10</td>\n",
       "      <td>Durango</td>\n",
       "      <td>1</td>\n",
       "      <td>988.63</td>\n",
       "    </tr>\n",
       "    <tr>\n",
       "      <th>4</th>\n",
       "      <td>Durango</td>\n",
       "      <td>58</td>\n",
       "      <td>2018-08-01</td>\n",
       "      <td>17</td>\n",
       "      <td>PM10</td>\n",
       "      <td>Durango</td>\n",
       "      <td>1</td>\n",
       "      <td>988.63</td>\n",
       "    </tr>\n",
       "  </tbody>\n",
       "</table>\n",
       "</div>"
      ],
      "text/plain": [
       "      city  estacionesid       fecha  hora parametro    state  validoorig  \\\n",
       "0  Durango            58  2018-08-01    13      PM10  Durango           1   \n",
       "1  Durango            58  2018-08-01    14      PM10  Durango           1   \n",
       "2  Durango            58  2018-08-01    15      PM10  Durango           1   \n",
       "3  Durango            58  2018-08-01    16      PM10  Durango           1   \n",
       "4  Durango            58  2018-08-01    17      PM10  Durango           1   \n",
       "\n",
       "   valororig  \n",
       "0     988.61  \n",
       "1     988.61  \n",
       "2     988.60  \n",
       "3     988.63  \n",
       "4     988.63  "
      ]
     },
     "execution_count": 21,
     "metadata": {},
     "output_type": "execute_result"
    }
   ],
   "source": [
    "all_data_mediciones = []\n",
    "for file in glob('/data/calidad_aire_presidencia/sinaica_mediciones_csv_2/*.csv'):\n",
    "    aux = pd.read_csv(file,\n",
    "                      usecols = ['estacionesid', 'fecha', 'hora', 'city', 'state',\n",
    "                                 'parametro', 'valororig', 'validoorig'])\n",
    "    all_data_mediciones.append(aux)\n",
    "    \n",
    "all_data_mediciones = pd.concat(all_data_mediciones)\n",
    "print(all_data_mediciones.shape)\n",
    "all_data_mediciones.head()"
   ]
  },
  {
   "cell_type": "code",
   "execution_count": 22,
   "metadata": {
    "ExecuteTime": {
     "end_time": "2018-09-04T22:22:29.881398Z",
     "start_time": "2018-09-04T22:22:29.846842Z"
    }
   },
   "outputs": [
    {
     "data": {
      "text/plain": [
       "123"
      ]
     },
     "execution_count": 22,
     "metadata": {},
     "output_type": "execute_result"
    }
   ],
   "source": [
    "all_data_mediciones.estacionesid.nunique()"
   ]
  },
  {
   "cell_type": "code",
   "execution_count": 23,
   "metadata": {
    "ExecuteTime": {
     "end_time": "2018-09-04T22:22:42.326725Z",
     "start_time": "2018-09-04T22:22:42.296554Z"
    }
   },
   "outputs": [
    {
     "data": {
      "text/plain": [
       "9     140201\n",
       "10    140097\n",
       "8     139461\n",
       "11    139188\n",
       "17    139004\n",
       "18    138913\n",
       "16    138733\n",
       "19    138639\n",
       "20    138600\n",
       "12    138533\n",
       "15    138433\n",
       "13    138380\n",
       "21    138138\n",
       "14    137879\n",
       "22    137833\n",
       "7     137731\n",
       "6     136910\n",
       "5     136227\n",
       "4     132581\n",
       "3     131681\n",
       "2     124890\n",
       "0     122954\n",
       "23    119612\n",
       "1     115382\n",
       "Name: hora, dtype: int64"
      ]
     },
     "execution_count": 23,
     "metadata": {},
     "output_type": "execute_result"
    }
   ],
   "source": [
    "all_data_mediciones.hora.value_counts()"
   ]
  },
  {
   "cell_type": "code",
   "execution_count": 24,
   "metadata": {
    "ExecuteTime": {
     "end_time": "2018-09-04T22:23:00.808478Z",
     "start_time": "2018-09-04T22:22:48.182716Z"
    }
   },
   "outputs": [],
   "source": [
    "# all_data_mediciones.to_csv('/data/calidad_aire_presidencia/data_mediciones_todas_estaciones_2.csv', index=False)"
   ]
  }
 ],
 "metadata": {
  "kernelspec": {
   "display_name": "Python 3",
   "language": "python",
   "name": "python3"
  },
  "language_info": {
   "codemirror_mode": {
    "name": "ipython",
    "version": 3
   },
   "file_extension": ".py",
   "mimetype": "text/x-python",
   "name": "python",
   "nbconvert_exporter": "python",
   "pygments_lexer": "ipython3",
   "version": "3.6.1"
  },
  "toc": {
   "nav_menu": {
    "height": "179.983px",
    "width": "215.549px"
   },
   "number_sections": true,
   "sideBar": true,
   "skip_h1_title": false,
   "title_cell": "Table of Contents",
   "title_sidebar": "Contents",
   "toc_cell": true,
   "toc_position": {},
   "toc_section_display": true,
   "toc_window_display": false
  }
 },
 "nbformat": 4,
 "nbformat_minor": 2
}
