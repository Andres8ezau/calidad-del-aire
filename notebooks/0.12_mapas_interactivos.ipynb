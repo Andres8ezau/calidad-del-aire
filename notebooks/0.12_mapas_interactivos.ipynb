{
 "cells": [
  {
   "cell_type": "markdown",
   "metadata": {
    "toc": true
   },
   "source": [
    "<h1>Table of Contents<span class=\"tocSkip\"></span></h1>\n",
    "<div class=\"toc\"><ul class=\"toc-item\"><li><span><a href=\"#Init-data\" data-toc-modified-id=\"Init-data-1\"><span class=\"toc-item-num\">1&nbsp;&nbsp;</span>Init data</a></span><ul class=\"toc-item\"><li><span><a href=\"#Estaciones\" data-toc-modified-id=\"Estaciones-1.1\"><span class=\"toc-item-num\">1.1&nbsp;&nbsp;</span>Estaciones</a></span></li><li><span><a href=\"#Data-Mediciones\" data-toc-modified-id=\"Data-Mediciones-1.2\"><span class=\"toc-item-num\">1.2&nbsp;&nbsp;</span>Data Mediciones</a></span></li></ul></li><li><span><a href=\"#Niveles-promedio-de-ozono-por-estación\" data-toc-modified-id=\"Niveles-promedio-de-ozono-por-estación-2\"><span class=\"toc-item-num\">2&nbsp;&nbsp;</span>Niveles promedio de ozono por estación</a></span><ul class=\"toc-item\"><li><span><a href=\"#Mplleaflet\" data-toc-modified-id=\"Mplleaflet-2.1\"><span class=\"toc-item-num\">2.1&nbsp;&nbsp;</span>Mplleaflet</a></span></li><li><span><a href=\"#Folium\" data-toc-modified-id=\"Folium-2.2\"><span class=\"toc-item-num\">2.2&nbsp;&nbsp;</span>Folium</a></span></li><li><span><a href=\"#Bokeh\" data-toc-modified-id=\"Bokeh-2.3\"><span class=\"toc-item-num\">2.3&nbsp;&nbsp;</span>Bokeh</a></span></li></ul></li></ul></div>"
   ]
  },
  {
   "cell_type": "code",
   "execution_count": 35,
   "metadata": {
    "ExecuteTime": {
     "end_time": "2018-09-17T20:26:34.699724Z",
     "start_time": "2018-09-17T20:26:34.601957Z"
    }
   },
   "outputs": [],
   "source": [
    "import pandas as pd\n",
    "import geopandas as gpd\n",
    "from joblib import Parallel, delayed\n",
    "import numpy as np\n",
    "import json\n",
    "from pathlib import Path\n",
    "import altair as alt\n",
    "from pandas.plotting import autocorrelation_plot\n",
    "import matplotlib.pyplot as plt\n",
    "import matplotlib as mpl\n",
    "import plotly.plotly as py\n",
    "import plotly.graph_objs as go\n",
    "import mplleaflet\n",
    "\n",
    "pd.options.mode.chained_assignment = None\n",
    "\n",
    "%matplotlib inline"
   ]
  },
  {
   "cell_type": "markdown",
   "metadata": {},
   "source": [
    "# Init data"
   ]
  },
  {
   "cell_type": "markdown",
   "metadata": {},
   "source": [
    "## Estaciones"
   ]
  },
  {
   "cell_type": "code",
   "execution_count": 2,
   "metadata": {
    "ExecuteTime": {
     "end_time": "2018-09-17T18:40:15.506887Z",
     "start_time": "2018-09-17T18:40:15.486547Z"
    }
   },
   "outputs": [
    {
     "name": "stdout",
     "output_type": "stream",
     "text": [
      "(180, 8)\n"
     ]
    },
    {
     "data": {
      "text/html": [
       "<div>\n",
       "<style scoped>\n",
       "    .dataframe tbody tr th:only-of-type {\n",
       "        vertical-align: middle;\n",
       "    }\n",
       "\n",
       "    .dataframe tbody tr th {\n",
       "        vertical-align: top;\n",
       "    }\n",
       "\n",
       "    .dataframe thead th {\n",
       "        text-align: right;\n",
       "    }\n",
       "</style>\n",
       "<table border=\"1\" class=\"dataframe\">\n",
       "  <thead>\n",
       "    <tr style=\"text-align: right;\">\n",
       "      <th></th>\n",
       "      <th>_id</th>\n",
       "      <th>lat</th>\n",
       "      <th>long</th>\n",
       "      <th>estacionesid</th>\n",
       "      <th>nombre</th>\n",
       "      <th>codigo</th>\n",
       "      <th>redesid</th>\n",
       "      <th>date-insert</th>\n",
       "    </tr>\n",
       "  </thead>\n",
       "  <tbody>\n",
       "    <tr>\n",
       "      <th>0</th>\n",
       "      <td>5b8850e3e2705c1932e82ff8</td>\n",
       "      <td>21.873311</td>\n",
       "      <td>-102.320803</td>\n",
       "      <td>31</td>\n",
       "      <td>CBTIS</td>\n",
       "      <td>CBT</td>\n",
       "      <td>30</td>\n",
       "      <td>2018-08-30 20:17:39.218</td>\n",
       "    </tr>\n",
       "    <tr>\n",
       "      <th>1</th>\n",
       "      <td>5b8850e3e2705c1932e82ff9</td>\n",
       "      <td>21.846392</td>\n",
       "      <td>-102.288431</td>\n",
       "      <td>32</td>\n",
       "      <td>Secretaría de Medio Ambiente</td>\n",
       "      <td>SMA</td>\n",
       "      <td>30</td>\n",
       "      <td>2018-08-30 20:17:39.218</td>\n",
       "    </tr>\n",
       "    <tr>\n",
       "      <th>2</th>\n",
       "      <td>5b8850e3e2705c1932e82ffa</td>\n",
       "      <td>21.883781</td>\n",
       "      <td>-102.295825</td>\n",
       "      <td>33</td>\n",
       "      <td>Centro</td>\n",
       "      <td>CEN</td>\n",
       "      <td>30</td>\n",
       "      <td>2018-08-30 20:17:39.218</td>\n",
       "    </tr>\n",
       "    <tr>\n",
       "      <th>3</th>\n",
       "      <td>5b8850e3e2705c1932e82ffb</td>\n",
       "      <td>31.859917</td>\n",
       "      <td>-116.593722</td>\n",
       "      <td>36</td>\n",
       "      <td>Secundaria</td>\n",
       "      <td>SPABC20</td>\n",
       "      <td>31</td>\n",
       "      <td>2018-08-30 20:17:39.218</td>\n",
       "    </tr>\n",
       "    <tr>\n",
       "      <th>4</th>\n",
       "      <td>5b8850e3e2705c1932e82ffc</td>\n",
       "      <td>32.631317</td>\n",
       "      <td>-115.444631</td>\n",
       "      <td>38</td>\n",
       "      <td>UABC</td>\n",
       "      <td>SPABC12</td>\n",
       "      <td>32</td>\n",
       "      <td>2018-08-30 20:17:39.218</td>\n",
       "    </tr>\n",
       "  </tbody>\n",
       "</table>\n",
       "</div>"
      ],
      "text/plain": [
       "                        _id        lat        long  estacionesid  \\\n",
       "0  5b8850e3e2705c1932e82ff8  21.873311 -102.320803            31   \n",
       "1  5b8850e3e2705c1932e82ff9  21.846392 -102.288431            32   \n",
       "2  5b8850e3e2705c1932e82ffa  21.883781 -102.295825            33   \n",
       "3  5b8850e3e2705c1932e82ffb  31.859917 -116.593722            36   \n",
       "4  5b8850e3e2705c1932e82ffc  32.631317 -115.444631            38   \n",
       "\n",
       "                         nombre   codigo  redesid              date-insert  \n",
       "0                        CBTIS       CBT       30  2018-08-30 20:17:39.218  \n",
       "1  Secretaría de Medio Ambiente      SMA       30  2018-08-30 20:17:39.218  \n",
       "2                        Centro      CEN       30  2018-08-30 20:17:39.218  \n",
       "3                    Secundaria  SPABC20       31  2018-08-30 20:17:39.218  \n",
       "4                          UABC  SPABC12       32  2018-08-30 20:17:39.218  "
      ]
     },
     "execution_count": 2,
     "metadata": {},
     "output_type": "execute_result"
    }
   ],
   "source": [
    "estaciones = pd.read_csv('/data/calidad_aire_presidencia/data_estaciones_sinaica.csv')\n",
    "mask = (estaciones.lat.between(14, 34.5)) & (estaciones.long.between(-120, -70))\n",
    "estaciones = estaciones[mask].rename(columns={'id':'estacionesid'})\n",
    "\n",
    "print(estaciones.shape)\n",
    "estaciones.head()"
   ]
  },
  {
   "cell_type": "markdown",
   "metadata": {},
   "source": [
    "## Data Mediciones"
   ]
  },
  {
   "cell_type": "code",
   "execution_count": 3,
   "metadata": {
    "ExecuteTime": {
     "end_time": "2018-09-17T18:40:18.357611Z",
     "start_time": "2018-09-17T18:40:16.580315Z"
    }
   },
   "outputs": [
    {
     "name": "stdout",
     "output_type": "stream",
     "text": [
      "(3240000, 8)\n"
     ]
    },
    {
     "data": {
      "text/html": [
       "<div>\n",
       "<style scoped>\n",
       "    .dataframe tbody tr th:only-of-type {\n",
       "        vertical-align: middle;\n",
       "    }\n",
       "\n",
       "    .dataframe tbody tr th {\n",
       "        vertical-align: top;\n",
       "    }\n",
       "\n",
       "    .dataframe thead th {\n",
       "        text-align: right;\n",
       "    }\n",
       "</style>\n",
       "<table border=\"1\" class=\"dataframe\">\n",
       "  <thead>\n",
       "    <tr style=\"text-align: right;\">\n",
       "      <th></th>\n",
       "      <th>city</th>\n",
       "      <th>estacionesid</th>\n",
       "      <th>fecha</th>\n",
       "      <th>hora</th>\n",
       "      <th>parametro</th>\n",
       "      <th>state</th>\n",
       "      <th>validoorig</th>\n",
       "      <th>valororig</th>\n",
       "    </tr>\n",
       "  </thead>\n",
       "  <tbody>\n",
       "    <tr>\n",
       "      <th>0</th>\n",
       "      <td>Durango</td>\n",
       "      <td>58</td>\n",
       "      <td>2018-08-01</td>\n",
       "      <td>13</td>\n",
       "      <td>PM10</td>\n",
       "      <td>Durango</td>\n",
       "      <td>1</td>\n",
       "      <td>988.61</td>\n",
       "    </tr>\n",
       "    <tr>\n",
       "      <th>1</th>\n",
       "      <td>Durango</td>\n",
       "      <td>58</td>\n",
       "      <td>2018-08-01</td>\n",
       "      <td>14</td>\n",
       "      <td>PM10</td>\n",
       "      <td>Durango</td>\n",
       "      <td>1</td>\n",
       "      <td>988.61</td>\n",
       "    </tr>\n",
       "    <tr>\n",
       "      <th>2</th>\n",
       "      <td>Durango</td>\n",
       "      <td>58</td>\n",
       "      <td>2018-08-01</td>\n",
       "      <td>15</td>\n",
       "      <td>PM10</td>\n",
       "      <td>Durango</td>\n",
       "      <td>1</td>\n",
       "      <td>988.60</td>\n",
       "    </tr>\n",
       "    <tr>\n",
       "      <th>3</th>\n",
       "      <td>Durango</td>\n",
       "      <td>58</td>\n",
       "      <td>2018-08-01</td>\n",
       "      <td>16</td>\n",
       "      <td>PM10</td>\n",
       "      <td>Durango</td>\n",
       "      <td>1</td>\n",
       "      <td>988.63</td>\n",
       "    </tr>\n",
       "    <tr>\n",
       "      <th>4</th>\n",
       "      <td>Durango</td>\n",
       "      <td>58</td>\n",
       "      <td>2018-08-01</td>\n",
       "      <td>17</td>\n",
       "      <td>PM10</td>\n",
       "      <td>Durango</td>\n",
       "      <td>1</td>\n",
       "      <td>988.63</td>\n",
       "    </tr>\n",
       "  </tbody>\n",
       "</table>\n",
       "</div>"
      ],
      "text/plain": [
       "      city  estacionesid       fecha  hora parametro    state  validoorig  \\\n",
       "0  Durango            58  2018-08-01    13      PM10  Durango           1   \n",
       "1  Durango            58  2018-08-01    14      PM10  Durango           1   \n",
       "2  Durango            58  2018-08-01    15      PM10  Durango           1   \n",
       "3  Durango            58  2018-08-01    16      PM10  Durango           1   \n",
       "4  Durango            58  2018-08-01    17      PM10  Durango           1   \n",
       "\n",
       "   valororig  \n",
       "0     988.61  \n",
       "1     988.61  \n",
       "2     988.60  \n",
       "3     988.63  \n",
       "4     988.63  "
      ]
     },
     "execution_count": 3,
     "metadata": {},
     "output_type": "execute_result"
    }
   ],
   "source": [
    "mediciones = pd.read_csv('/data/calidad_aire_presidencia/data_mediciones_todas_estaciones_2.csv')\n",
    "print(mediciones.shape)\n",
    "mediciones.head()"
   ]
  },
  {
   "cell_type": "code",
   "execution_count": 4,
   "metadata": {
    "ExecuteTime": {
     "end_time": "2018-09-17T18:40:18.807687Z",
     "start_time": "2018-09-17T18:40:18.359741Z"
    },
    "scrolled": true
   },
   "outputs": [
    {
     "name": "stdout",
     "output_type": "stream",
     "text": [
      "(123, 3)\n"
     ]
    },
    {
     "data": {
      "text/html": [
       "<div>\n",
       "<style scoped>\n",
       "    .dataframe tbody tr th:only-of-type {\n",
       "        vertical-align: middle;\n",
       "    }\n",
       "\n",
       "    .dataframe tbody tr th {\n",
       "        vertical-align: top;\n",
       "    }\n",
       "\n",
       "    .dataframe thead th {\n",
       "        text-align: right;\n",
       "    }\n",
       "</style>\n",
       "<table border=\"1\" class=\"dataframe\">\n",
       "  <thead>\n",
       "    <tr style=\"text-align: right;\">\n",
       "      <th></th>\n",
       "      <th>city</th>\n",
       "      <th>state</th>\n",
       "      <th>estacionesid</th>\n",
       "    </tr>\n",
       "  </thead>\n",
       "  <tbody>\n",
       "    <tr>\n",
       "      <th>0</th>\n",
       "      <td>Durango</td>\n",
       "      <td>Durango</td>\n",
       "      <td>58</td>\n",
       "    </tr>\n",
       "    <tr>\n",
       "      <th>6543</th>\n",
       "      <td>Durango</td>\n",
       "      <td>Durango</td>\n",
       "      <td>59</td>\n",
       "    </tr>\n",
       "    <tr>\n",
       "      <th>33554</th>\n",
       "      <td>Durango</td>\n",
       "      <td>Durango</td>\n",
       "      <td>60</td>\n",
       "    </tr>\n",
       "    <tr>\n",
       "      <th>65683</th>\n",
       "      <td>Gómez Palacio</td>\n",
       "      <td>Durango</td>\n",
       "      <td>65</td>\n",
       "    </tr>\n",
       "    <tr>\n",
       "      <th>80484</th>\n",
       "      <td>Celaya</td>\n",
       "      <td>Guanajuato</td>\n",
       "      <td>68</td>\n",
       "    </tr>\n",
       "  </tbody>\n",
       "</table>\n",
       "</div>"
      ],
      "text/plain": [
       "                city       state  estacionesid\n",
       "0            Durango     Durango            58\n",
       "6543         Durango     Durango            59\n",
       "33554        Durango     Durango            60\n",
       "65683  Gómez Palacio     Durango            65\n",
       "80484         Celaya  Guanajuato            68"
      ]
     },
     "execution_count": 4,
     "metadata": {},
     "output_type": "execute_result"
    }
   ],
   "source": [
    "estaciones_ciudad = mediciones[['city', 'state', 'estacionesid']].drop_duplicates()\n",
    "print(estaciones_ciudad.shape)\n",
    "estaciones_ciudad.head()"
   ]
  },
  {
   "cell_type": "code",
   "execution_count": 5,
   "metadata": {
    "ExecuteTime": {
     "end_time": "2018-09-17T18:40:18.814752Z",
     "start_time": "2018-09-17T18:40:18.809211Z"
    }
   },
   "outputs": [
    {
     "data": {
      "text/plain": [
       "city\n",
       "Valle de México    32\n",
       "Monterrey          11\n",
       "Guadalajara        10\n",
       "Toluca              6\n",
       "León                3\n",
       "Name: estacionesid, dtype: int64"
      ]
     },
     "execution_count": 5,
     "metadata": {},
     "output_type": "execute_result"
    }
   ],
   "source": [
    "estaciones_ciudad.groupby('city').estacionesid.nunique().sort_values(ascending=False).head()"
   ]
  },
  {
   "cell_type": "markdown",
   "metadata": {},
   "source": [
    "# Niveles promedio de ozono por estación"
   ]
  },
  {
   "cell_type": "code",
   "execution_count": 6,
   "metadata": {
    "ExecuteTime": {
     "end_time": "2018-09-17T18:40:55.384342Z",
     "start_time": "2018-09-17T18:40:54.896823Z"
    }
   },
   "outputs": [
    {
     "name": "stdout",
     "output_type": "stream",
     "text": [
      "(107, 8)\n"
     ]
    },
    {
     "data": {
      "text/html": [
       "<div>\n",
       "<style scoped>\n",
       "    .dataframe tbody tr th:only-of-type {\n",
       "        vertical-align: middle;\n",
       "    }\n",
       "\n",
       "    .dataframe tbody tr th {\n",
       "        vertical-align: top;\n",
       "    }\n",
       "\n",
       "    .dataframe thead th {\n",
       "        text-align: right;\n",
       "    }\n",
       "</style>\n",
       "<table border=\"1\" class=\"dataframe\">\n",
       "  <thead>\n",
       "    <tr style=\"text-align: right;\">\n",
       "      <th></th>\n",
       "      <th>estacionesid</th>\n",
       "      <th>valororig</th>\n",
       "      <th>num_registros</th>\n",
       "      <th>validoorig</th>\n",
       "      <th>lat</th>\n",
       "      <th>long</th>\n",
       "      <th>nombre</th>\n",
       "      <th>city</th>\n",
       "    </tr>\n",
       "  </thead>\n",
       "  <tbody>\n",
       "    <tr>\n",
       "      <th>0</th>\n",
       "      <td>33</td>\n",
       "      <td>0.290461</td>\n",
       "      <td>143</td>\n",
       "      <td>1</td>\n",
       "      <td>21.883781</td>\n",
       "      <td>-102.295825</td>\n",
       "      <td>Centro</td>\n",
       "      <td>Aguascalientes</td>\n",
       "    </tr>\n",
       "    <tr>\n",
       "      <th>1</th>\n",
       "      <td>38</td>\n",
       "      <td>0.039118</td>\n",
       "      <td>2</td>\n",
       "      <td>1</td>\n",
       "      <td>32.631317</td>\n",
       "      <td>-115.444631</td>\n",
       "      <td>UABC</td>\n",
       "      <td>Mexicali</td>\n",
       "    </tr>\n",
       "    <tr>\n",
       "      <th>2</th>\n",
       "      <td>39</td>\n",
       "      <td>0.017146</td>\n",
       "      <td>5858</td>\n",
       "      <td>1</td>\n",
       "      <td>32.639722</td>\n",
       "      <td>-115.506389</td>\n",
       "      <td>COBACH</td>\n",
       "      <td>Mexicali</td>\n",
       "    </tr>\n",
       "    <tr>\n",
       "      <th>3</th>\n",
       "      <td>41</td>\n",
       "      <td>0.010098</td>\n",
       "      <td>365</td>\n",
       "      <td>1</td>\n",
       "      <td>32.603639</td>\n",
       "      <td>-115.485944</td>\n",
       "      <td>CESPM</td>\n",
       "      <td>Mexicali</td>\n",
       "    </tr>\n",
       "    <tr>\n",
       "      <th>4</th>\n",
       "      <td>46</td>\n",
       "      <td>0.021328</td>\n",
       "      <td>9040</td>\n",
       "      <td>1</td>\n",
       "      <td>32.529461</td>\n",
       "      <td>-116.921281</td>\n",
       "      <td>Laboratorio</td>\n",
       "      <td>Tijuana</td>\n",
       "    </tr>\n",
       "  </tbody>\n",
       "</table>\n",
       "</div>"
      ],
      "text/plain": [
       "   estacionesid  valororig  num_registros  validoorig        lat        long  \\\n",
       "0            33   0.290461            143           1  21.883781 -102.295825   \n",
       "1            38   0.039118              2           1  32.631317 -115.444631   \n",
       "2            39   0.017146           5858           1  32.639722 -115.506389   \n",
       "3            41   0.010098            365           1  32.603639 -115.485944   \n",
       "4            46   0.021328           9040           1  32.529461 -116.921281   \n",
       "\n",
       "        nombre            city  \n",
       "0       Centro  Aguascalientes  \n",
       "1         UABC        Mexicali  \n",
       "2       COBACH        Mexicali  \n",
       "3        CESPM        Mexicali  \n",
       "4  Laboratorio         Tijuana  "
      ]
     },
     "execution_count": 6,
     "metadata": {},
     "output_type": "execute_result"
    }
   ],
   "source": [
    "medicion_contaminante = mediciones[mediciones.parametro=='O3']\n",
    "\n",
    "# De acuerdo al análisis anterior, es buena idea filtrar valores demasiado grandes. Vamos a usar\n",
    "# como filtro el mínimo valor de ozono para establecer calidad del aire muy mala según SEMARNAT que es 0.6 ppm\n",
    "medicion_contaminante = medicion_contaminante[medicion_contaminante.valororig.between(0, 0.7)]\n",
    "\n",
    "medicion_contaminante = medicion_contaminante.groupby('estacionesid').agg({'valororig':['mean', 'count'],\n",
    "                                                                           'validoorig':'mean'}).reset_index()\n",
    "medicion_contaminante.columns = ['estacionesid', 'valororig', 'num_registros', 'validoorig']\n",
    "\n",
    "medicion_contaminante = medicion_contaminante.merge(estaciones[['estacionesid', 'lat', 'long', 'nombre']],\n",
    "                                                    on='estacionesid')\n",
    "medicion_contaminante = medicion_contaminante.merge(mediciones[['estacionesid', 'city']].drop_duplicates(),\n",
    "                                                    on='estacionesid')\n",
    "\n",
    "print(medicion_contaminante.shape)\n",
    "medicion_contaminante.head()"
   ]
  },
  {
   "cell_type": "code",
   "execution_count": 7,
   "metadata": {
    "ExecuteTime": {
     "end_time": "2018-09-17T18:40:58.933516Z",
     "start_time": "2018-09-17T18:40:58.912096Z"
    },
    "scrolled": true
   },
   "outputs": [
    {
     "data": {
      "text/html": [
       "<div>\n",
       "<style scoped>\n",
       "    .dataframe tbody tr th:only-of-type {\n",
       "        vertical-align: middle;\n",
       "    }\n",
       "\n",
       "    .dataframe tbody tr th {\n",
       "        vertical-align: top;\n",
       "    }\n",
       "\n",
       "    .dataframe thead th {\n",
       "        text-align: right;\n",
       "    }\n",
       "</style>\n",
       "<table border=\"1\" class=\"dataframe\">\n",
       "  <thead>\n",
       "    <tr style=\"text-align: right;\">\n",
       "      <th></th>\n",
       "      <th>estacionesid</th>\n",
       "      <th>valororig</th>\n",
       "      <th>num_registros</th>\n",
       "      <th>validoorig</th>\n",
       "      <th>lat</th>\n",
       "      <th>long</th>\n",
       "    </tr>\n",
       "  </thead>\n",
       "  <tbody>\n",
       "    <tr>\n",
       "      <th>count</th>\n",
       "      <td>107.000000</td>\n",
       "      <td>107.000000</td>\n",
       "      <td>107.000000</td>\n",
       "      <td>107.0</td>\n",
       "      <td>107.000000</td>\n",
       "      <td>107.000000</td>\n",
       "    </tr>\n",
       "    <tr>\n",
       "      <th>mean</th>\n",
       "      <td>179.158879</td>\n",
       "      <td>0.031631</td>\n",
       "      <td>4905.056075</td>\n",
       "      <td>1.0</td>\n",
       "      <td>21.379544</td>\n",
       "      <td>-101.007031</td>\n",
       "    </tr>\n",
       "    <tr>\n",
       "      <th>std</th>\n",
       "      <td>105.218564</td>\n",
       "      <td>0.026933</td>\n",
       "      <td>2006.699035</td>\n",
       "      <td>0.0</td>\n",
       "      <td>3.218338</td>\n",
       "      <td>3.670120</td>\n",
       "    </tr>\n",
       "    <tr>\n",
       "      <th>min</th>\n",
       "      <td>33.000000</td>\n",
       "      <td>0.000000</td>\n",
       "      <td>2.000000</td>\n",
       "      <td>1.0</td>\n",
       "      <td>17.094667</td>\n",
       "      <td>-116.921281</td>\n",
       "    </tr>\n",
       "    <tr>\n",
       "      <th>25%</th>\n",
       "      <td>84.500000</td>\n",
       "      <td>0.024084</td>\n",
       "      <td>4174.000000</td>\n",
       "      <td>1.0</td>\n",
       "      <td>19.442569</td>\n",
       "      <td>-101.658056</td>\n",
       "    </tr>\n",
       "    <tr>\n",
       "      <th>50%</th>\n",
       "      <td>137.000000</td>\n",
       "      <td>0.030195</td>\n",
       "      <td>4887.000000</td>\n",
       "      <td>1.0</td>\n",
       "      <td>20.120556</td>\n",
       "      <td>-99.683489</td>\n",
       "    </tr>\n",
       "    <tr>\n",
       "      <th>75%</th>\n",
       "      <td>259.500000</td>\n",
       "      <td>0.034239</td>\n",
       "      <td>5740.500000</td>\n",
       "      <td>1.0</td>\n",
       "      <td>21.125694</td>\n",
       "      <td>-99.155694</td>\n",
       "    </tr>\n",
       "    <tr>\n",
       "      <th>max</th>\n",
       "      <td>427.000000</td>\n",
       "      <td>0.290461</td>\n",
       "      <td>10456.000000</td>\n",
       "      <td>1.0</td>\n",
       "      <td>32.639722</td>\n",
       "      <td>-89.624811</td>\n",
       "    </tr>\n",
       "  </tbody>\n",
       "</table>\n",
       "</div>"
      ],
      "text/plain": [
       "       estacionesid   valororig  num_registros  validoorig         lat  \\\n",
       "count    107.000000  107.000000     107.000000       107.0  107.000000   \n",
       "mean     179.158879    0.031631    4905.056075         1.0   21.379544   \n",
       "std      105.218564    0.026933    2006.699035         0.0    3.218338   \n",
       "min       33.000000    0.000000       2.000000         1.0   17.094667   \n",
       "25%       84.500000    0.024084    4174.000000         1.0   19.442569   \n",
       "50%      137.000000    0.030195    4887.000000         1.0   20.120556   \n",
       "75%      259.500000    0.034239    5740.500000         1.0   21.125694   \n",
       "max      427.000000    0.290461   10456.000000         1.0   32.639722   \n",
       "\n",
       "             long  \n",
       "count  107.000000  \n",
       "mean  -101.007031  \n",
       "std      3.670120  \n",
       "min   -116.921281  \n",
       "25%   -101.658056  \n",
       "50%    -99.683489  \n",
       "75%    -99.155694  \n",
       "max    -89.624811  "
      ]
     },
     "execution_count": 7,
     "metadata": {},
     "output_type": "execute_result"
    }
   ],
   "source": [
    "medicion_contaminante.describe()"
   ]
  },
  {
   "cell_type": "code",
   "execution_count": null,
   "metadata": {},
   "outputs": [],
   "source": [
    "mask = (medicion_contaminante.num_registros>2400)\n",
    "filtered_medicion = medicion_contaminante[mask]\n",
    "\n",
    "print(filtered_medicion.shape)\n",
    "filtered_medicion.head()"
   ]
  },
  {
   "cell_type": "code",
   "execution_count": 9,
   "metadata": {
    "ExecuteTime": {
     "end_time": "2018-09-17T18:41:07.706631Z",
     "start_time": "2018-09-17T18:41:07.662530Z"
    }
   },
   "outputs": [
    {
     "data": {
      "text/html": [
       "<div>\n",
       "<style scoped>\n",
       "    .dataframe tbody tr th:only-of-type {\n",
       "        vertical-align: middle;\n",
       "    }\n",
       "\n",
       "    .dataframe tbody tr th {\n",
       "        vertical-align: top;\n",
       "    }\n",
       "\n",
       "    .dataframe thead th {\n",
       "        text-align: right;\n",
       "    }\n",
       "</style>\n",
       "<table border=\"1\" class=\"dataframe\">\n",
       "  <thead>\n",
       "    <tr style=\"text-align: right;\">\n",
       "      <th></th>\n",
       "      <th>estacionesid</th>\n",
       "      <th>valororig</th>\n",
       "      <th>num_registros</th>\n",
       "      <th>validoorig</th>\n",
       "      <th>lat</th>\n",
       "      <th>long</th>\n",
       "    </tr>\n",
       "  </thead>\n",
       "  <tbody>\n",
       "    <tr>\n",
       "      <th>count</th>\n",
       "      <td>96.000000</td>\n",
       "      <td>96.000000</td>\n",
       "      <td>96.000000</td>\n",
       "      <td>96.0</td>\n",
       "      <td>96.000000</td>\n",
       "      <td>96.000000</td>\n",
       "    </tr>\n",
       "    <tr>\n",
       "      <th>mean</th>\n",
       "      <td>180.635417</td>\n",
       "      <td>0.029606</td>\n",
       "      <td>5346.187500</td>\n",
       "      <td>1.0</td>\n",
       "      <td>20.967580</td>\n",
       "      <td>-100.619271</td>\n",
       "    </tr>\n",
       "    <tr>\n",
       "      <th>std</th>\n",
       "      <td>99.778821</td>\n",
       "      <td>0.007263</td>\n",
       "      <td>1579.755113</td>\n",
       "      <td>0.0</td>\n",
       "      <td>2.840620</td>\n",
       "      <td>3.180649</td>\n",
       "    </tr>\n",
       "    <tr>\n",
       "      <th>min</th>\n",
       "      <td>39.000000</td>\n",
       "      <td>0.009592</td>\n",
       "      <td>2424.000000</td>\n",
       "      <td>1.0</td>\n",
       "      <td>17.094667</td>\n",
       "      <td>-116.921281</td>\n",
       "    </tr>\n",
       "    <tr>\n",
       "      <th>25%</th>\n",
       "      <td>89.250000</td>\n",
       "      <td>0.024368</td>\n",
       "      <td>4422.500000</td>\n",
       "      <td>1.0</td>\n",
       "      <td>19.401472</td>\n",
       "      <td>-101.380208</td>\n",
       "    </tr>\n",
       "    <tr>\n",
       "      <th>50%</th>\n",
       "      <td>137.500000</td>\n",
       "      <td>0.030665</td>\n",
       "      <td>4994.500000</td>\n",
       "      <td>1.0</td>\n",
       "      <td>19.956111</td>\n",
       "      <td>-99.568431</td>\n",
       "    </tr>\n",
       "    <tr>\n",
       "      <th>75%</th>\n",
       "      <td>259.250000</td>\n",
       "      <td>0.034222</td>\n",
       "      <td>5852.750000</td>\n",
       "      <td>1.0</td>\n",
       "      <td>20.694510</td>\n",
       "      <td>-99.117778</td>\n",
       "    </tr>\n",
       "    <tr>\n",
       "      <th>max</th>\n",
       "      <td>425.000000</td>\n",
       "      <td>0.046619</td>\n",
       "      <td>10456.000000</td>\n",
       "      <td>1.0</td>\n",
       "      <td>32.639722</td>\n",
       "      <td>-89.624811</td>\n",
       "    </tr>\n",
       "  </tbody>\n",
       "</table>\n",
       "</div>"
      ],
      "text/plain": [
       "       estacionesid  valororig  num_registros  validoorig        lat  \\\n",
       "count     96.000000  96.000000      96.000000        96.0  96.000000   \n",
       "mean     180.635417   0.029606    5346.187500         1.0  20.967580   \n",
       "std       99.778821   0.007263    1579.755113         0.0   2.840620   \n",
       "min       39.000000   0.009592    2424.000000         1.0  17.094667   \n",
       "25%       89.250000   0.024368    4422.500000         1.0  19.401472   \n",
       "50%      137.500000   0.030665    4994.500000         1.0  19.956111   \n",
       "75%      259.250000   0.034222    5852.750000         1.0  20.694510   \n",
       "max      425.000000   0.046619   10456.000000         1.0  32.639722   \n",
       "\n",
       "             long  \n",
       "count   96.000000  \n",
       "mean  -100.619271  \n",
       "std      3.180649  \n",
       "min   -116.921281  \n",
       "25%   -101.380208  \n",
       "50%    -99.568431  \n",
       "75%    -99.117778  \n",
       "max    -89.624811  "
      ]
     },
     "execution_count": 9,
     "metadata": {},
     "output_type": "execute_result"
    }
   ],
   "source": [
    "filtered_medicion.describe()"
   ]
  },
  {
   "cell_type": "markdown",
   "metadata": {},
   "source": [
    "## Folium"
   ]
  },
  {
   "cell_type": "code",
   "execution_count": 162,
   "metadata": {
    "ExecuteTime": {
     "end_time": "2018-09-17T21:32:27.451745Z",
     "start_time": "2018-09-17T21:32:27.446846Z"
    }
   },
   "outputs": [],
   "source": [
    "import folium\n",
    "from shapely.geometry import Point\n",
    "import branca.colormap as cm\n",
    "import matplotlib.cm as mtplb_cm\n",
    "import matplotlib.colors as mcolors"
   ]
  },
  {
   "cell_type": "code",
   "execution_count": 196,
   "metadata": {
    "ExecuteTime": {
     "end_time": "2018-09-17T21:54:05.602161Z",
     "start_time": "2018-09-17T21:54:05.454056Z"
    }
   },
   "outputs": [
    {
     "data": {
      "text/html": [
       "<div style=\"width:100%;\"><div style=\"position:relative;width:100%;height:0;padding-bottom:60%;\"><iframe src=\"data:text/html;charset=utf-8;base64,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\" style=\"position:absolute;width:100%;height:100%;left:0;top:0;border:none !important;\" allowfullscreen webkitallowfullscreen mozallowfullscreen></iframe></div></div>"
      ],
      "text/plain": [
       "<folium.folium.Map at 0x7fdc1db231d0>"
      ]
     },
     "execution_count": 196,
     "metadata": {},
     "output_type": "execute_result"
    }
   ],
   "source": [
    "centro_lat, centro_lon = 22.396092, -101.731430\n",
    "folium_map = folium.Map(location=[centro_lat, centro_lon], zoom_start=5)\n",
    "\n",
    "colormap = cm.LinearColormap(list(map(mcolors.to_hex, mtplb_cm.viridis.colors)),\n",
    "                             vmin=filtered_medicion.valororig.min(),\n",
    "                             vmax=filtered_medicion.valororig.max()).to_step(10)\n",
    "\n",
    "colormap.caption = 'Valor promedio de O3 por estacion'\n",
    "\n",
    "filtered_medicion['color'] = filtered_medicion.valororig.map(colormap)\n",
    "\n",
    "for i, row in filtered_medicion.iterrows():\n",
    "    \n",
    "    # generate the popup message that is shown on click.\n",
    "    popup_text = \"<b> Valor O3 promedio: </b> %.03f <br>\" %row.valororig\n",
    "    popup_text += f\" <b> Conteo de registros para O3: </b> {row.num_registros} <br> \\\n",
    "    <b> Nombre: </b> {row.nombre} <br> <b> Ciudad: </b> {row.city} <br>\"\n",
    "    \n",
    "    folium.CircleMarker(location=[row.lat, row.long], radius=4, tooltip=popup_text,\n",
    "                        color=row.color, fill=True, fill_opacity=0.6).add_to(folium_map)\n",
    "    \n",
    "folium_map.add_child(colormap)    \n",
    "\n",
    "# folium_map.save('../mapa_niveles_de_ozono_promedio_estaciones.html')\n",
    "\n",
    "folium_map"
   ]
  },
  {
   "cell_type": "code",
   "execution_count": 190,
   "metadata": {
    "ExecuteTime": {
     "end_time": "2018-09-17T21:50:12.831032Z",
     "start_time": "2018-09-17T21:50:12.808864Z"
    }
   },
   "outputs": [
    {
     "data": {
      "text/html": [
       "<div style=\"width:100%;\"><div style=\"position:relative;width:100%;height:0;padding-bottom:60%;\"><iframe src=\"data:text/html;charset=utf-8;base64,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\" style=\"position:absolute;width:100%;height:100%;left:0;top:0;border:none !important;\" allowfullscreen webkitallowfullscreen mozallowfullscreen></iframe></div></div>"
      ],
      "text/plain": [
       "<folium.folium.Map at 0x7fdc1dedf8d0>"
      ]
     },
     "execution_count": 190,
     "metadata": {},
     "output_type": "execute_result"
    }
   ],
   "source": [
    "from folium.plugins import HeatMap\n",
    "\n",
    "aux = filtered_medicion[filtered_medicion.city=='Valle de México']\n",
    "\n",
    "m = folium.Map(location=[aux.lat.median(), aux.long.median()], zoom_start=10,\n",
    "                        tiles=\"CartoDB positron\")\n",
    "\n",
    "HeatMap(aux[['lat', 'long', 'valororig']].values).add_to(m)\n",
    "\n",
    "m"
   ]
  },
  {
   "cell_type": "code",
   "execution_count": null,
   "metadata": {},
   "outputs": [],
   "source": []
  }
 ],
 "metadata": {
  "kernelspec": {
   "display_name": "Python 3",
   "language": "python",
   "name": "python3"
  },
  "language_info": {
   "codemirror_mode": {
    "name": "ipython",
    "version": 3
   },
   "file_extension": ".py",
   "mimetype": "text/x-python",
   "name": "python",
   "nbconvert_exporter": "python",
   "pygments_lexer": "ipython3",
   "version": "3.6.3"
  },
  "toc": {
   "nav_menu": {
    "height": "167.985px",
    "width": "384.987px"
   },
   "number_sections": true,
   "sideBar": true,
   "skip_h1_title": false,
   "title_cell": "Table of Contents",
   "title_sidebar": "Contents",
   "toc_cell": true,
   "toc_position": {},
   "toc_section_display": true,
   "toc_window_display": false
  }
 },
 "nbformat": 4,
 "nbformat_minor": 2
}
